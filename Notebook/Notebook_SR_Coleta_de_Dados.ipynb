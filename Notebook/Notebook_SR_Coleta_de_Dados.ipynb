{
  "nbformat": 4,
  "nbformat_minor": 0,
  "metadata": {
    "colab": {
      "name": "Notebook SR: Coleta de Dados.ipynb",
      "provenance": []
    },
    "kernelspec": {
      "name": "python3",
      "display_name": "Python 3"
    },
    "language_info": {
      "name": "python"
    }
  },
  "cells": [
    {
      "cell_type": "markdown",
      "metadata": {
        "id": "sWfdm8FwrmLh"
      },
      "source": [
        "## Etapa 2 - Coleta de dados\n",
        "\n",
        "Nesse notebook realizamos as requisições da API TMDB para bsucar os filmes já produzidos. Ao final, exportamos o dataframe gerado em um arquivo CSV, para serem utilizados nas etapas seguintes do projeto"
      ]
    },
    {
      "cell_type": "markdown",
      "metadata": {
        "id": "l9JhVZfYwFEz"
      },
      "source": [
        "#### Instalação de bibliotecas"
      ]
    },
    {
      "cell_type": "code",
      "metadata": {
        "colab": {
          "base_uri": "https://localhost:8080/"
        },
        "id": "B4RaYNlPwKJE",
        "outputId": "d732649e-016c-44ac-da3b-5aae0a3667a9"
      },
      "source": [
        "!pip install tmdbv3api"
      ],
      "execution_count": 135,
      "outputs": [
        {
          "output_type": "stream",
          "name": "stdout",
          "text": [
            "Requirement already satisfied: tmdbv3api in /usr/local/lib/python3.7/dist-packages (1.7.6)\n",
            "Requirement already satisfied: requests in /usr/local/lib/python3.7/dist-packages (from tmdbv3api) (2.23.0)\n",
            "Requirement already satisfied: certifi>=2017.4.17 in /usr/local/lib/python3.7/dist-packages (from requests->tmdbv3api) (2021.10.8)\n",
            "Requirement already satisfied: idna<3,>=2.5 in /usr/local/lib/python3.7/dist-packages (from requests->tmdbv3api) (2.10)\n",
            "Requirement already satisfied: chardet<4,>=3.0.2 in /usr/local/lib/python3.7/dist-packages (from requests->tmdbv3api) (3.0.4)\n",
            "Requirement already satisfied: urllib3!=1.25.0,!=1.25.1,<1.26,>=1.21.1 in /usr/local/lib/python3.7/dist-packages (from requests->tmdbv3api) (1.24.3)\n"
          ]
        }
      ]
    },
    {
      "cell_type": "markdown",
      "metadata": {
        "id": "ccA_DRiUsD5o"
      },
      "source": [
        "#### Importando Bibliotecas"
      ]
    },
    {
      "cell_type": "code",
      "metadata": {
        "id": "VFKqHv9AsHls"
      },
      "source": [
        "#Manipulação de dados\n",
        "import pandas as pd\n",
        "\n",
        "#biblioteca TMDB\n",
        "from tmdbv3api import Movie, TMDb\n",
        "\n",
        "#Requisição da API\n",
        "import requests\n",
        "\n",
        "#Tratamento do JSON\n",
        "import json"
      ],
      "execution_count": 136,
      "outputs": []
    },
    {
      "cell_type": "code",
      "metadata": {
        "id": "HxMG9HDLw_Iz"
      },
      "source": [
        "tmdb_movie = Movie()\n",
        "tmdb = TMDb()\n",
        "tmdb.api_key = \"7e53f15707185a92d9178f9f593be733\""
      ],
      "execution_count": 137,
      "outputs": []
    },
    {
      "cell_type": "code",
      "metadata": {
        "colab": {
          "base_uri": "https://localhost:8080/"
        },
        "id": "nrTM-8MvsX6i",
        "outputId": "385c8fa0-1eca-4f7d-b104-9fd4dceaae2d"
      },
      "source": [
        "df = pd.read_csv(\"movies_metadata.csv\")"
      ],
      "execution_count": 138,
      "outputs": [
        {
          "output_type": "stream",
          "name": "stderr",
          "text": [
            "/usr/local/lib/python3.7/dist-packages/IPython/core/interactiveshell.py:2718: DtypeWarning: Columns (10) have mixed types.Specify dtype option on import or set low_memory=False.\n",
            "  interactivity=interactivity, compiler=compiler, result=result)\n"
          ]
        }
      ]
    },
    {
      "cell_type": "code",
      "metadata": {
        "colab": {
          "base_uri": "https://localhost:8080/",
          "height": 134
        },
        "id": "Wkgob5FqtvV9",
        "outputId": "4ebd58c5-854b-42c3-f0d4-9b825d48a8ab"
      },
      "source": [
        "df.tail(1)"
      ],
      "execution_count": 139,
      "outputs": [
        {
          "output_type": "execute_result",
          "data": {
            "text/html": [
              "<div>\n",
              "<style scoped>\n",
              "    .dataframe tbody tr th:only-of-type {\n",
              "        vertical-align: middle;\n",
              "    }\n",
              "\n",
              "    .dataframe tbody tr th {\n",
              "        vertical-align: top;\n",
              "    }\n",
              "\n",
              "    .dataframe thead th {\n",
              "        text-align: right;\n",
              "    }\n",
              "</style>\n",
              "<table border=\"1\" class=\"dataframe\">\n",
              "  <thead>\n",
              "    <tr style=\"text-align: right;\">\n",
              "      <th></th>\n",
              "      <th>adult</th>\n",
              "      <th>belongs_to_collection</th>\n",
              "      <th>budget</th>\n",
              "      <th>genres</th>\n",
              "      <th>homepage</th>\n",
              "      <th>id</th>\n",
              "      <th>imdb_id</th>\n",
              "      <th>original_language</th>\n",
              "      <th>original_title</th>\n",
              "      <th>overview</th>\n",
              "      <th>popularity</th>\n",
              "      <th>poster_path</th>\n",
              "      <th>production_companies</th>\n",
              "      <th>production_countries</th>\n",
              "      <th>release_date</th>\n",
              "      <th>revenue</th>\n",
              "      <th>runtime</th>\n",
              "      <th>spoken_languages</th>\n",
              "      <th>status</th>\n",
              "      <th>tagline</th>\n",
              "      <th>title</th>\n",
              "      <th>video</th>\n",
              "      <th>vote_average</th>\n",
              "      <th>vote_count</th>\n",
              "    </tr>\n",
              "  </thead>\n",
              "  <tbody>\n",
              "    <tr>\n",
              "      <th>45465</th>\n",
              "      <td>False</td>\n",
              "      <td>NaN</td>\n",
              "      <td>0</td>\n",
              "      <td>[]</td>\n",
              "      <td>NaN</td>\n",
              "      <td>461257</td>\n",
              "      <td>tt6980792</td>\n",
              "      <td>en</td>\n",
              "      <td>Queerama</td>\n",
              "      <td>50 years after decriminalisation of homosexual...</td>\n",
              "      <td>0.163015</td>\n",
              "      <td>/s5UkZt6NTsrS7ZF0Rh8nzupRlIU.jpg</td>\n",
              "      <td>[]</td>\n",
              "      <td>[{'iso_3166_1': 'GB', 'name': 'United Kingdom'}]</td>\n",
              "      <td>2017-06-09</td>\n",
              "      <td>0.0</td>\n",
              "      <td>75.0</td>\n",
              "      <td>[{'iso_639_1': 'en', 'name': 'English'}]</td>\n",
              "      <td>Released</td>\n",
              "      <td>NaN</td>\n",
              "      <td>Queerama</td>\n",
              "      <td>False</td>\n",
              "      <td>0.0</td>\n",
              "      <td>0.0</td>\n",
              "    </tr>\n",
              "  </tbody>\n",
              "</table>\n",
              "</div>"
            ],
            "text/plain": [
              "       adult belongs_to_collection budget  ...  video vote_average vote_count\n",
              "45465  False                   NaN      0  ...  False          0.0        0.0\n",
              "\n",
              "[1 rows x 24 columns]"
            ]
          },
          "metadata": {},
          "execution_count": 139
        }
      ]
    },
    {
      "cell_type": "code",
      "metadata": {
        "colab": {
          "base_uri": "https://localhost:8080/"
        },
        "id": "GykJhOG_t9c-",
        "outputId": "236073c0-8e55-44a8-aecf-682be450c3c4"
      },
      "source": [
        "df.shape"
      ],
      "execution_count": 140,
      "outputs": [
        {
          "output_type": "execute_result",
          "data": {
            "text/plain": [
              "(45466, 24)"
            ]
          },
          "metadata": {},
          "execution_count": 140
        }
      ]
    },
    {
      "cell_type": "markdown",
      "metadata": {
        "id": "r4tF23UIypCS"
      },
      "source": [
        "#### Filmes do ano de 2018"
      ]
    },
    {
      "cell_type": "code",
      "metadata": {
        "id": "apvH_Dr7u43u"
      },
      "source": [
        "url = \"https://en.wikipedia.org/wiki/List_of_American_films_of_2018\""
      ],
      "execution_count": 141,
      "outputs": []
    },
    {
      "cell_type": "code",
      "metadata": {
        "colab": {
          "base_uri": "https://localhost:8080/"
        },
        "id": "pkWLTwX1y7yG",
        "outputId": "7ecfad2d-59e4-4851-bf83-dd661d95bd42"
      },
      "source": [
        "print(url)"
      ],
      "execution_count": 142,
      "outputs": [
        {
          "output_type": "stream",
          "name": "stdout",
          "text": [
            "https://en.wikipedia.org/wiki/List_of_American_films_of_2018\n"
          ]
        }
      ]
    },
    {
      "cell_type": "code",
      "metadata": {
        "id": "mdp3FiCjy9to"
      },
      "source": [
        "df1 = pd.read_html(url, header=0)[2]\n",
        "df2 = pd.read_html(url, header=0)[3]\n",
        "df3 = pd.read_html(url, header=0)[4]\n",
        "df4 = pd.read_html(url, header=0)[5]"
      ],
      "execution_count": 143,
      "outputs": []
    },
    {
      "cell_type": "code",
      "metadata": {
        "colab": {
          "base_uri": "https://localhost:8080/",
          "height": 289
        },
        "id": "BImPIfujzQOo",
        "outputId": "12c04da0-1675-43e2-c3df-62a810eaf1a7"
      },
      "source": [
        "df4.tail()"
      ],
      "execution_count": 144,
      "outputs": [
        {
          "output_type": "execute_result",
          "data": {
            "text/html": [
              "<div>\n",
              "<style scoped>\n",
              "    .dataframe tbody tr th:only-of-type {\n",
              "        vertical-align: middle;\n",
              "    }\n",
              "\n",
              "    .dataframe tbody tr th {\n",
              "        vertical-align: top;\n",
              "    }\n",
              "\n",
              "    .dataframe thead th {\n",
              "        text-align: right;\n",
              "    }\n",
              "</style>\n",
              "<table border=\"1\" class=\"dataframe\">\n",
              "  <thead>\n",
              "    <tr style=\"text-align: right;\">\n",
              "      <th></th>\n",
              "      <th>Opening</th>\n",
              "      <th>Opening.1</th>\n",
              "      <th>Title</th>\n",
              "      <th>Production company</th>\n",
              "      <th>Cast and crew</th>\n",
              "      <th>Ref.</th>\n",
              "    </tr>\n",
              "  </thead>\n",
              "  <tbody>\n",
              "    <tr>\n",
              "      <th>60</th>\n",
              "      <td>DECEMBER</td>\n",
              "      <td>25</td>\n",
              "      <td>Holmes &amp; Watson</td>\n",
              "      <td>Columbia Pictures / Gary Sanchez Productions</td>\n",
              "      <td>Etan Cohen (director/screenplay); Will Ferrell...</td>\n",
              "      <td>[163]</td>\n",
              "    </tr>\n",
              "    <tr>\n",
              "      <th>61</th>\n",
              "      <td>DECEMBER</td>\n",
              "      <td>25</td>\n",
              "      <td>Vice</td>\n",
              "      <td>Annapurna Pictures / Plan B Entertainment</td>\n",
              "      <td>Adam McKay (director/screenplay); Christian Ba...</td>\n",
              "      <td>[137]</td>\n",
              "    </tr>\n",
              "    <tr>\n",
              "      <th>62</th>\n",
              "      <td>DECEMBER</td>\n",
              "      <td>25</td>\n",
              "      <td>On the Basis of Sex</td>\n",
              "      <td>Focus Features</td>\n",
              "      <td>Mimi Leder (director); Daniel Stiepleman (scre...</td>\n",
              "      <td>[226]</td>\n",
              "    </tr>\n",
              "    <tr>\n",
              "      <th>63</th>\n",
              "      <td>DECEMBER</td>\n",
              "      <td>25</td>\n",
              "      <td>Destroyer</td>\n",
              "      <td>Annapurna Pictures</td>\n",
              "      <td>Karyn Kusama (director); Phil Hay, Matt Manfre...</td>\n",
              "      <td>[258]</td>\n",
              "    </tr>\n",
              "    <tr>\n",
              "      <th>64</th>\n",
              "      <td>DECEMBER</td>\n",
              "      <td>28</td>\n",
              "      <td>Black Mirror: Bandersnatch</td>\n",
              "      <td>Netflix</td>\n",
              "      <td>David Slade (director); Charlie Brooker (scree...</td>\n",
              "      <td>[259]</td>\n",
              "    </tr>\n",
              "  </tbody>\n",
              "</table>\n",
              "</div>"
            ],
            "text/plain": [
              "     Opening  ...   Ref.\n",
              "60  DECEMBER  ...  [163]\n",
              "61  DECEMBER  ...  [137]\n",
              "62  DECEMBER  ...  [226]\n",
              "63  DECEMBER  ...  [258]\n",
              "64  DECEMBER  ...  [259]\n",
              "\n",
              "[5 rows x 6 columns]"
            ]
          },
          "metadata": {},
          "execution_count": 144
        }
      ]
    },
    {
      "cell_type": "code",
      "metadata": {
        "id": "fbxSJJvXzb3i"
      },
      "source": [
        "df_2018 = df1.append(df2.append(df3.append(df4, ignore_index=True), ignore_index=True),ignore_index=True)"
      ],
      "execution_count": 145,
      "outputs": []
    },
    {
      "cell_type": "code",
      "metadata": {
        "colab": {
          "base_uri": "https://localhost:8080/",
          "height": 357
        },
        "id": "dMv--IjM0lsp",
        "outputId": "cab09f5a-6a9b-4022-f876-8c5c198f48ab"
      },
      "source": [
        "df_2018.tail()"
      ],
      "execution_count": 146,
      "outputs": [
        {
          "output_type": "execute_result",
          "data": {
            "text/html": [
              "<div>\n",
              "<style scoped>\n",
              "    .dataframe tbody tr th:only-of-type {\n",
              "        vertical-align: middle;\n",
              "    }\n",
              "\n",
              "    .dataframe tbody tr th {\n",
              "        vertical-align: top;\n",
              "    }\n",
              "\n",
              "    .dataframe thead th {\n",
              "        text-align: right;\n",
              "    }\n",
              "</style>\n",
              "<table border=\"1\" class=\"dataframe\">\n",
              "  <thead>\n",
              "    <tr style=\"text-align: right;\">\n",
              "      <th></th>\n",
              "      <th>Opening</th>\n",
              "      <th>Opening.1</th>\n",
              "      <th>Title</th>\n",
              "      <th>Production company</th>\n",
              "      <th>Cast and crew</th>\n",
              "      <th>.mw-parser-output .tooltip-dotted{border-bottom:1px dotted;cursor:help}Ref.</th>\n",
              "      <th>Ref.</th>\n",
              "    </tr>\n",
              "  </thead>\n",
              "  <tbody>\n",
              "    <tr>\n",
              "      <th>265</th>\n",
              "      <td>DECEMBER</td>\n",
              "      <td>25</td>\n",
              "      <td>Holmes &amp; Watson</td>\n",
              "      <td>Columbia Pictures / Gary Sanchez Productions</td>\n",
              "      <td>Etan Cohen (director/screenplay); Will Ferrell...</td>\n",
              "      <td>NaN</td>\n",
              "      <td>[163]</td>\n",
              "    </tr>\n",
              "    <tr>\n",
              "      <th>266</th>\n",
              "      <td>DECEMBER</td>\n",
              "      <td>25</td>\n",
              "      <td>Vice</td>\n",
              "      <td>Annapurna Pictures / Plan B Entertainment</td>\n",
              "      <td>Adam McKay (director/screenplay); Christian Ba...</td>\n",
              "      <td>NaN</td>\n",
              "      <td>[137]</td>\n",
              "    </tr>\n",
              "    <tr>\n",
              "      <th>267</th>\n",
              "      <td>DECEMBER</td>\n",
              "      <td>25</td>\n",
              "      <td>On the Basis of Sex</td>\n",
              "      <td>Focus Features</td>\n",
              "      <td>Mimi Leder (director); Daniel Stiepleman (scre...</td>\n",
              "      <td>NaN</td>\n",
              "      <td>[226]</td>\n",
              "    </tr>\n",
              "    <tr>\n",
              "      <th>268</th>\n",
              "      <td>DECEMBER</td>\n",
              "      <td>25</td>\n",
              "      <td>Destroyer</td>\n",
              "      <td>Annapurna Pictures</td>\n",
              "      <td>Karyn Kusama (director); Phil Hay, Matt Manfre...</td>\n",
              "      <td>NaN</td>\n",
              "      <td>[258]</td>\n",
              "    </tr>\n",
              "    <tr>\n",
              "      <th>269</th>\n",
              "      <td>DECEMBER</td>\n",
              "      <td>28</td>\n",
              "      <td>Black Mirror: Bandersnatch</td>\n",
              "      <td>Netflix</td>\n",
              "      <td>David Slade (director); Charlie Brooker (scree...</td>\n",
              "      <td>NaN</td>\n",
              "      <td>[259]</td>\n",
              "    </tr>\n",
              "  </tbody>\n",
              "</table>\n",
              "</div>"
            ],
            "text/plain": [
              "      Opening  ...   Ref.\n",
              "265  DECEMBER  ...  [163]\n",
              "266  DECEMBER  ...  [137]\n",
              "267  DECEMBER  ...  [226]\n",
              "268  DECEMBER  ...  [258]\n",
              "269  DECEMBER  ...  [259]\n",
              "\n",
              "[5 rows x 7 columns]"
            ]
          },
          "metadata": {},
          "execution_count": 146
        }
      ]
    },
    {
      "cell_type": "code",
      "metadata": {
        "id": "1v8WI8A60rf5"
      },
      "source": [
        "df_2018 = df_2018.filter([\"Title\", \"Openig\"], axis = 1)"
      ],
      "execution_count": 147,
      "outputs": []
    },
    {
      "cell_type": "code",
      "metadata": {
        "colab": {
          "base_uri": "https://localhost:8080/",
          "height": 204
        },
        "id": "kBE5fMgT1ceG",
        "outputId": "a0059c86-b62a-4e9a-e060-9c6d5d827cf5"
      },
      "source": [
        "df_2018.head()"
      ],
      "execution_count": 148,
      "outputs": [
        {
          "output_type": "execute_result",
          "data": {
            "text/html": [
              "<div>\n",
              "<style scoped>\n",
              "    .dataframe tbody tr th:only-of-type {\n",
              "        vertical-align: middle;\n",
              "    }\n",
              "\n",
              "    .dataframe tbody tr th {\n",
              "        vertical-align: top;\n",
              "    }\n",
              "\n",
              "    .dataframe thead th {\n",
              "        text-align: right;\n",
              "    }\n",
              "</style>\n",
              "<table border=\"1\" class=\"dataframe\">\n",
              "  <thead>\n",
              "    <tr style=\"text-align: right;\">\n",
              "      <th></th>\n",
              "      <th>Title</th>\n",
              "    </tr>\n",
              "  </thead>\n",
              "  <tbody>\n",
              "    <tr>\n",
              "      <th>0</th>\n",
              "      <td>Insidious: The Last Key</td>\n",
              "    </tr>\n",
              "    <tr>\n",
              "      <th>1</th>\n",
              "      <td>The Strange Ones</td>\n",
              "    </tr>\n",
              "    <tr>\n",
              "      <th>2</th>\n",
              "      <td>Stratton</td>\n",
              "    </tr>\n",
              "    <tr>\n",
              "      <th>3</th>\n",
              "      <td>Sweet Country</td>\n",
              "    </tr>\n",
              "    <tr>\n",
              "      <th>4</th>\n",
              "      <td>The Commuter</td>\n",
              "    </tr>\n",
              "  </tbody>\n",
              "</table>\n",
              "</div>"
            ],
            "text/plain": [
              "                     Title\n",
              "0  Insidious: The Last Key\n",
              "1         The Strange Ones\n",
              "2                 Stratton\n",
              "3            Sweet Country\n",
              "4             The Commuter"
            ]
          },
          "metadata": {},
          "execution_count": 148
        }
      ]
    },
    {
      "cell_type": "code",
      "metadata": {
        "colab": {
          "base_uri": "https://localhost:8080/"
        },
        "id": "zUsf96XC5mVL",
        "outputId": "867c750c-459e-40bf-bb78-f1487288efbb"
      },
      "source": [
        "df_2018.shape"
      ],
      "execution_count": 149,
      "outputs": [
        {
          "output_type": "execute_result",
          "data": {
            "text/plain": [
              "(270, 1)"
            ]
          },
          "metadata": {},
          "execution_count": 149
        }
      ]
    },
    {
      "cell_type": "code",
      "metadata": {
        "id": "-cBGFVjs5onj"
      },
      "source": [
        "def get_id_movie_id(title_movie):\n",
        "  result = tmdb_movie.search(title_movie)\n",
        "  movie_id = result[0].id\n",
        "  return movie_id"
      ],
      "execution_count": 150,
      "outputs": []
    },
    {
      "cell_type": "code",
      "metadata": {
        "id": "wDqZGo288EyT"
      },
      "source": [
        "df_2018[\"id\"] = df_2018[\"Title\"].map(lambda x: get_id_movie_id(str(x)))"
      ],
      "execution_count": 151,
      "outputs": []
    },
    {
      "cell_type": "code",
      "metadata": {
        "colab": {
          "base_uri": "https://localhost:8080/",
          "height": 204
        },
        "id": "U4DCN8RE8_VG",
        "outputId": "197b74e7-6a0a-482a-bf8c-02d227771269"
      },
      "source": [
        "df_2018.head()"
      ],
      "execution_count": 152,
      "outputs": [
        {
          "output_type": "execute_result",
          "data": {
            "text/html": [
              "<div>\n",
              "<style scoped>\n",
              "    .dataframe tbody tr th:only-of-type {\n",
              "        vertical-align: middle;\n",
              "    }\n",
              "\n",
              "    .dataframe tbody tr th {\n",
              "        vertical-align: top;\n",
              "    }\n",
              "\n",
              "    .dataframe thead th {\n",
              "        text-align: right;\n",
              "    }\n",
              "</style>\n",
              "<table border=\"1\" class=\"dataframe\">\n",
              "  <thead>\n",
              "    <tr style=\"text-align: right;\">\n",
              "      <th></th>\n",
              "      <th>Title</th>\n",
              "      <th>id</th>\n",
              "    </tr>\n",
              "  </thead>\n",
              "  <tbody>\n",
              "    <tr>\n",
              "      <th>0</th>\n",
              "      <td>Insidious: The Last Key</td>\n",
              "      <td>406563</td>\n",
              "    </tr>\n",
              "    <tr>\n",
              "      <th>1</th>\n",
              "      <td>The Strange Ones</td>\n",
              "      <td>426258</td>\n",
              "    </tr>\n",
              "    <tr>\n",
              "      <th>2</th>\n",
              "      <td>Stratton</td>\n",
              "      <td>348389</td>\n",
              "    </tr>\n",
              "    <tr>\n",
              "      <th>3</th>\n",
              "      <td>Sweet Country</td>\n",
              "      <td>468210</td>\n",
              "    </tr>\n",
              "    <tr>\n",
              "      <th>4</th>\n",
              "      <td>The Commuter</td>\n",
              "      <td>399035</td>\n",
              "    </tr>\n",
              "  </tbody>\n",
              "</table>\n",
              "</div>"
            ],
            "text/plain": [
              "                     Title      id\n",
              "0  Insidious: The Last Key  406563\n",
              "1         The Strange Ones  426258\n",
              "2                 Stratton  348389\n",
              "3            Sweet Country  468210\n",
              "4             The Commuter  399035"
            ]
          },
          "metadata": {},
          "execution_count": 152
        }
      ]
    },
    {
      "cell_type": "code",
      "metadata": {
        "id": "gARJhSOP-Ex4"
      },
      "source": [
        "df_2018.rename(columns={\"Title\":\"original_title\"}, inplace=True)"
      ],
      "execution_count": 153,
      "outputs": []
    },
    {
      "cell_type": "code",
      "metadata": {
        "colab": {
          "base_uri": "https://localhost:8080/",
          "height": 204
        },
        "id": "4nc-6XFA-by_",
        "outputId": "f046d61d-d800-40a0-889f-38ea6719ce91"
      },
      "source": [
        "df_2018.head()"
      ],
      "execution_count": 154,
      "outputs": [
        {
          "output_type": "execute_result",
          "data": {
            "text/html": [
              "<div>\n",
              "<style scoped>\n",
              "    .dataframe tbody tr th:only-of-type {\n",
              "        vertical-align: middle;\n",
              "    }\n",
              "\n",
              "    .dataframe tbody tr th {\n",
              "        vertical-align: top;\n",
              "    }\n",
              "\n",
              "    .dataframe thead th {\n",
              "        text-align: right;\n",
              "    }\n",
              "</style>\n",
              "<table border=\"1\" class=\"dataframe\">\n",
              "  <thead>\n",
              "    <tr style=\"text-align: right;\">\n",
              "      <th></th>\n",
              "      <th>original_title</th>\n",
              "      <th>id</th>\n",
              "    </tr>\n",
              "  </thead>\n",
              "  <tbody>\n",
              "    <tr>\n",
              "      <th>0</th>\n",
              "      <td>Insidious: The Last Key</td>\n",
              "      <td>406563</td>\n",
              "    </tr>\n",
              "    <tr>\n",
              "      <th>1</th>\n",
              "      <td>The Strange Ones</td>\n",
              "      <td>426258</td>\n",
              "    </tr>\n",
              "    <tr>\n",
              "      <th>2</th>\n",
              "      <td>Stratton</td>\n",
              "      <td>348389</td>\n",
              "    </tr>\n",
              "    <tr>\n",
              "      <th>3</th>\n",
              "      <td>Sweet Country</td>\n",
              "      <td>468210</td>\n",
              "    </tr>\n",
              "    <tr>\n",
              "      <th>4</th>\n",
              "      <td>The Commuter</td>\n",
              "      <td>399035</td>\n",
              "    </tr>\n",
              "  </tbody>\n",
              "</table>\n",
              "</div>"
            ],
            "text/plain": [
              "            original_title      id\n",
              "0  Insidious: The Last Key  406563\n",
              "1         The Strange Ones  426258\n",
              "2                 Stratton  348389\n",
              "3            Sweet Country  468210\n",
              "4             The Commuter  399035"
            ]
          },
          "metadata": {},
          "execution_count": 154
        }
      ]
    },
    {
      "cell_type": "markdown",
      "metadata": {
        "id": "l8x6fe5CFu5v"
      },
      "source": [
        "#### Filmes de 2019"
      ]
    },
    {
      "cell_type": "code",
      "metadata": {
        "id": "lVmOcEJc_EhK"
      },
      "source": [
        "url_2019 = \"https://en.wikipedia.org/wiki/List_of_American_films_of_2019\""
      ],
      "execution_count": 155,
      "outputs": []
    },
    {
      "cell_type": "code",
      "metadata": {
        "id": "tVOGS3RbF9xG"
      },
      "source": [
        "df1_2019 = pd.read_html(url_2019, header=0)[2]\n",
        "df2_2019 = pd.read_html(url_2019, header=0)[3]\n",
        "df3_2019 = pd.read_html(url_2019, header=0)[4]\n",
        "df4_2019 = pd.read_html(url_2019, header=0)[5]"
      ],
      "execution_count": 156,
      "outputs": []
    },
    {
      "cell_type": "code",
      "metadata": {
        "id": "6JTa-EGNG_hD"
      },
      "source": [
        "df_2019 = df1_2019.append(df2_2019.append(df3_2019.append(df4_2019, ignore_index=True),ignore_index=True),ignore_index=True)"
      ],
      "execution_count": 157,
      "outputs": []
    },
    {
      "cell_type": "code",
      "metadata": {
        "colab": {
          "base_uri": "https://localhost:8080/",
          "height": 289
        },
        "id": "qubCQYgtHddU",
        "outputId": "a161f78b-04eb-48f0-cbad-32e1a3d3a21b"
      },
      "source": [
        "df_2019.tail()"
      ],
      "execution_count": 158,
      "outputs": [
        {
          "output_type": "execute_result",
          "data": {
            "text/html": [
              "<div>\n",
              "<style scoped>\n",
              "    .dataframe tbody tr th:only-of-type {\n",
              "        vertical-align: middle;\n",
              "    }\n",
              "\n",
              "    .dataframe tbody tr th {\n",
              "        vertical-align: top;\n",
              "    }\n",
              "\n",
              "    .dataframe thead th {\n",
              "        text-align: right;\n",
              "    }\n",
              "</style>\n",
              "<table border=\"1\" class=\"dataframe\">\n",
              "  <thead>\n",
              "    <tr style=\"text-align: right;\">\n",
              "      <th></th>\n",
              "      <th>Opening</th>\n",
              "      <th>Opening.1</th>\n",
              "      <th>Title</th>\n",
              "      <th>Production company</th>\n",
              "      <th>Cast and crew</th>\n",
              "      <th>Ref.</th>\n",
              "    </tr>\n",
              "  </thead>\n",
              "  <tbody>\n",
              "    <tr>\n",
              "      <th>237</th>\n",
              "      <td>DECEMBER</td>\n",
              "      <td>25</td>\n",
              "      <td>Spies in Disguise</td>\n",
              "      <td>20th Century Fox / Blue Sky Studios / Chernin ...</td>\n",
              "      <td>Nick Bruno, Troy Quane (directors); Brad Copel...</td>\n",
              "      <td>[132]</td>\n",
              "    </tr>\n",
              "    <tr>\n",
              "      <th>238</th>\n",
              "      <td>DECEMBER</td>\n",
              "      <td>25</td>\n",
              "      <td>Little Women</td>\n",
              "      <td>Columbia Pictures / Regency Enterprises</td>\n",
              "      <td>Greta Gerwig (director/screenplay); Saoirse Ro...</td>\n",
              "      <td>[221]</td>\n",
              "    </tr>\n",
              "    <tr>\n",
              "      <th>239</th>\n",
              "      <td>DECEMBER</td>\n",
              "      <td>25</td>\n",
              "      <td>1917</td>\n",
              "      <td>Universal Pictures / DreamWorks Pictures</td>\n",
              "      <td>Sam Mendes (director/screenplay); Krysty Wilso...</td>\n",
              "      <td>[222]</td>\n",
              "    </tr>\n",
              "    <tr>\n",
              "      <th>240</th>\n",
              "      <td>DECEMBER</td>\n",
              "      <td>25</td>\n",
              "      <td>Just Mercy</td>\n",
              "      <td>Warner Bros. Pictures / Participant Media</td>\n",
              "      <td>Destin Daniel Cretton (director/screenplay), A...</td>\n",
              "      <td>[223]</td>\n",
              "    </tr>\n",
              "    <tr>\n",
              "      <th>241</th>\n",
              "      <td>DECEMBER</td>\n",
              "      <td>27</td>\n",
              "      <td>Clemency</td>\n",
              "      <td>Neon</td>\n",
              "      <td>Chinonye Chukwu (director/screenplay); Alfre W...</td>\n",
              "      <td>[224]</td>\n",
              "    </tr>\n",
              "  </tbody>\n",
              "</table>\n",
              "</div>"
            ],
            "text/plain": [
              "      Opening  ...   Ref.\n",
              "237  DECEMBER  ...  [132]\n",
              "238  DECEMBER  ...  [221]\n",
              "239  DECEMBER  ...  [222]\n",
              "240  DECEMBER  ...  [223]\n",
              "241  DECEMBER  ...  [224]\n",
              "\n",
              "[5 rows x 6 columns]"
            ]
          },
          "metadata": {},
          "execution_count": 158
        }
      ]
    },
    {
      "cell_type": "code",
      "metadata": {
        "id": "yeFKXlNrHnw9"
      },
      "source": [
        "df_2019 = df_2019.filter([\"Title\", \"Opening\"], axis=1)"
      ],
      "execution_count": 159,
      "outputs": []
    },
    {
      "cell_type": "code",
      "metadata": {
        "colab": {
          "base_uri": "https://localhost:8080/",
          "height": 204
        },
        "id": "-iGKi-p5H6TW",
        "outputId": "ce9d72dd-704a-4d3a-d1dd-22cc860614a3"
      },
      "source": [
        "df_2019.head()"
      ],
      "execution_count": 160,
      "outputs": [
        {
          "output_type": "execute_result",
          "data": {
            "text/html": [
              "<div>\n",
              "<style scoped>\n",
              "    .dataframe tbody tr th:only-of-type {\n",
              "        vertical-align: middle;\n",
              "    }\n",
              "\n",
              "    .dataframe tbody tr th {\n",
              "        vertical-align: top;\n",
              "    }\n",
              "\n",
              "    .dataframe thead th {\n",
              "        text-align: right;\n",
              "    }\n",
              "</style>\n",
              "<table border=\"1\" class=\"dataframe\">\n",
              "  <thead>\n",
              "    <tr style=\"text-align: right;\">\n",
              "      <th></th>\n",
              "      <th>Title</th>\n",
              "      <th>Opening</th>\n",
              "    </tr>\n",
              "  </thead>\n",
              "  <tbody>\n",
              "    <tr>\n",
              "      <th>0</th>\n",
              "      <td>Escape Room</td>\n",
              "      <td>JANUARY</td>\n",
              "    </tr>\n",
              "    <tr>\n",
              "      <th>1</th>\n",
              "      <td>Rust Creek</td>\n",
              "      <td>JANUARY</td>\n",
              "    </tr>\n",
              "    <tr>\n",
              "      <th>2</th>\n",
              "      <td>American Hangman</td>\n",
              "      <td>JANUARY</td>\n",
              "    </tr>\n",
              "    <tr>\n",
              "      <th>3</th>\n",
              "      <td>A Dog's Way Home</td>\n",
              "      <td>JANUARY</td>\n",
              "    </tr>\n",
              "    <tr>\n",
              "      <th>4</th>\n",
              "      <td>The Upside</td>\n",
              "      <td>JANUARY</td>\n",
              "    </tr>\n",
              "  </tbody>\n",
              "</table>\n",
              "</div>"
            ],
            "text/plain": [
              "              Title  Opening\n",
              "0       Escape Room  JANUARY\n",
              "1        Rust Creek  JANUARY\n",
              "2  American Hangman  JANUARY\n",
              "3  A Dog's Way Home  JANUARY\n",
              "4        The Upside  JANUARY"
            ]
          },
          "metadata": {},
          "execution_count": 160
        }
      ]
    },
    {
      "cell_type": "code",
      "metadata": {
        "id": "-LiQEYsfIfaX"
      },
      "source": [
        "df_2019[\"id\"] = df_2019[\"Title\"].map(lambda x: get_id_movie_id(str(x)))"
      ],
      "execution_count": 161,
      "outputs": []
    },
    {
      "cell_type": "code",
      "metadata": {
        "colab": {
          "base_uri": "https://localhost:8080/",
          "height": 204
        },
        "id": "XDhAjeMILjey",
        "outputId": "ddd7bd8b-f63a-4aa6-cc06-fb67f88c1594"
      },
      "source": [
        "df_2019.head()"
      ],
      "execution_count": 162,
      "outputs": [
        {
          "output_type": "execute_result",
          "data": {
            "text/html": [
              "<div>\n",
              "<style scoped>\n",
              "    .dataframe tbody tr th:only-of-type {\n",
              "        vertical-align: middle;\n",
              "    }\n",
              "\n",
              "    .dataframe tbody tr th {\n",
              "        vertical-align: top;\n",
              "    }\n",
              "\n",
              "    .dataframe thead th {\n",
              "        text-align: right;\n",
              "    }\n",
              "</style>\n",
              "<table border=\"1\" class=\"dataframe\">\n",
              "  <thead>\n",
              "    <tr style=\"text-align: right;\">\n",
              "      <th></th>\n",
              "      <th>Title</th>\n",
              "      <th>Opening</th>\n",
              "      <th>id</th>\n",
              "    </tr>\n",
              "  </thead>\n",
              "  <tbody>\n",
              "    <tr>\n",
              "      <th>0</th>\n",
              "      <td>Escape Room</td>\n",
              "      <td>JANUARY</td>\n",
              "      <td>522681</td>\n",
              "    </tr>\n",
              "    <tr>\n",
              "      <th>1</th>\n",
              "      <td>Rust Creek</td>\n",
              "      <td>JANUARY</td>\n",
              "      <td>561362</td>\n",
              "    </tr>\n",
              "    <tr>\n",
              "      <th>2</th>\n",
              "      <td>American Hangman</td>\n",
              "      <td>JANUARY</td>\n",
              "      <td>567738</td>\n",
              "    </tr>\n",
              "    <tr>\n",
              "      <th>3</th>\n",
              "      <td>A Dog's Way Home</td>\n",
              "      <td>JANUARY</td>\n",
              "      <td>508763</td>\n",
              "    </tr>\n",
              "    <tr>\n",
              "      <th>4</th>\n",
              "      <td>The Upside</td>\n",
              "      <td>JANUARY</td>\n",
              "      <td>440472</td>\n",
              "    </tr>\n",
              "  </tbody>\n",
              "</table>\n",
              "</div>"
            ],
            "text/plain": [
              "              Title  Opening      id\n",
              "0       Escape Room  JANUARY  522681\n",
              "1        Rust Creek  JANUARY  561362\n",
              "2  American Hangman  JANUARY  567738\n",
              "3  A Dog's Way Home  JANUARY  508763\n",
              "4        The Upside  JANUARY  440472"
            ]
          },
          "metadata": {},
          "execution_count": 162
        }
      ]
    },
    {
      "cell_type": "code",
      "metadata": {
        "id": "CMQORdlCMCbs"
      },
      "source": [
        "df_2019.drop(columns=[\"Opening\"], inplace=True)"
      ],
      "execution_count": 163,
      "outputs": []
    },
    {
      "cell_type": "code",
      "metadata": {
        "id": "Q1yuvf3kMOHD"
      },
      "source": [
        "df_2019.rename(columns={\"Title\":\"original_title\"}, inplace=True)"
      ],
      "execution_count": 164,
      "outputs": []
    },
    {
      "cell_type": "code",
      "metadata": {
        "colab": {
          "base_uri": "https://localhost:8080/",
          "height": 419
        },
        "id": "Oz8-LDJ-MkbJ",
        "outputId": "ec5a4a74-c1b7-4cdb-de20-e9607069f5d6"
      },
      "source": [
        "df_2019"
      ],
      "execution_count": 165,
      "outputs": [
        {
          "output_type": "execute_result",
          "data": {
            "text/html": [
              "<div>\n",
              "<style scoped>\n",
              "    .dataframe tbody tr th:only-of-type {\n",
              "        vertical-align: middle;\n",
              "    }\n",
              "\n",
              "    .dataframe tbody tr th {\n",
              "        vertical-align: top;\n",
              "    }\n",
              "\n",
              "    .dataframe thead th {\n",
              "        text-align: right;\n",
              "    }\n",
              "</style>\n",
              "<table border=\"1\" class=\"dataframe\">\n",
              "  <thead>\n",
              "    <tr style=\"text-align: right;\">\n",
              "      <th></th>\n",
              "      <th>original_title</th>\n",
              "      <th>id</th>\n",
              "    </tr>\n",
              "  </thead>\n",
              "  <tbody>\n",
              "    <tr>\n",
              "      <th>0</th>\n",
              "      <td>Escape Room</td>\n",
              "      <td>522681</td>\n",
              "    </tr>\n",
              "    <tr>\n",
              "      <th>1</th>\n",
              "      <td>Rust Creek</td>\n",
              "      <td>561362</td>\n",
              "    </tr>\n",
              "    <tr>\n",
              "      <th>2</th>\n",
              "      <td>American Hangman</td>\n",
              "      <td>567738</td>\n",
              "    </tr>\n",
              "    <tr>\n",
              "      <th>3</th>\n",
              "      <td>A Dog's Way Home</td>\n",
              "      <td>508763</td>\n",
              "    </tr>\n",
              "    <tr>\n",
              "      <th>4</th>\n",
              "      <td>The Upside</td>\n",
              "      <td>440472</td>\n",
              "    </tr>\n",
              "    <tr>\n",
              "      <th>...</th>\n",
              "      <td>...</td>\n",
              "      <td>...</td>\n",
              "    </tr>\n",
              "    <tr>\n",
              "      <th>237</th>\n",
              "      <td>Spies in Disguise</td>\n",
              "      <td>431693</td>\n",
              "    </tr>\n",
              "    <tr>\n",
              "      <th>238</th>\n",
              "      <td>Little Women</td>\n",
              "      <td>331482</td>\n",
              "    </tr>\n",
              "    <tr>\n",
              "      <th>239</th>\n",
              "      <td>1917</td>\n",
              "      <td>530915</td>\n",
              "    </tr>\n",
              "    <tr>\n",
              "      <th>240</th>\n",
              "      <td>Just Mercy</td>\n",
              "      <td>522212</td>\n",
              "    </tr>\n",
              "    <tr>\n",
              "      <th>241</th>\n",
              "      <td>Clemency</td>\n",
              "      <td>565307</td>\n",
              "    </tr>\n",
              "  </tbody>\n",
              "</table>\n",
              "<p>242 rows × 2 columns</p>\n",
              "</div>"
            ],
            "text/plain": [
              "        original_title      id\n",
              "0          Escape Room  522681\n",
              "1           Rust Creek  561362\n",
              "2     American Hangman  567738\n",
              "3     A Dog's Way Home  508763\n",
              "4           The Upside  440472\n",
              "..                 ...     ...\n",
              "237  Spies in Disguise  431693\n",
              "238       Little Women  331482\n",
              "239               1917  530915\n",
              "240         Just Mercy  522212\n",
              "241           Clemency  565307\n",
              "\n",
              "[242 rows x 2 columns]"
            ]
          },
          "metadata": {},
          "execution_count": 165
        }
      ]
    },
    {
      "cell_type": "markdown",
      "metadata": {
        "id": "al11YRiaSvU-"
      },
      "source": [
        "#### Filmes de 2020"
      ]
    },
    {
      "cell_type": "code",
      "metadata": {
        "id": "L7wNEMXaMlLj"
      },
      "source": [
        "url_2020 = \"https://en.wikipedia.org/wiki/List_of_American_films_of_2020\""
      ],
      "execution_count": 166,
      "outputs": []
    },
    {
      "cell_type": "code",
      "metadata": {
        "id": "flYnwmz1S_Y4"
      },
      "source": [
        "df1_2020 = pd.read_html(url_2020, header=0)[2]\n",
        "df2_2020 = pd.read_html(url_2020, header=0)[3]\n",
        "df3_2020 = pd.read_html(url_2020, header=0)[4]\n"
      ],
      "execution_count": 167,
      "outputs": []
    },
    {
      "cell_type": "code",
      "metadata": {
        "id": "vGvHn_x9TJk1"
      },
      "source": [
        "df_2020 = df1_2020.append(df2_2020.append(df3_2020,ignore_index=True),ignore_index=True)"
      ],
      "execution_count": 168,
      "outputs": []
    },
    {
      "cell_type": "code",
      "metadata": {
        "colab": {
          "base_uri": "https://localhost:8080/",
          "height": 513
        },
        "id": "X1n3JINXTShb",
        "outputId": "372e8464-45c7-4aa0-c5ad-10594345c2ca"
      },
      "source": [
        "df_2020.tail()"
      ],
      "execution_count": 169,
      "outputs": [
        {
          "output_type": "execute_result",
          "data": {
            "text/html": [
              "<div>\n",
              "<style scoped>\n",
              "    .dataframe tbody tr th:only-of-type {\n",
              "        vertical-align: middle;\n",
              "    }\n",
              "\n",
              "    .dataframe tbody tr th {\n",
              "        vertical-align: top;\n",
              "    }\n",
              "\n",
              "    .dataframe thead th {\n",
              "        text-align: right;\n",
              "    }\n",
              "</style>\n",
              "<table border=\"1\" class=\"dataframe\">\n",
              "  <thead>\n",
              "    <tr style=\"text-align: right;\">\n",
              "      <th></th>\n",
              "      <th>Rank</th>\n",
              "      <th>Title</th>\n",
              "      <th>Distributor</th>\n",
              "      <th>Domestic gross</th>\n",
              "      <th>Opening</th>\n",
              "      <th>Opening.1</th>\n",
              "      <th>Production company</th>\n",
              "      <th>Cast and crew</th>\n",
              "      <th>.mw-parser-output .tooltip-dotted{border-bottom:1px dotted;cursor:help}Ref.</th>\n",
              "      <th>Ref.</th>\n",
              "    </tr>\n",
              "  </thead>\n",
              "  <tbody>\n",
              "    <tr>\n",
              "      <th>106</th>\n",
              "      <td>NaN</td>\n",
              "      <td>Athlete A</td>\n",
              "      <td>NaN</td>\n",
              "      <td>NaN</td>\n",
              "      <td>JUNE</td>\n",
              "      <td>24.0</td>\n",
              "      <td>Netflix</td>\n",
              "      <td>Bonni Cohen, Jon Shenk (director)</td>\n",
              "      <td>NaN</td>\n",
              "      <td>[94]</td>\n",
              "    </tr>\n",
              "    <tr>\n",
              "      <th>107</th>\n",
              "      <td>NaN</td>\n",
              "      <td>Eurovision Song Contest: The Story of Fire Saga</td>\n",
              "      <td>NaN</td>\n",
              "      <td>NaN</td>\n",
              "      <td>JUNE</td>\n",
              "      <td>26.0</td>\n",
              "      <td>Netflix / Gary Sanchez Productions / Gloria Sa...</td>\n",
              "      <td>David Dobkin (director); Will Ferrell, Andrew ...</td>\n",
              "      <td>NaN</td>\n",
              "      <td>[95]</td>\n",
              "    </tr>\n",
              "    <tr>\n",
              "      <th>108</th>\n",
              "      <td>NaN</td>\n",
              "      <td>Irresistible</td>\n",
              "      <td>NaN</td>\n",
              "      <td>NaN</td>\n",
              "      <td>JUNE</td>\n",
              "      <td>26.0</td>\n",
              "      <td>Focus Features / Plan B Entertainment</td>\n",
              "      <td>Jon Stewart (director/screenplay); Steve Carel...</td>\n",
              "      <td>NaN</td>\n",
              "      <td>[96]</td>\n",
              "    </tr>\n",
              "    <tr>\n",
              "      <th>109</th>\n",
              "      <td>NaN</td>\n",
              "      <td>My Spy</td>\n",
              "      <td>NaN</td>\n",
              "      <td>NaN</td>\n",
              "      <td>JUNE</td>\n",
              "      <td>26.0</td>\n",
              "      <td>Amazon Studios / STX Films</td>\n",
              "      <td>Peter Segal (director); Jon Hoeber, Erich Hoeb...</td>\n",
              "      <td>NaN</td>\n",
              "      <td>[97]</td>\n",
              "    </tr>\n",
              "    <tr>\n",
              "      <th>110</th>\n",
              "      <td>NaN</td>\n",
              "      <td>We Bare Bears: The Movie</td>\n",
              "      <td>NaN</td>\n",
              "      <td>NaN</td>\n",
              "      <td>JUNE</td>\n",
              "      <td>26.0</td>\n",
              "      <td>Cartoon Network Studios</td>\n",
              "      <td>Daniel Chong (director); Mikey Heller, Kris Mu...</td>\n",
              "      <td>NaN</td>\n",
              "      <td>[98]</td>\n",
              "    </tr>\n",
              "  </tbody>\n",
              "</table>\n",
              "</div>"
            ],
            "text/plain": [
              "     Rank  ...  Ref.\n",
              "106   NaN  ...  [94]\n",
              "107   NaN  ...  [95]\n",
              "108   NaN  ...  [96]\n",
              "109   NaN  ...  [97]\n",
              "110   NaN  ...  [98]\n",
              "\n",
              "[5 rows x 10 columns]"
            ]
          },
          "metadata": {},
          "execution_count": 169
        }
      ]
    },
    {
      "cell_type": "code",
      "metadata": {
        "id": "T3q7QZ32TVtH"
      },
      "source": [
        "df_2020 = df_2020.filter([\"Title\", \"Opening\"], axis=1)"
      ],
      "execution_count": 170,
      "outputs": []
    },
    {
      "cell_type": "code",
      "metadata": {
        "colab": {
          "base_uri": "https://localhost:8080/",
          "height": 204
        },
        "id": "3mPbP0HtVSka",
        "outputId": "9c86bf70-6b56-4f41-beee-217dc34f43aa"
      },
      "source": [
        "df_2020.tail()"
      ],
      "execution_count": 171,
      "outputs": [
        {
          "output_type": "execute_result",
          "data": {
            "text/html": [
              "<div>\n",
              "<style scoped>\n",
              "    .dataframe tbody tr th:only-of-type {\n",
              "        vertical-align: middle;\n",
              "    }\n",
              "\n",
              "    .dataframe tbody tr th {\n",
              "        vertical-align: top;\n",
              "    }\n",
              "\n",
              "    .dataframe thead th {\n",
              "        text-align: right;\n",
              "    }\n",
              "</style>\n",
              "<table border=\"1\" class=\"dataframe\">\n",
              "  <thead>\n",
              "    <tr style=\"text-align: right;\">\n",
              "      <th></th>\n",
              "      <th>Title</th>\n",
              "      <th>Opening</th>\n",
              "    </tr>\n",
              "  </thead>\n",
              "  <tbody>\n",
              "    <tr>\n",
              "      <th>106</th>\n",
              "      <td>Athlete A</td>\n",
              "      <td>JUNE</td>\n",
              "    </tr>\n",
              "    <tr>\n",
              "      <th>107</th>\n",
              "      <td>Eurovision Song Contest: The Story of Fire Saga</td>\n",
              "      <td>JUNE</td>\n",
              "    </tr>\n",
              "    <tr>\n",
              "      <th>108</th>\n",
              "      <td>Irresistible</td>\n",
              "      <td>JUNE</td>\n",
              "    </tr>\n",
              "    <tr>\n",
              "      <th>109</th>\n",
              "      <td>My Spy</td>\n",
              "      <td>JUNE</td>\n",
              "    </tr>\n",
              "    <tr>\n",
              "      <th>110</th>\n",
              "      <td>We Bare Bears: The Movie</td>\n",
              "      <td>JUNE</td>\n",
              "    </tr>\n",
              "  </tbody>\n",
              "</table>\n",
              "</div>"
            ],
            "text/plain": [
              "                                               Title Opening\n",
              "106                                        Athlete A    JUNE\n",
              "107  Eurovision Song Contest: The Story of Fire Saga    JUNE\n",
              "108                                     Irresistible    JUNE\n",
              "109                                           My Spy    JUNE\n",
              "110                         We Bare Bears: The Movie    JUNE"
            ]
          },
          "metadata": {},
          "execution_count": 171
        }
      ]
    },
    {
      "cell_type": "code",
      "metadata": {
        "colab": {
          "base_uri": "https://localhost:8080/"
        },
        "id": "NVX74lOWVj4D",
        "outputId": "4ac261b4-42ce-4471-a1d6-7d4b8ce13fa5"
      },
      "source": [
        "type(df_2020)"
      ],
      "execution_count": 172,
      "outputs": [
        {
          "output_type": "execute_result",
          "data": {
            "text/plain": [
              "pandas.core.frame.DataFrame"
            ]
          },
          "metadata": {},
          "execution_count": 172
        }
      ]
    },
    {
      "cell_type": "code",
      "metadata": {
        "id": "aj2Dn-WsTdh5"
      },
      "source": [
        "df_2020[\"id\"] = df_2020[\"Title\"].map(lambda x: get_id_movie_id(str(x)))"
      ],
      "execution_count": 173,
      "outputs": []
    },
    {
      "cell_type": "code",
      "metadata": {
        "id": "mkQUmgOnTp9O"
      },
      "source": [
        "df_2020.drop(columns=[\"Opening\"], inplace=True)"
      ],
      "execution_count": 174,
      "outputs": []
    },
    {
      "cell_type": "code",
      "metadata": {
        "id": "_MZx5M7mYox7"
      },
      "source": [
        "df_2020.rename(columns={\"Title\":\"original_title\"}, inplace=True)"
      ],
      "execution_count": 175,
      "outputs": []
    },
    {
      "cell_type": "code",
      "metadata": {
        "colab": {
          "base_uri": "https://localhost:8080/",
          "height": 419
        },
        "id": "5CUB-EJvYsxQ",
        "outputId": "21fac343-66c9-4013-e53f-cb78ea92e1d3"
      },
      "source": [
        "df_2020"
      ],
      "execution_count": 176,
      "outputs": [
        {
          "output_type": "execute_result",
          "data": {
            "text/html": [
              "<div>\n",
              "<style scoped>\n",
              "    .dataframe tbody tr th:only-of-type {\n",
              "        vertical-align: middle;\n",
              "    }\n",
              "\n",
              "    .dataframe tbody tr th {\n",
              "        vertical-align: top;\n",
              "    }\n",
              "\n",
              "    .dataframe thead th {\n",
              "        text-align: right;\n",
              "    }\n",
              "</style>\n",
              "<table border=\"1\" class=\"dataframe\">\n",
              "  <thead>\n",
              "    <tr style=\"text-align: right;\">\n",
              "      <th></th>\n",
              "      <th>original_title</th>\n",
              "      <th>id</th>\n",
              "    </tr>\n",
              "  </thead>\n",
              "  <tbody>\n",
              "    <tr>\n",
              "      <th>0</th>\n",
              "      <td>Bad Boys for Life</td>\n",
              "      <td>38700</td>\n",
              "    </tr>\n",
              "    <tr>\n",
              "      <th>1</th>\n",
              "      <td>Sonic the Hedgehog</td>\n",
              "      <td>454626</td>\n",
              "    </tr>\n",
              "    <tr>\n",
              "      <th>2</th>\n",
              "      <td>Birds of Prey</td>\n",
              "      <td>495764</td>\n",
              "    </tr>\n",
              "    <tr>\n",
              "      <th>3</th>\n",
              "      <td>Dolittle</td>\n",
              "      <td>448119</td>\n",
              "    </tr>\n",
              "    <tr>\n",
              "      <th>4</th>\n",
              "      <td>The Invisible Man</td>\n",
              "      <td>570670</td>\n",
              "    </tr>\n",
              "    <tr>\n",
              "      <th>...</th>\n",
              "      <td>...</td>\n",
              "      <td>...</td>\n",
              "    </tr>\n",
              "    <tr>\n",
              "      <th>106</th>\n",
              "      <td>Athlete A</td>\n",
              "      <td>684700</td>\n",
              "    </tr>\n",
              "    <tr>\n",
              "      <th>107</th>\n",
              "      <td>Eurovision Song Contest: The Story of Fire Saga</td>\n",
              "      <td>531454</td>\n",
              "    </tr>\n",
              "    <tr>\n",
              "      <th>108</th>\n",
              "      <td>Irresistible</td>\n",
              "      <td>595148</td>\n",
              "    </tr>\n",
              "    <tr>\n",
              "      <th>109</th>\n",
              "      <td>My Spy</td>\n",
              "      <td>592834</td>\n",
              "    </tr>\n",
              "    <tr>\n",
              "      <th>110</th>\n",
              "      <td>We Bare Bears: The Movie</td>\n",
              "      <td>677638</td>\n",
              "    </tr>\n",
              "  </tbody>\n",
              "</table>\n",
              "<p>111 rows × 2 columns</p>\n",
              "</div>"
            ],
            "text/plain": [
              "                                      original_title      id\n",
              "0                                  Bad Boys for Life   38700\n",
              "1                                 Sonic the Hedgehog  454626\n",
              "2                                      Birds of Prey  495764\n",
              "3                                           Dolittle  448119\n",
              "4                                  The Invisible Man  570670\n",
              "..                                               ...     ...\n",
              "106                                        Athlete A  684700\n",
              "107  Eurovision Song Contest: The Story of Fire Saga  531454\n",
              "108                                     Irresistible  595148\n",
              "109                                           My Spy  592834\n",
              "110                         We Bare Bears: The Movie  677638\n",
              "\n",
              "[111 rows x 2 columns]"
            ]
          },
          "metadata": {},
          "execution_count": 176
        }
      ]
    },
    {
      "cell_type": "markdown",
      "metadata": {
        "id": "cqNfT7ZNYwRY"
      },
      "source": [
        "#### Filmes 2021"
      ]
    },
    {
      "cell_type": "code",
      "metadata": {
        "id": "W-RUS2WvYuKc"
      },
      "source": [
        "url_2021 = \"https://en.wikipedia.org/wiki/List_of_American_films_of_2021\""
      ],
      "execution_count": 177,
      "outputs": []
    },
    {
      "cell_type": "code",
      "metadata": {
        "id": "__EQ666JZIEG"
      },
      "source": [
        "df1_2021 = pd.read_html(url_2021, header=0)[2]\n",
        "df2_2021 = pd.read_html(url_2021, header=0)[3]\n",
        "df3_2021 = pd.read_html(url_2021, header=0)[4]\n",
        "df4_2021 = pd.read_html(url_2021, header=0)[5]"
      ],
      "execution_count": 178,
      "outputs": []
    },
    {
      "cell_type": "code",
      "metadata": {
        "id": "SWg0iujIZQhv"
      },
      "source": [
        "df_2021 = df1_2021.append(df2_2021.append(df3_2021.append(df4_2021, ignore_index=True),ignore_index=True),ignore_index=True)"
      ],
      "execution_count": 179,
      "outputs": []
    },
    {
      "cell_type": "code",
      "metadata": {
        "colab": {
          "base_uri": "https://localhost:8080/",
          "height": 357
        },
        "id": "jylzKsDRZgCF",
        "outputId": "2c60ed63-a790-4bcf-b6b9-ed6e8fa6ca05"
      },
      "source": [
        "df_2021.head()"
      ],
      "execution_count": 180,
      "outputs": [
        {
          "output_type": "execute_result",
          "data": {
            "text/html": [
              "<div>\n",
              "<style scoped>\n",
              "    .dataframe tbody tr th:only-of-type {\n",
              "        vertical-align: middle;\n",
              "    }\n",
              "\n",
              "    .dataframe tbody tr th {\n",
              "        vertical-align: top;\n",
              "    }\n",
              "\n",
              "    .dataframe thead th {\n",
              "        text-align: right;\n",
              "    }\n",
              "</style>\n",
              "<table border=\"1\" class=\"dataframe\">\n",
              "  <thead>\n",
              "    <tr style=\"text-align: right;\">\n",
              "      <th></th>\n",
              "      <th>Rank</th>\n",
              "      <th>Title</th>\n",
              "      <th>Distributor</th>\n",
              "      <th>Domestic gross</th>\n",
              "      <th>Opening</th>\n",
              "      <th>Opening.1</th>\n",
              "      <th>Production company</th>\n",
              "      <th>Cast and crew</th>\n",
              "      <th>.mw-parser-output .tooltip-dotted{border-bottom:1px dotted;cursor:help}Ref.</th>\n",
              "      <th>Ref.</th>\n",
              "    </tr>\n",
              "  </thead>\n",
              "  <tbody>\n",
              "    <tr>\n",
              "      <th>0</th>\n",
              "      <td>1.0</td>\n",
              "      <td>Shang-Chi and the Legend of the Ten Rings*</td>\n",
              "      <td>Disney</td>\n",
              "      <td>$224,394,704</td>\n",
              "      <td>NaN</td>\n",
              "      <td>NaN</td>\n",
              "      <td>NaN</td>\n",
              "      <td>NaN</td>\n",
              "      <td>NaN</td>\n",
              "      <td>NaN</td>\n",
              "    </tr>\n",
              "    <tr>\n",
              "      <th>1</th>\n",
              "      <td>2.0</td>\n",
              "      <td>Venom: Let There Be Carnage*</td>\n",
              "      <td>Sony</td>\n",
              "      <td>$202,707,190</td>\n",
              "      <td>NaN</td>\n",
              "      <td>NaN</td>\n",
              "      <td>NaN</td>\n",
              "      <td>NaN</td>\n",
              "      <td>NaN</td>\n",
              "      <td>NaN</td>\n",
              "    </tr>\n",
              "    <tr>\n",
              "      <th>2</th>\n",
              "      <td>3.0</td>\n",
              "      <td>Black Widow</td>\n",
              "      <td>Disney</td>\n",
              "      <td>$183,651,655</td>\n",
              "      <td>NaN</td>\n",
              "      <td>NaN</td>\n",
              "      <td>NaN</td>\n",
              "      <td>NaN</td>\n",
              "      <td>NaN</td>\n",
              "      <td>NaN</td>\n",
              "    </tr>\n",
              "    <tr>\n",
              "      <th>3</th>\n",
              "      <td>4.0</td>\n",
              "      <td>F9</td>\n",
              "      <td>Universal</td>\n",
              "      <td>$173,005,945</td>\n",
              "      <td>NaN</td>\n",
              "      <td>NaN</td>\n",
              "      <td>NaN</td>\n",
              "      <td>NaN</td>\n",
              "      <td>NaN</td>\n",
              "      <td>NaN</td>\n",
              "    </tr>\n",
              "    <tr>\n",
              "      <th>4</th>\n",
              "      <td>5.0</td>\n",
              "      <td>A Quiet Place Part II</td>\n",
              "      <td>Paramount</td>\n",
              "      <td>$160,215,261</td>\n",
              "      <td>NaN</td>\n",
              "      <td>NaN</td>\n",
              "      <td>NaN</td>\n",
              "      <td>NaN</td>\n",
              "      <td>NaN</td>\n",
              "      <td>NaN</td>\n",
              "    </tr>\n",
              "  </tbody>\n",
              "</table>\n",
              "</div>"
            ],
            "text/plain": [
              "   Rank  ... Ref.\n",
              "0   1.0  ...  NaN\n",
              "1   2.0  ...  NaN\n",
              "2   3.0  ...  NaN\n",
              "3   4.0  ...  NaN\n",
              "4   5.0  ...  NaN\n",
              "\n",
              "[5 rows x 10 columns]"
            ]
          },
          "metadata": {},
          "execution_count": 180
        }
      ]
    },
    {
      "cell_type": "code",
      "metadata": {
        "id": "rxoxdjHBZlOt"
      },
      "source": [
        "df_2021 = df_2021.filter([\"Title\", \"Opening\"], axis=1)"
      ],
      "execution_count": 181,
      "outputs": []
    },
    {
      "cell_type": "code",
      "metadata": {
        "id": "WAD7WYZvZywS"
      },
      "source": [
        "df_2021[\"id\"] = df_2021[\"Title\"].map(lambda x: get_id_movie_id(str(x)))"
      ],
      "execution_count": 182,
      "outputs": []
    },
    {
      "cell_type": "code",
      "metadata": {
        "colab": {
          "base_uri": "https://localhost:8080/",
          "height": 204
        },
        "id": "HN58N3cjZ5I1",
        "outputId": "2efdfa51-38d1-4b45-ebe9-9b89d69d9648"
      },
      "source": [
        "df_2021.head()"
      ],
      "execution_count": 183,
      "outputs": [
        {
          "output_type": "execute_result",
          "data": {
            "text/html": [
              "<div>\n",
              "<style scoped>\n",
              "    .dataframe tbody tr th:only-of-type {\n",
              "        vertical-align: middle;\n",
              "    }\n",
              "\n",
              "    .dataframe tbody tr th {\n",
              "        vertical-align: top;\n",
              "    }\n",
              "\n",
              "    .dataframe thead th {\n",
              "        text-align: right;\n",
              "    }\n",
              "</style>\n",
              "<table border=\"1\" class=\"dataframe\">\n",
              "  <thead>\n",
              "    <tr style=\"text-align: right;\">\n",
              "      <th></th>\n",
              "      <th>Title</th>\n",
              "      <th>Opening</th>\n",
              "      <th>id</th>\n",
              "    </tr>\n",
              "  </thead>\n",
              "  <tbody>\n",
              "    <tr>\n",
              "      <th>0</th>\n",
              "      <td>Shang-Chi and the Legend of the Ten Rings*</td>\n",
              "      <td>NaN</td>\n",
              "      <td>566525</td>\n",
              "    </tr>\n",
              "    <tr>\n",
              "      <th>1</th>\n",
              "      <td>Venom: Let There Be Carnage*</td>\n",
              "      <td>NaN</td>\n",
              "      <td>580489</td>\n",
              "    </tr>\n",
              "    <tr>\n",
              "      <th>2</th>\n",
              "      <td>Black Widow</td>\n",
              "      <td>NaN</td>\n",
              "      <td>497698</td>\n",
              "    </tr>\n",
              "    <tr>\n",
              "      <th>3</th>\n",
              "      <td>F9</td>\n",
              "      <td>NaN</td>\n",
              "      <td>385128</td>\n",
              "    </tr>\n",
              "    <tr>\n",
              "      <th>4</th>\n",
              "      <td>A Quiet Place Part II</td>\n",
              "      <td>NaN</td>\n",
              "      <td>520763</td>\n",
              "    </tr>\n",
              "  </tbody>\n",
              "</table>\n",
              "</div>"
            ],
            "text/plain": [
              "                                        Title Opening      id\n",
              "0  Shang-Chi and the Legend of the Ten Rings*     NaN  566525\n",
              "1                Venom: Let There Be Carnage*     NaN  580489\n",
              "2                                 Black Widow     NaN  497698\n",
              "3                                          F9     NaN  385128\n",
              "4                       A Quiet Place Part II     NaN  520763"
            ]
          },
          "metadata": {},
          "execution_count": 183
        }
      ]
    },
    {
      "cell_type": "code",
      "metadata": {
        "id": "No0RLUAabIR0"
      },
      "source": [
        "df_2021.drop(columns=[\"Opening\"], inplace=True)"
      ],
      "execution_count": 184,
      "outputs": []
    },
    {
      "cell_type": "code",
      "metadata": {
        "id": "6h3qdZ89a9NG"
      },
      "source": [
        "df_2021.rename(columns={\"Title\":\"original_title\"}, inplace=True)"
      ],
      "execution_count": 185,
      "outputs": []
    },
    {
      "cell_type": "code",
      "metadata": {
        "colab": {
          "base_uri": "https://localhost:8080/",
          "height": 204
        },
        "id": "wdU64rbAbMEk",
        "outputId": "4545ddcb-3909-4075-8241-676b381485e6"
      },
      "source": [
        "df_2021.head()"
      ],
      "execution_count": 186,
      "outputs": [
        {
          "output_type": "execute_result",
          "data": {
            "text/html": [
              "<div>\n",
              "<style scoped>\n",
              "    .dataframe tbody tr th:only-of-type {\n",
              "        vertical-align: middle;\n",
              "    }\n",
              "\n",
              "    .dataframe tbody tr th {\n",
              "        vertical-align: top;\n",
              "    }\n",
              "\n",
              "    .dataframe thead th {\n",
              "        text-align: right;\n",
              "    }\n",
              "</style>\n",
              "<table border=\"1\" class=\"dataframe\">\n",
              "  <thead>\n",
              "    <tr style=\"text-align: right;\">\n",
              "      <th></th>\n",
              "      <th>original_title</th>\n",
              "      <th>id</th>\n",
              "    </tr>\n",
              "  </thead>\n",
              "  <tbody>\n",
              "    <tr>\n",
              "      <th>0</th>\n",
              "      <td>Shang-Chi and the Legend of the Ten Rings*</td>\n",
              "      <td>566525</td>\n",
              "    </tr>\n",
              "    <tr>\n",
              "      <th>1</th>\n",
              "      <td>Venom: Let There Be Carnage*</td>\n",
              "      <td>580489</td>\n",
              "    </tr>\n",
              "    <tr>\n",
              "      <th>2</th>\n",
              "      <td>Black Widow</td>\n",
              "      <td>497698</td>\n",
              "    </tr>\n",
              "    <tr>\n",
              "      <th>3</th>\n",
              "      <td>F9</td>\n",
              "      <td>385128</td>\n",
              "    </tr>\n",
              "    <tr>\n",
              "      <th>4</th>\n",
              "      <td>A Quiet Place Part II</td>\n",
              "      <td>520763</td>\n",
              "    </tr>\n",
              "  </tbody>\n",
              "</table>\n",
              "</div>"
            ],
            "text/plain": [
              "                               original_title      id\n",
              "0  Shang-Chi and the Legend of the Ten Rings*  566525\n",
              "1                Venom: Let There Be Carnage*  580489\n",
              "2                                 Black Widow  497698\n",
              "3                                          F9  385128\n",
              "4                       A Quiet Place Part II  520763"
            ]
          },
          "metadata": {},
          "execution_count": 186
        }
      ]
    },
    {
      "cell_type": "markdown",
      "metadata": {
        "id": "9fCoO7ej72kn"
      },
      "source": [
        "### Concatenando"
      ]
    },
    {
      "cell_type": "code",
      "metadata": {
        "id": "G-7abet475Ta"
      },
      "source": [
        "listas_dfs = [df_2018, df_2019, df_2020, df_2021]"
      ],
      "execution_count": 187,
      "outputs": []
    },
    {
      "cell_type": "code",
      "metadata": {
        "id": "mrcjBHj-770W"
      },
      "source": [
        "dfs_concat = pd.concat(listas_dfs)"
      ],
      "execution_count": 188,
      "outputs": []
    },
    {
      "cell_type": "code",
      "metadata": {
        "colab": {
          "base_uri": "https://localhost:8080/"
        },
        "id": "bY3Fapes8OyW",
        "outputId": "1d244006-23fc-4246-b538-1c7377f1b37b"
      },
      "source": [
        "dfs_concat.shape"
      ],
      "execution_count": 189,
      "outputs": [
        {
          "output_type": "execute_result",
          "data": {
            "text/plain": [
              "(893, 2)"
            ]
          },
          "metadata": {},
          "execution_count": 189
        }
      ]
    },
    {
      "cell_type": "markdown",
      "metadata": {
        "id": "3h3wwlOY95zQ"
      },
      "source": [
        "### Conjunto de dados Keagle"
      ]
    },
    {
      "cell_type": "code",
      "metadata": {
        "id": "pN_x_18i8VDe"
      },
      "source": [
        "df_movies = pd.read_csv(\"/content/tmdb_5000_movies.csv\")"
      ],
      "execution_count": 190,
      "outputs": []
    },
    {
      "cell_type": "code",
      "metadata": {
        "colab": {
          "base_uri": "https://localhost:8080/",
          "height": 717
        },
        "id": "imtQOSkW-nt6",
        "outputId": "ad979b16-aa24-4ce5-b7fd-56f28576909a"
      },
      "source": [
        "df_movies.head()"
      ],
      "execution_count": 191,
      "outputs": [
        {
          "output_type": "execute_result",
          "data": {
            "text/html": [
              "<div>\n",
              "<style scoped>\n",
              "    .dataframe tbody tr th:only-of-type {\n",
              "        vertical-align: middle;\n",
              "    }\n",
              "\n",
              "    .dataframe tbody tr th {\n",
              "        vertical-align: top;\n",
              "    }\n",
              "\n",
              "    .dataframe thead th {\n",
              "        text-align: right;\n",
              "    }\n",
              "</style>\n",
              "<table border=\"1\" class=\"dataframe\">\n",
              "  <thead>\n",
              "    <tr style=\"text-align: right;\">\n",
              "      <th></th>\n",
              "      <th>budget</th>\n",
              "      <th>genres</th>\n",
              "      <th>homepage</th>\n",
              "      <th>id</th>\n",
              "      <th>keywords</th>\n",
              "      <th>original_language</th>\n",
              "      <th>original_title</th>\n",
              "      <th>overview</th>\n",
              "      <th>popularity</th>\n",
              "      <th>production_companies</th>\n",
              "      <th>production_countries</th>\n",
              "      <th>release_date</th>\n",
              "      <th>revenue</th>\n",
              "      <th>runtime</th>\n",
              "      <th>spoken_languages</th>\n",
              "      <th>status</th>\n",
              "      <th>tagline</th>\n",
              "      <th>title</th>\n",
              "      <th>vote_average</th>\n",
              "      <th>vote_count</th>\n",
              "    </tr>\n",
              "  </thead>\n",
              "  <tbody>\n",
              "    <tr>\n",
              "      <th>0</th>\n",
              "      <td>237000000</td>\n",
              "      <td>[{\"id\": 28, \"name\": \"Action\"}, {\"id\": 12, \"nam...</td>\n",
              "      <td>http://www.avatarmovie.com/</td>\n",
              "      <td>19995</td>\n",
              "      <td>[{\"id\": 1463, \"name\": \"culture clash\"}, {\"id\":...</td>\n",
              "      <td>en</td>\n",
              "      <td>Avatar</td>\n",
              "      <td>In the 22nd century, a paraplegic Marine is di...</td>\n",
              "      <td>150.437577</td>\n",
              "      <td>[{\"name\": \"Ingenious Film Partners\", \"id\": 289...</td>\n",
              "      <td>[{\"iso_3166_1\": \"US\", \"name\": \"United States o...</td>\n",
              "      <td>2009-12-10</td>\n",
              "      <td>2787965087</td>\n",
              "      <td>162.0</td>\n",
              "      <td>[{\"iso_639_1\": \"en\", \"name\": \"English\"}, {\"iso...</td>\n",
              "      <td>Released</td>\n",
              "      <td>Enter the World of Pandora.</td>\n",
              "      <td>Avatar</td>\n",
              "      <td>7.2</td>\n",
              "      <td>11800</td>\n",
              "    </tr>\n",
              "    <tr>\n",
              "      <th>1</th>\n",
              "      <td>300000000</td>\n",
              "      <td>[{\"id\": 12, \"name\": \"Adventure\"}, {\"id\": 14, \"...</td>\n",
              "      <td>http://disney.go.com/disneypictures/pirates/</td>\n",
              "      <td>285</td>\n",
              "      <td>[{\"id\": 270, \"name\": \"ocean\"}, {\"id\": 726, \"na...</td>\n",
              "      <td>en</td>\n",
              "      <td>Pirates of the Caribbean: At World's End</td>\n",
              "      <td>Captain Barbossa, long believed to be dead, ha...</td>\n",
              "      <td>139.082615</td>\n",
              "      <td>[{\"name\": \"Walt Disney Pictures\", \"id\": 2}, {\"...</td>\n",
              "      <td>[{\"iso_3166_1\": \"US\", \"name\": \"United States o...</td>\n",
              "      <td>2007-05-19</td>\n",
              "      <td>961000000</td>\n",
              "      <td>169.0</td>\n",
              "      <td>[{\"iso_639_1\": \"en\", \"name\": \"English\"}]</td>\n",
              "      <td>Released</td>\n",
              "      <td>At the end of the world, the adventure begins.</td>\n",
              "      <td>Pirates of the Caribbean: At World's End</td>\n",
              "      <td>6.9</td>\n",
              "      <td>4500</td>\n",
              "    </tr>\n",
              "    <tr>\n",
              "      <th>2</th>\n",
              "      <td>245000000</td>\n",
              "      <td>[{\"id\": 28, \"name\": \"Action\"}, {\"id\": 12, \"nam...</td>\n",
              "      <td>http://www.sonypictures.com/movies/spectre/</td>\n",
              "      <td>206647</td>\n",
              "      <td>[{\"id\": 470, \"name\": \"spy\"}, {\"id\": 818, \"name...</td>\n",
              "      <td>en</td>\n",
              "      <td>Spectre</td>\n",
              "      <td>A cryptic message from Bond’s past sends him o...</td>\n",
              "      <td>107.376788</td>\n",
              "      <td>[{\"name\": \"Columbia Pictures\", \"id\": 5}, {\"nam...</td>\n",
              "      <td>[{\"iso_3166_1\": \"GB\", \"name\": \"United Kingdom\"...</td>\n",
              "      <td>2015-10-26</td>\n",
              "      <td>880674609</td>\n",
              "      <td>148.0</td>\n",
              "      <td>[{\"iso_639_1\": \"fr\", \"name\": \"Fran\\u00e7ais\"},...</td>\n",
              "      <td>Released</td>\n",
              "      <td>A Plan No One Escapes</td>\n",
              "      <td>Spectre</td>\n",
              "      <td>6.3</td>\n",
              "      <td>4466</td>\n",
              "    </tr>\n",
              "    <tr>\n",
              "      <th>3</th>\n",
              "      <td>250000000</td>\n",
              "      <td>[{\"id\": 28, \"name\": \"Action\"}, {\"id\": 80, \"nam...</td>\n",
              "      <td>http://www.thedarkknightrises.com/</td>\n",
              "      <td>49026</td>\n",
              "      <td>[{\"id\": 849, \"name\": \"dc comics\"}, {\"id\": 853,...</td>\n",
              "      <td>en</td>\n",
              "      <td>The Dark Knight Rises</td>\n",
              "      <td>Following the death of District Attorney Harve...</td>\n",
              "      <td>112.312950</td>\n",
              "      <td>[{\"name\": \"Legendary Pictures\", \"id\": 923}, {\"...</td>\n",
              "      <td>[{\"iso_3166_1\": \"US\", \"name\": \"United States o...</td>\n",
              "      <td>2012-07-16</td>\n",
              "      <td>1084939099</td>\n",
              "      <td>165.0</td>\n",
              "      <td>[{\"iso_639_1\": \"en\", \"name\": \"English\"}]</td>\n",
              "      <td>Released</td>\n",
              "      <td>The Legend Ends</td>\n",
              "      <td>The Dark Knight Rises</td>\n",
              "      <td>7.6</td>\n",
              "      <td>9106</td>\n",
              "    </tr>\n",
              "    <tr>\n",
              "      <th>4</th>\n",
              "      <td>260000000</td>\n",
              "      <td>[{\"id\": 28, \"name\": \"Action\"}, {\"id\": 12, \"nam...</td>\n",
              "      <td>http://movies.disney.com/john-carter</td>\n",
              "      <td>49529</td>\n",
              "      <td>[{\"id\": 818, \"name\": \"based on novel\"}, {\"id\":...</td>\n",
              "      <td>en</td>\n",
              "      <td>John Carter</td>\n",
              "      <td>John Carter is a war-weary, former military ca...</td>\n",
              "      <td>43.926995</td>\n",
              "      <td>[{\"name\": \"Walt Disney Pictures\", \"id\": 2}]</td>\n",
              "      <td>[{\"iso_3166_1\": \"US\", \"name\": \"United States o...</td>\n",
              "      <td>2012-03-07</td>\n",
              "      <td>284139100</td>\n",
              "      <td>132.0</td>\n",
              "      <td>[{\"iso_639_1\": \"en\", \"name\": \"English\"}]</td>\n",
              "      <td>Released</td>\n",
              "      <td>Lost in our world, found in another.</td>\n",
              "      <td>John Carter</td>\n",
              "      <td>6.1</td>\n",
              "      <td>2124</td>\n",
              "    </tr>\n",
              "  </tbody>\n",
              "</table>\n",
              "</div>"
            ],
            "text/plain": [
              "      budget  ... vote_count\n",
              "0  237000000  ...      11800\n",
              "1  300000000  ...       4500\n",
              "2  245000000  ...       4466\n",
              "3  250000000  ...       9106\n",
              "4  260000000  ...       2124\n",
              "\n",
              "[5 rows x 20 columns]"
            ]
          },
          "metadata": {},
          "execution_count": 191
        }
      ]
    },
    {
      "cell_type": "markdown",
      "metadata": {
        "id": "zyPGS3xwBAIy"
      },
      "source": [
        "## Genero"
      ]
    },
    {
      "cell_type": "code",
      "metadata": {
        "colab": {
          "base_uri": "https://localhost:8080/",
          "height": 204
        },
        "id": "vzFTE0O6-sok",
        "outputId": "47f7040b-9023-4321-9ce1-e69e69e4ab2c"
      },
      "source": [
        "dfs_concat.head()"
      ],
      "execution_count": 192,
      "outputs": [
        {
          "output_type": "execute_result",
          "data": {
            "text/html": [
              "<div>\n",
              "<style scoped>\n",
              "    .dataframe tbody tr th:only-of-type {\n",
              "        vertical-align: middle;\n",
              "    }\n",
              "\n",
              "    .dataframe tbody tr th {\n",
              "        vertical-align: top;\n",
              "    }\n",
              "\n",
              "    .dataframe thead th {\n",
              "        text-align: right;\n",
              "    }\n",
              "</style>\n",
              "<table border=\"1\" class=\"dataframe\">\n",
              "  <thead>\n",
              "    <tr style=\"text-align: right;\">\n",
              "      <th></th>\n",
              "      <th>original_title</th>\n",
              "      <th>id</th>\n",
              "    </tr>\n",
              "  </thead>\n",
              "  <tbody>\n",
              "    <tr>\n",
              "      <th>0</th>\n",
              "      <td>Insidious: The Last Key</td>\n",
              "      <td>406563</td>\n",
              "    </tr>\n",
              "    <tr>\n",
              "      <th>1</th>\n",
              "      <td>The Strange Ones</td>\n",
              "      <td>426258</td>\n",
              "    </tr>\n",
              "    <tr>\n",
              "      <th>2</th>\n",
              "      <td>Stratton</td>\n",
              "      <td>348389</td>\n",
              "    </tr>\n",
              "    <tr>\n",
              "      <th>3</th>\n",
              "      <td>Sweet Country</td>\n",
              "      <td>468210</td>\n",
              "    </tr>\n",
              "    <tr>\n",
              "      <th>4</th>\n",
              "      <td>The Commuter</td>\n",
              "      <td>399035</td>\n",
              "    </tr>\n",
              "  </tbody>\n",
              "</table>\n",
              "</div>"
            ],
            "text/plain": [
              "            original_title      id\n",
              "0  Insidious: The Last Key  406563\n",
              "1         The Strange Ones  426258\n",
              "2                 Stratton  348389\n",
              "3            Sweet Country  468210\n",
              "4             The Commuter  399035"
            ]
          },
          "metadata": {},
          "execution_count": 192
        }
      ]
    },
    {
      "cell_type": "code",
      "metadata": {
        "id": "TrWvgxtPBFs5"
      },
      "source": [
        "def get_genres(movie_id):\n",
        "  response = requests.get(\"https://api.themoviedb.org/3/movie/{}?api_key={}\".format(movie_id, tmdb.api_key))\n",
        "  data_json = response.json()\n",
        "  return data_json[\"genres\"]"
      ],
      "execution_count": 193,
      "outputs": []
    },
    {
      "cell_type": "code",
      "metadata": {
        "id": "7W2h01yrB8G7"
      },
      "source": [
        "dfs_concat[\"genres\"] = dfs_concat[\"id\"].map(lambda x: get_genres(str(x)))"
      ],
      "execution_count": 194,
      "outputs": []
    },
    {
      "cell_type": "code",
      "metadata": {
        "colab": {
          "base_uri": "https://localhost:8080/",
          "height": 204
        },
        "id": "5KeyZxIsHH0b",
        "outputId": "d3da60f6-b268-49cc-b175-f3140aeed165"
      },
      "source": [
        "dfs_concat.head()"
      ],
      "execution_count": 195,
      "outputs": [
        {
          "output_type": "execute_result",
          "data": {
            "text/html": [
              "<div>\n",
              "<style scoped>\n",
              "    .dataframe tbody tr th:only-of-type {\n",
              "        vertical-align: middle;\n",
              "    }\n",
              "\n",
              "    .dataframe tbody tr th {\n",
              "        vertical-align: top;\n",
              "    }\n",
              "\n",
              "    .dataframe thead th {\n",
              "        text-align: right;\n",
              "    }\n",
              "</style>\n",
              "<table border=\"1\" class=\"dataframe\">\n",
              "  <thead>\n",
              "    <tr style=\"text-align: right;\">\n",
              "      <th></th>\n",
              "      <th>original_title</th>\n",
              "      <th>id</th>\n",
              "      <th>genres</th>\n",
              "    </tr>\n",
              "  </thead>\n",
              "  <tbody>\n",
              "    <tr>\n",
              "      <th>0</th>\n",
              "      <td>Insidious: The Last Key</td>\n",
              "      <td>406563</td>\n",
              "      <td>[{'id': 27, 'name': 'Horror'}, {'id': 9648, 'n...</td>\n",
              "    </tr>\n",
              "    <tr>\n",
              "      <th>1</th>\n",
              "      <td>The Strange Ones</td>\n",
              "      <td>426258</td>\n",
              "      <td>[{'id': 53, 'name': 'Thriller'}, {'id': 18, 'n...</td>\n",
              "    </tr>\n",
              "    <tr>\n",
              "      <th>2</th>\n",
              "      <td>Stratton</td>\n",
              "      <td>348389</td>\n",
              "      <td>[{'id': 28, 'name': 'Action'}, {'id': 53, 'nam...</td>\n",
              "    </tr>\n",
              "    <tr>\n",
              "      <th>3</th>\n",
              "      <td>Sweet Country</td>\n",
              "      <td>468210</td>\n",
              "      <td>[{'id': 18, 'name': 'Drama'}, {'id': 36, 'name...</td>\n",
              "    </tr>\n",
              "    <tr>\n",
              "      <th>4</th>\n",
              "      <td>The Commuter</td>\n",
              "      <td>399035</td>\n",
              "      <td>[{'id': 28, 'name': 'Action'}, {'id': 53, 'nam...</td>\n",
              "    </tr>\n",
              "  </tbody>\n",
              "</table>\n",
              "</div>"
            ],
            "text/plain": [
              "            original_title  ...                                             genres\n",
              "0  Insidious: The Last Key  ...  [{'id': 27, 'name': 'Horror'}, {'id': 9648, 'n...\n",
              "1         The Strange Ones  ...  [{'id': 53, 'name': 'Thriller'}, {'id': 18, 'n...\n",
              "2                 Stratton  ...  [{'id': 28, 'name': 'Action'}, {'id': 53, 'nam...\n",
              "3            Sweet Country  ...  [{'id': 18, 'name': 'Drama'}, {'id': 36, 'name...\n",
              "4             The Commuter  ...  [{'id': 28, 'name': 'Action'}, {'id': 53, 'nam...\n",
              "\n",
              "[5 rows x 3 columns]"
            ]
          },
          "metadata": {},
          "execution_count": 195
        }
      ]
    },
    {
      "cell_type": "markdown",
      "metadata": {
        "id": "AqTZ_foRHAr_"
      },
      "source": [
        "## Budge"
      ]
    },
    {
      "cell_type": "code",
      "metadata": {
        "id": "ldaIfh4THDsR"
      },
      "source": [
        "def get_budget(movie_id):\n",
        "  response = requests.get(\"https://api.themoviedb.org/3/movie/{}?api_key={}\".format(movie_id, tmdb.api_key))\n",
        "  data_json = response.json()\n",
        "  return data_json[\"budget\"]"
      ],
      "execution_count": 196,
      "outputs": []
    },
    {
      "cell_type": "code",
      "metadata": {
        "id": "9Ox2_RlaH2NK"
      },
      "source": [
        "dfs_concat[\"budget\"] = dfs_concat[\"id\"].map(lambda x: get_budget(str(x)))"
      ],
      "execution_count": 197,
      "outputs": []
    },
    {
      "cell_type": "code",
      "metadata": {
        "colab": {
          "base_uri": "https://localhost:8080/",
          "height": 204
        },
        "id": "3NXM31DUIG7Y",
        "outputId": "11db4151-caca-47ce-ef2a-b9e282829569"
      },
      "source": [
        "dfs_concat.head()"
      ],
      "execution_count": 198,
      "outputs": [
        {
          "output_type": "execute_result",
          "data": {
            "text/html": [
              "<div>\n",
              "<style scoped>\n",
              "    .dataframe tbody tr th:only-of-type {\n",
              "        vertical-align: middle;\n",
              "    }\n",
              "\n",
              "    .dataframe tbody tr th {\n",
              "        vertical-align: top;\n",
              "    }\n",
              "\n",
              "    .dataframe thead th {\n",
              "        text-align: right;\n",
              "    }\n",
              "</style>\n",
              "<table border=\"1\" class=\"dataframe\">\n",
              "  <thead>\n",
              "    <tr style=\"text-align: right;\">\n",
              "      <th></th>\n",
              "      <th>original_title</th>\n",
              "      <th>id</th>\n",
              "      <th>genres</th>\n",
              "      <th>budget</th>\n",
              "    </tr>\n",
              "  </thead>\n",
              "  <tbody>\n",
              "    <tr>\n",
              "      <th>0</th>\n",
              "      <td>Insidious: The Last Key</td>\n",
              "      <td>406563</td>\n",
              "      <td>[{'id': 27, 'name': 'Horror'}, {'id': 9648, 'n...</td>\n",
              "      <td>10000000</td>\n",
              "    </tr>\n",
              "    <tr>\n",
              "      <th>1</th>\n",
              "      <td>The Strange Ones</td>\n",
              "      <td>426258</td>\n",
              "      <td>[{'id': 53, 'name': 'Thriller'}, {'id': 18, 'n...</td>\n",
              "      <td>0</td>\n",
              "    </tr>\n",
              "    <tr>\n",
              "      <th>2</th>\n",
              "      <td>Stratton</td>\n",
              "      <td>348389</td>\n",
              "      <td>[{'id': 28, 'name': 'Action'}, {'id': 53, 'nam...</td>\n",
              "      <td>0</td>\n",
              "    </tr>\n",
              "    <tr>\n",
              "      <th>3</th>\n",
              "      <td>Sweet Country</td>\n",
              "      <td>468210</td>\n",
              "      <td>[{'id': 18, 'name': 'Drama'}, {'id': 36, 'name...</td>\n",
              "      <td>0</td>\n",
              "    </tr>\n",
              "    <tr>\n",
              "      <th>4</th>\n",
              "      <td>The Commuter</td>\n",
              "      <td>399035</td>\n",
              "      <td>[{'id': 28, 'name': 'Action'}, {'id': 53, 'nam...</td>\n",
              "      <td>30000000</td>\n",
              "    </tr>\n",
              "  </tbody>\n",
              "</table>\n",
              "</div>"
            ],
            "text/plain": [
              "            original_title  ...    budget\n",
              "0  Insidious: The Last Key  ...  10000000\n",
              "1         The Strange Ones  ...         0\n",
              "2                 Stratton  ...         0\n",
              "3            Sweet Country  ...         0\n",
              "4             The Commuter  ...  30000000\n",
              "\n",
              "[5 rows x 4 columns]"
            ]
          },
          "metadata": {},
          "execution_count": 198
        }
      ]
    },
    {
      "cell_type": "markdown",
      "metadata": {
        "id": "6aH5D6XZIqs8"
      },
      "source": [
        "## Homepage"
      ]
    },
    {
      "cell_type": "code",
      "metadata": {
        "id": "Tkb3GtWZIscJ"
      },
      "source": [
        "def get_homepage(movie_id):\n",
        "  response = requests.get(\"https://api.themoviedb.org/3/movie/{}?api_key={}\".format(movie_id, tmdb.api_key))\n",
        "  data_json = response.json()\n",
        "  return data_json[\"homepage\"]"
      ],
      "execution_count": 199,
      "outputs": []
    },
    {
      "cell_type": "code",
      "metadata": {
        "id": "nhEVDr0vIyLQ"
      },
      "source": [
        "dfs_concat [\"homepage\"] = dfs_concat [\"id\"].map(lambda x: get_homepage(str(x)))"
      ],
      "execution_count": 200,
      "outputs": []
    },
    {
      "cell_type": "code",
      "metadata": {
        "colab": {
          "base_uri": "https://localhost:8080/",
          "height": 204
        },
        "id": "QdYLFoqoJDZd",
        "outputId": "feb8f220-f26e-4afa-dba3-dd001b5c6b88"
      },
      "source": [
        "dfs_concat.head()"
      ],
      "execution_count": 201,
      "outputs": [
        {
          "output_type": "execute_result",
          "data": {
            "text/html": [
              "<div>\n",
              "<style scoped>\n",
              "    .dataframe tbody tr th:only-of-type {\n",
              "        vertical-align: middle;\n",
              "    }\n",
              "\n",
              "    .dataframe tbody tr th {\n",
              "        vertical-align: top;\n",
              "    }\n",
              "\n",
              "    .dataframe thead th {\n",
              "        text-align: right;\n",
              "    }\n",
              "</style>\n",
              "<table border=\"1\" class=\"dataframe\">\n",
              "  <thead>\n",
              "    <tr style=\"text-align: right;\">\n",
              "      <th></th>\n",
              "      <th>original_title</th>\n",
              "      <th>id</th>\n",
              "      <th>genres</th>\n",
              "      <th>budget</th>\n",
              "      <th>homepage</th>\n",
              "    </tr>\n",
              "  </thead>\n",
              "  <tbody>\n",
              "    <tr>\n",
              "      <th>0</th>\n",
              "      <td>Insidious: The Last Key</td>\n",
              "      <td>406563</td>\n",
              "      <td>[{'id': 27, 'name': 'Horror'}, {'id': 9648, 'n...</td>\n",
              "      <td>10000000</td>\n",
              "      <td>http://www.insidiousmovie.com</td>\n",
              "    </tr>\n",
              "    <tr>\n",
              "      <th>1</th>\n",
              "      <td>The Strange Ones</td>\n",
              "      <td>426258</td>\n",
              "      <td>[{'id': 53, 'name': 'Thriller'}, {'id': 18, 'n...</td>\n",
              "      <td>0</td>\n",
              "      <td>http://thestrangeones.com/</td>\n",
              "    </tr>\n",
              "    <tr>\n",
              "      <th>2</th>\n",
              "      <td>Stratton</td>\n",
              "      <td>348389</td>\n",
              "      <td>[{'id': 28, 'name': 'Action'}, {'id': 53, 'nam...</td>\n",
              "      <td>0</td>\n",
              "      <td>http://www.gfmfilms.co.uk/stratton</td>\n",
              "    </tr>\n",
              "    <tr>\n",
              "      <th>3</th>\n",
              "      <td>Sweet Country</td>\n",
              "      <td>468210</td>\n",
              "      <td>[{'id': 18, 'name': 'Drama'}, {'id': 36, 'name...</td>\n",
              "      <td>0</td>\n",
              "      <td>https://bunyaproductions.com.au/sweet-country/</td>\n",
              "    </tr>\n",
              "    <tr>\n",
              "      <th>4</th>\n",
              "      <td>The Commuter</td>\n",
              "      <td>399035</td>\n",
              "      <td>[{'id': 28, 'name': 'Action'}, {'id': 53, 'nam...</td>\n",
              "      <td>30000000</td>\n",
              "      <td>https://thecommuter.movie/</td>\n",
              "    </tr>\n",
              "  </tbody>\n",
              "</table>\n",
              "</div>"
            ],
            "text/plain": [
              "            original_title  ...                                        homepage\n",
              "0  Insidious: The Last Key  ...                   http://www.insidiousmovie.com\n",
              "1         The Strange Ones  ...                      http://thestrangeones.com/\n",
              "2                 Stratton  ...              http://www.gfmfilms.co.uk/stratton\n",
              "3            Sweet Country  ...  https://bunyaproductions.com.au/sweet-country/\n",
              "4             The Commuter  ...                      https://thecommuter.movie/\n",
              "\n",
              "[5 rows x 5 columns]"
            ]
          },
          "metadata": {},
          "execution_count": 201
        }
      ]
    },
    {
      "cell_type": "markdown",
      "metadata": {
        "id": "pcGh9JJAK-tv"
      },
      "source": [
        "## Keywords"
      ]
    },
    {
      "cell_type": "code",
      "metadata": {
        "id": "2JpqWSgVJn0a"
      },
      "source": [
        "def get_keywords(movie_id):\n",
        "  response = requests.get(\"https://api.themoviedb.org/3/movie/{}/keywords?api_key={}\".format(movie_id, tmdb.api_key))\n",
        "  data_json = response.json()\n",
        "  return data_json[\"keywords\"]"
      ],
      "execution_count": 202,
      "outputs": []
    },
    {
      "cell_type": "code",
      "metadata": {
        "id": "gVt4a2luLAx1"
      },
      "source": [
        "dfs_concat[\"keywords\"] = dfs_concat[\"id\"].map(lambda x: get_keywords(str(x)))"
      ],
      "execution_count": 203,
      "outputs": []
    },
    {
      "cell_type": "code",
      "metadata": {
        "colab": {
          "base_uri": "https://localhost:8080/",
          "height": 306
        },
        "id": "aGCTWsvTLij9",
        "outputId": "104002ff-fd63-4e3b-ec15-6de20abd4246"
      },
      "source": [
        "dfs_concat.head()"
      ],
      "execution_count": 204,
      "outputs": [
        {
          "output_type": "execute_result",
          "data": {
            "text/html": [
              "<div>\n",
              "<style scoped>\n",
              "    .dataframe tbody tr th:only-of-type {\n",
              "        vertical-align: middle;\n",
              "    }\n",
              "\n",
              "    .dataframe tbody tr th {\n",
              "        vertical-align: top;\n",
              "    }\n",
              "\n",
              "    .dataframe thead th {\n",
              "        text-align: right;\n",
              "    }\n",
              "</style>\n",
              "<table border=\"1\" class=\"dataframe\">\n",
              "  <thead>\n",
              "    <tr style=\"text-align: right;\">\n",
              "      <th></th>\n",
              "      <th>original_title</th>\n",
              "      <th>id</th>\n",
              "      <th>genres</th>\n",
              "      <th>budget</th>\n",
              "      <th>homepage</th>\n",
              "      <th>keywords</th>\n",
              "    </tr>\n",
              "  </thead>\n",
              "  <tbody>\n",
              "    <tr>\n",
              "      <th>0</th>\n",
              "      <td>Insidious: The Last Key</td>\n",
              "      <td>406563</td>\n",
              "      <td>[{'id': 27, 'name': 'Horror'}, {'id': 9648, 'n...</td>\n",
              "      <td>10000000</td>\n",
              "      <td>http://www.insidiousmovie.com</td>\n",
              "      <td>[{'id': 2723, 'name': 'medium'}, {'id': 2849, ...</td>\n",
              "    </tr>\n",
              "    <tr>\n",
              "      <th>1</th>\n",
              "      <td>The Strange Ones</td>\n",
              "      <td>426258</td>\n",
              "      <td>[{'id': 53, 'name': 'Thriller'}, {'id': 18, 'n...</td>\n",
              "      <td>0</td>\n",
              "      <td>http://thestrangeones.com/</td>\n",
              "      <td>[{'id': 380, 'name': 'sibling relationship'}, ...</td>\n",
              "    </tr>\n",
              "    <tr>\n",
              "      <th>2</th>\n",
              "      <td>Stratton</td>\n",
              "      <td>348389</td>\n",
              "      <td>[{'id': 28, 'name': 'Action'}, {'id': 53, 'nam...</td>\n",
              "      <td>0</td>\n",
              "      <td>http://www.gfmfilms.co.uk/stratton</td>\n",
              "      <td>[{'id': 818, 'name': 'based on novel or book'}...</td>\n",
              "    </tr>\n",
              "    <tr>\n",
              "      <th>3</th>\n",
              "      <td>Sweet Country</td>\n",
              "      <td>468210</td>\n",
              "      <td>[{'id': 18, 'name': 'Drama'}, {'id': 36, 'name...</td>\n",
              "      <td>0</td>\n",
              "      <td>https://bunyaproductions.com.au/sweet-country/</td>\n",
              "      <td>[{'id': 570, 'name': 'rape'}, {'id': 2831, 'na...</td>\n",
              "    </tr>\n",
              "    <tr>\n",
              "      <th>4</th>\n",
              "      <td>The Commuter</td>\n",
              "      <td>399035</td>\n",
              "      <td>[{'id': 28, 'name': 'Action'}, {'id': 53, 'nam...</td>\n",
              "      <td>30000000</td>\n",
              "      <td>https://thecommuter.movie/</td>\n",
              "      <td>[{'id': 10410, 'name': 'conspiracy'}, {'id': 1...</td>\n",
              "    </tr>\n",
              "  </tbody>\n",
              "</table>\n",
              "</div>"
            ],
            "text/plain": [
              "            original_title  ...                                           keywords\n",
              "0  Insidious: The Last Key  ...  [{'id': 2723, 'name': 'medium'}, {'id': 2849, ...\n",
              "1         The Strange Ones  ...  [{'id': 380, 'name': 'sibling relationship'}, ...\n",
              "2                 Stratton  ...  [{'id': 818, 'name': 'based on novel or book'}...\n",
              "3            Sweet Country  ...  [{'id': 570, 'name': 'rape'}, {'id': 2831, 'na...\n",
              "4             The Commuter  ...  [{'id': 10410, 'name': 'conspiracy'}, {'id': 1...\n",
              "\n",
              "[5 rows x 6 columns]"
            ]
          },
          "metadata": {},
          "execution_count": 204
        }
      ]
    },
    {
      "cell_type": "markdown",
      "metadata": {
        "id": "9FsC-Ty2YV2H"
      },
      "source": [
        "### Linguagem Original"
      ]
    },
    {
      "cell_type": "code",
      "metadata": {
        "id": "bZO8pwpdX33x"
      },
      "source": [
        "def get_original_language(movie_id):\n",
        "  response = requests.get(\"https://api.themoviedb.org/3/movie/{}?api_key={}\".format(movie_id, tmdb.api_key))\n",
        "  data_json = response.json()\n",
        "  return data_json[\"original_language\"]"
      ],
      "execution_count": 205,
      "outputs": []
    },
    {
      "cell_type": "code",
      "metadata": {
        "id": "1s41MI97YyIj"
      },
      "source": [
        "dfs_concat [\"original_language\"] = dfs_concat [\"id\"].map(lambda x:get_original_language(str(x)))"
      ],
      "execution_count": 206,
      "outputs": []
    },
    {
      "cell_type": "code",
      "metadata": {
        "colab": {
          "base_uri": "https://localhost:8080/",
          "height": 459
        },
        "id": "vp2PI-DPY881",
        "outputId": "e307958e-3e3d-4718-a3d0-bec86e8a2d02"
      },
      "source": [
        "dfs_concat.head()"
      ],
      "execution_count": 207,
      "outputs": [
        {
          "output_type": "execute_result",
          "data": {
            "text/html": [
              "<div>\n",
              "<style scoped>\n",
              "    .dataframe tbody tr th:only-of-type {\n",
              "        vertical-align: middle;\n",
              "    }\n",
              "\n",
              "    .dataframe tbody tr th {\n",
              "        vertical-align: top;\n",
              "    }\n",
              "\n",
              "    .dataframe thead th {\n",
              "        text-align: right;\n",
              "    }\n",
              "</style>\n",
              "<table border=\"1\" class=\"dataframe\">\n",
              "  <thead>\n",
              "    <tr style=\"text-align: right;\">\n",
              "      <th></th>\n",
              "      <th>original_title</th>\n",
              "      <th>id</th>\n",
              "      <th>genres</th>\n",
              "      <th>budget</th>\n",
              "      <th>homepage</th>\n",
              "      <th>keywords</th>\n",
              "      <th>original_language</th>\n",
              "    </tr>\n",
              "  </thead>\n",
              "  <tbody>\n",
              "    <tr>\n",
              "      <th>0</th>\n",
              "      <td>Insidious: The Last Key</td>\n",
              "      <td>406563</td>\n",
              "      <td>[{'id': 27, 'name': 'Horror'}, {'id': 9648, 'n...</td>\n",
              "      <td>10000000</td>\n",
              "      <td>http://www.insidiousmovie.com</td>\n",
              "      <td>[{'id': 2723, 'name': 'medium'}, {'id': 2849, ...</td>\n",
              "      <td>en</td>\n",
              "    </tr>\n",
              "    <tr>\n",
              "      <th>1</th>\n",
              "      <td>The Strange Ones</td>\n",
              "      <td>426258</td>\n",
              "      <td>[{'id': 53, 'name': 'Thriller'}, {'id': 18, 'n...</td>\n",
              "      <td>0</td>\n",
              "      <td>http://thestrangeones.com/</td>\n",
              "      <td>[{'id': 380, 'name': 'sibling relationship'}, ...</td>\n",
              "      <td>en</td>\n",
              "    </tr>\n",
              "    <tr>\n",
              "      <th>2</th>\n",
              "      <td>Stratton</td>\n",
              "      <td>348389</td>\n",
              "      <td>[{'id': 28, 'name': 'Action'}, {'id': 53, 'nam...</td>\n",
              "      <td>0</td>\n",
              "      <td>http://www.gfmfilms.co.uk/stratton</td>\n",
              "      <td>[{'id': 818, 'name': 'based on novel or book'}...</td>\n",
              "      <td>en</td>\n",
              "    </tr>\n",
              "    <tr>\n",
              "      <th>3</th>\n",
              "      <td>Sweet Country</td>\n",
              "      <td>468210</td>\n",
              "      <td>[{'id': 18, 'name': 'Drama'}, {'id': 36, 'name...</td>\n",
              "      <td>0</td>\n",
              "      <td>https://bunyaproductions.com.au/sweet-country/</td>\n",
              "      <td>[{'id': 570, 'name': 'rape'}, {'id': 2831, 'na...</td>\n",
              "      <td>en</td>\n",
              "    </tr>\n",
              "    <tr>\n",
              "      <th>4</th>\n",
              "      <td>The Commuter</td>\n",
              "      <td>399035</td>\n",
              "      <td>[{'id': 28, 'name': 'Action'}, {'id': 53, 'nam...</td>\n",
              "      <td>30000000</td>\n",
              "      <td>https://thecommuter.movie/</td>\n",
              "      <td>[{'id': 10410, 'name': 'conspiracy'}, {'id': 1...</td>\n",
              "      <td>en</td>\n",
              "    </tr>\n",
              "  </tbody>\n",
              "</table>\n",
              "</div>"
            ],
            "text/plain": [
              "            original_title  ...  original_language\n",
              "0  Insidious: The Last Key  ...                 en\n",
              "1         The Strange Ones  ...                 en\n",
              "2                 Stratton  ...                 en\n",
              "3            Sweet Country  ...                 en\n",
              "4             The Commuter  ...                 en\n",
              "\n",
              "[5 rows x 7 columns]"
            ]
          },
          "metadata": {},
          "execution_count": 207
        }
      ]
    },
    {
      "cell_type": "markdown",
      "metadata": {
        "id": "TG0dvrUrZm-8"
      },
      "source": [
        "### Overview"
      ]
    },
    {
      "cell_type": "code",
      "metadata": {
        "colab": {
          "base_uri": "https://localhost:8080/",
          "height": 459
        },
        "id": "W_v-xKqWHBTO",
        "outputId": "14e58846-b159-4131-ca40-665dd6f592bd"
      },
      "source": [
        "dfs_concat.head()"
      ],
      "execution_count": 208,
      "outputs": [
        {
          "output_type": "execute_result",
          "data": {
            "text/html": [
              "<div>\n",
              "<style scoped>\n",
              "    .dataframe tbody tr th:only-of-type {\n",
              "        vertical-align: middle;\n",
              "    }\n",
              "\n",
              "    .dataframe tbody tr th {\n",
              "        vertical-align: top;\n",
              "    }\n",
              "\n",
              "    .dataframe thead th {\n",
              "        text-align: right;\n",
              "    }\n",
              "</style>\n",
              "<table border=\"1\" class=\"dataframe\">\n",
              "  <thead>\n",
              "    <tr style=\"text-align: right;\">\n",
              "      <th></th>\n",
              "      <th>original_title</th>\n",
              "      <th>id</th>\n",
              "      <th>genres</th>\n",
              "      <th>budget</th>\n",
              "      <th>homepage</th>\n",
              "      <th>keywords</th>\n",
              "      <th>original_language</th>\n",
              "    </tr>\n",
              "  </thead>\n",
              "  <tbody>\n",
              "    <tr>\n",
              "      <th>0</th>\n",
              "      <td>Insidious: The Last Key</td>\n",
              "      <td>406563</td>\n",
              "      <td>[{'id': 27, 'name': 'Horror'}, {'id': 9648, 'n...</td>\n",
              "      <td>10000000</td>\n",
              "      <td>http://www.insidiousmovie.com</td>\n",
              "      <td>[{'id': 2723, 'name': 'medium'}, {'id': 2849, ...</td>\n",
              "      <td>en</td>\n",
              "    </tr>\n",
              "    <tr>\n",
              "      <th>1</th>\n",
              "      <td>The Strange Ones</td>\n",
              "      <td>426258</td>\n",
              "      <td>[{'id': 53, 'name': 'Thriller'}, {'id': 18, 'n...</td>\n",
              "      <td>0</td>\n",
              "      <td>http://thestrangeones.com/</td>\n",
              "      <td>[{'id': 380, 'name': 'sibling relationship'}, ...</td>\n",
              "      <td>en</td>\n",
              "    </tr>\n",
              "    <tr>\n",
              "      <th>2</th>\n",
              "      <td>Stratton</td>\n",
              "      <td>348389</td>\n",
              "      <td>[{'id': 28, 'name': 'Action'}, {'id': 53, 'nam...</td>\n",
              "      <td>0</td>\n",
              "      <td>http://www.gfmfilms.co.uk/stratton</td>\n",
              "      <td>[{'id': 818, 'name': 'based on novel or book'}...</td>\n",
              "      <td>en</td>\n",
              "    </tr>\n",
              "    <tr>\n",
              "      <th>3</th>\n",
              "      <td>Sweet Country</td>\n",
              "      <td>468210</td>\n",
              "      <td>[{'id': 18, 'name': 'Drama'}, {'id': 36, 'name...</td>\n",
              "      <td>0</td>\n",
              "      <td>https://bunyaproductions.com.au/sweet-country/</td>\n",
              "      <td>[{'id': 570, 'name': 'rape'}, {'id': 2831, 'na...</td>\n",
              "      <td>en</td>\n",
              "    </tr>\n",
              "    <tr>\n",
              "      <th>4</th>\n",
              "      <td>The Commuter</td>\n",
              "      <td>399035</td>\n",
              "      <td>[{'id': 28, 'name': 'Action'}, {'id': 53, 'nam...</td>\n",
              "      <td>30000000</td>\n",
              "      <td>https://thecommuter.movie/</td>\n",
              "      <td>[{'id': 10410, 'name': 'conspiracy'}, {'id': 1...</td>\n",
              "      <td>en</td>\n",
              "    </tr>\n",
              "  </tbody>\n",
              "</table>\n",
              "</div>"
            ],
            "text/plain": [
              "            original_title  ...  original_language\n",
              "0  Insidious: The Last Key  ...                 en\n",
              "1         The Strange Ones  ...                 en\n",
              "2                 Stratton  ...                 en\n",
              "3            Sweet Country  ...                 en\n",
              "4             The Commuter  ...                 en\n",
              "\n",
              "[5 rows x 7 columns]"
            ]
          },
          "metadata": {},
          "execution_count": 208
        }
      ]
    },
    {
      "cell_type": "code",
      "metadata": {
        "id": "1X8sqqwuZUX_"
      },
      "source": [
        "def get_overview(movie_id):\n",
        "  response = requests.get(\"https://api.themoviedb.org/3/movie/{}?api_key={}\".format(movie_id, tmdb.api_key))\n",
        "  data_json = response.json()\n",
        "  return data_json [\"overview\"]"
      ],
      "execution_count": 209,
      "outputs": []
    },
    {
      "cell_type": "code",
      "metadata": {
        "id": "ADzxdfySL9xe"
      },
      "source": [
        "dfs_concat [\"overview\"] = dfs_concat[\"id\"].map(lambda x: get_overview(str(x)))"
      ],
      "execution_count": 210,
      "outputs": []
    },
    {
      "cell_type": "code",
      "metadata": {
        "colab": {
          "base_uri": "https://localhost:8080/",
          "height": 581
        },
        "id": "af1n7xpcMNiA",
        "outputId": "17e9d954-5605-4eeb-8778-8a189a999dd9"
      },
      "source": [
        "dfs_concat.head()"
      ],
      "execution_count": 211,
      "outputs": [
        {
          "output_type": "execute_result",
          "data": {
            "text/html": [
              "<div>\n",
              "<style scoped>\n",
              "    .dataframe tbody tr th:only-of-type {\n",
              "        vertical-align: middle;\n",
              "    }\n",
              "\n",
              "    .dataframe tbody tr th {\n",
              "        vertical-align: top;\n",
              "    }\n",
              "\n",
              "    .dataframe thead th {\n",
              "        text-align: right;\n",
              "    }\n",
              "</style>\n",
              "<table border=\"1\" class=\"dataframe\">\n",
              "  <thead>\n",
              "    <tr style=\"text-align: right;\">\n",
              "      <th></th>\n",
              "      <th>original_title</th>\n",
              "      <th>id</th>\n",
              "      <th>genres</th>\n",
              "      <th>budget</th>\n",
              "      <th>homepage</th>\n",
              "      <th>keywords</th>\n",
              "      <th>original_language</th>\n",
              "      <th>overview</th>\n",
              "    </tr>\n",
              "  </thead>\n",
              "  <tbody>\n",
              "    <tr>\n",
              "      <th>0</th>\n",
              "      <td>Insidious: The Last Key</td>\n",
              "      <td>406563</td>\n",
              "      <td>[{'id': 27, 'name': 'Horror'}, {'id': 9648, 'n...</td>\n",
              "      <td>10000000</td>\n",
              "      <td>http://www.insidiousmovie.com</td>\n",
              "      <td>[{'id': 2723, 'name': 'medium'}, {'id': 2849, ...</td>\n",
              "      <td>en</td>\n",
              "      <td>Parapsychologist Elise Rainier and her team tr...</td>\n",
              "    </tr>\n",
              "    <tr>\n",
              "      <th>1</th>\n",
              "      <td>The Strange Ones</td>\n",
              "      <td>426258</td>\n",
              "      <td>[{'id': 53, 'name': 'Thriller'}, {'id': 18, 'n...</td>\n",
              "      <td>0</td>\n",
              "      <td>http://thestrangeones.com/</td>\n",
              "      <td>[{'id': 380, 'name': 'sibling relationship'}, ...</td>\n",
              "      <td>en</td>\n",
              "      <td>Mysterious events surround the travels of two ...</td>\n",
              "    </tr>\n",
              "    <tr>\n",
              "      <th>2</th>\n",
              "      <td>Stratton</td>\n",
              "      <td>348389</td>\n",
              "      <td>[{'id': 28, 'name': 'Action'}, {'id': 53, 'nam...</td>\n",
              "      <td>0</td>\n",
              "      <td>http://www.gfmfilms.co.uk/stratton</td>\n",
              "      <td>[{'id': 818, 'name': 'based on novel or book'}...</td>\n",
              "      <td>en</td>\n",
              "      <td>A British Special Boat Service commando tracks...</td>\n",
              "    </tr>\n",
              "    <tr>\n",
              "      <th>3</th>\n",
              "      <td>Sweet Country</td>\n",
              "      <td>468210</td>\n",
              "      <td>[{'id': 18, 'name': 'Drama'}, {'id': 36, 'name...</td>\n",
              "      <td>0</td>\n",
              "      <td>https://bunyaproductions.com.au/sweet-country/</td>\n",
              "      <td>[{'id': 570, 'name': 'rape'}, {'id': 2831, 'na...</td>\n",
              "      <td>en</td>\n",
              "      <td>It’s 1929 on the vast, desert-like, Eastern Ar...</td>\n",
              "    </tr>\n",
              "    <tr>\n",
              "      <th>4</th>\n",
              "      <td>The Commuter</td>\n",
              "      <td>399035</td>\n",
              "      <td>[{'id': 28, 'name': 'Action'}, {'id': 53, 'nam...</td>\n",
              "      <td>30000000</td>\n",
              "      <td>https://thecommuter.movie/</td>\n",
              "      <td>[{'id': 10410, 'name': 'conspiracy'}, {'id': 1...</td>\n",
              "      <td>en</td>\n",
              "      <td>A businessman, on his daily commute home, gets...</td>\n",
              "    </tr>\n",
              "  </tbody>\n",
              "</table>\n",
              "</div>"
            ],
            "text/plain": [
              "            original_title  ...                                           overview\n",
              "0  Insidious: The Last Key  ...  Parapsychologist Elise Rainier and her team tr...\n",
              "1         The Strange Ones  ...  Mysterious events surround the travels of two ...\n",
              "2                 Stratton  ...  A British Special Boat Service commando tracks...\n",
              "3            Sweet Country  ...  It’s 1929 on the vast, desert-like, Eastern Ar...\n",
              "4             The Commuter  ...  A businessman, on his daily commute home, gets...\n",
              "\n",
              "[5 rows x 8 columns]"
            ]
          },
          "metadata": {},
          "execution_count": 211
        }
      ]
    },
    {
      "cell_type": "markdown",
      "metadata": {
        "id": "idcI4NDONT_U"
      },
      "source": [
        "### Popularity"
      ]
    },
    {
      "cell_type": "code",
      "metadata": {
        "id": "c5nie0GXNQ4m"
      },
      "source": [
        "def get_popularity(movie_id):\n",
        "  response = requests.get(\"https://api.themoviedb.org/3/movie/{}?api_key={}\".format(movie_id, tmdb.api_key))\n",
        "  data_json = response.json()\n",
        "  return data_json [\"popularity\"]"
      ],
      "execution_count": 212,
      "outputs": []
    },
    {
      "cell_type": "code",
      "metadata": {
        "id": "FfTnQt0dOjXB"
      },
      "source": [
        "dfs_concat [\"popularity\"] = dfs_concat[\"id\"].map(lambda x: get_popularity(str(x)))"
      ],
      "execution_count": 213,
      "outputs": []
    },
    {
      "cell_type": "code",
      "metadata": {
        "colab": {
          "base_uri": "https://localhost:8080/",
          "height": 581
        },
        "id": "JRiJsBm5OpTH",
        "outputId": "c30c79d6-6263-475d-c034-71a358ddea0f"
      },
      "source": [
        "dfs_concat.head()"
      ],
      "execution_count": 214,
      "outputs": [
        {
          "output_type": "execute_result",
          "data": {
            "text/html": [
              "<div>\n",
              "<style scoped>\n",
              "    .dataframe tbody tr th:only-of-type {\n",
              "        vertical-align: middle;\n",
              "    }\n",
              "\n",
              "    .dataframe tbody tr th {\n",
              "        vertical-align: top;\n",
              "    }\n",
              "\n",
              "    .dataframe thead th {\n",
              "        text-align: right;\n",
              "    }\n",
              "</style>\n",
              "<table border=\"1\" class=\"dataframe\">\n",
              "  <thead>\n",
              "    <tr style=\"text-align: right;\">\n",
              "      <th></th>\n",
              "      <th>original_title</th>\n",
              "      <th>id</th>\n",
              "      <th>genres</th>\n",
              "      <th>budget</th>\n",
              "      <th>homepage</th>\n",
              "      <th>keywords</th>\n",
              "      <th>original_language</th>\n",
              "      <th>overview</th>\n",
              "      <th>popularity</th>\n",
              "    </tr>\n",
              "  </thead>\n",
              "  <tbody>\n",
              "    <tr>\n",
              "      <th>0</th>\n",
              "      <td>Insidious: The Last Key</td>\n",
              "      <td>406563</td>\n",
              "      <td>[{'id': 27, 'name': 'Horror'}, {'id': 9648, 'n...</td>\n",
              "      <td>10000000</td>\n",
              "      <td>http://www.insidiousmovie.com</td>\n",
              "      <td>[{'id': 2723, 'name': 'medium'}, {'id': 2849, ...</td>\n",
              "      <td>en</td>\n",
              "      <td>Parapsychologist Elise Rainier and her team tr...</td>\n",
              "      <td>42.487</td>\n",
              "    </tr>\n",
              "    <tr>\n",
              "      <th>1</th>\n",
              "      <td>The Strange Ones</td>\n",
              "      <td>426258</td>\n",
              "      <td>[{'id': 53, 'name': 'Thriller'}, {'id': 18, 'n...</td>\n",
              "      <td>0</td>\n",
              "      <td>http://thestrangeones.com/</td>\n",
              "      <td>[{'id': 380, 'name': 'sibling relationship'}, ...</td>\n",
              "      <td>en</td>\n",
              "      <td>Mysterious events surround the travels of two ...</td>\n",
              "      <td>7.550</td>\n",
              "    </tr>\n",
              "    <tr>\n",
              "      <th>2</th>\n",
              "      <td>Stratton</td>\n",
              "      <td>348389</td>\n",
              "      <td>[{'id': 28, 'name': 'Action'}, {'id': 53, 'nam...</td>\n",
              "      <td>0</td>\n",
              "      <td>http://www.gfmfilms.co.uk/stratton</td>\n",
              "      <td>[{'id': 818, 'name': 'based on novel or book'}...</td>\n",
              "      <td>en</td>\n",
              "      <td>A British Special Boat Service commando tracks...</td>\n",
              "      <td>14.603</td>\n",
              "    </tr>\n",
              "    <tr>\n",
              "      <th>3</th>\n",
              "      <td>Sweet Country</td>\n",
              "      <td>468210</td>\n",
              "      <td>[{'id': 18, 'name': 'Drama'}, {'id': 36, 'name...</td>\n",
              "      <td>0</td>\n",
              "      <td>https://bunyaproductions.com.au/sweet-country/</td>\n",
              "      <td>[{'id': 570, 'name': 'rape'}, {'id': 2831, 'na...</td>\n",
              "      <td>en</td>\n",
              "      <td>It’s 1929 on the vast, desert-like, Eastern Ar...</td>\n",
              "      <td>5.709</td>\n",
              "    </tr>\n",
              "    <tr>\n",
              "      <th>4</th>\n",
              "      <td>The Commuter</td>\n",
              "      <td>399035</td>\n",
              "      <td>[{'id': 28, 'name': 'Action'}, {'id': 53, 'nam...</td>\n",
              "      <td>30000000</td>\n",
              "      <td>https://thecommuter.movie/</td>\n",
              "      <td>[{'id': 10410, 'name': 'conspiracy'}, {'id': 1...</td>\n",
              "      <td>en</td>\n",
              "      <td>A businessman, on his daily commute home, gets...</td>\n",
              "      <td>28.361</td>\n",
              "    </tr>\n",
              "  </tbody>\n",
              "</table>\n",
              "</div>"
            ],
            "text/plain": [
              "            original_title  ...  popularity\n",
              "0  Insidious: The Last Key  ...      42.487\n",
              "1         The Strange Ones  ...       7.550\n",
              "2                 Stratton  ...      14.603\n",
              "3            Sweet Country  ...       5.709\n",
              "4             The Commuter  ...      28.361\n",
              "\n",
              "[5 rows x 9 columns]"
            ]
          },
          "metadata": {},
          "execution_count": 214
        }
      ]
    },
    {
      "cell_type": "code",
      "metadata": {
        "id": "TcBxvDY6POPo"
      },
      "source": [
        ""
      ],
      "execution_count": 214,
      "outputs": []
    },
    {
      "cell_type": "markdown",
      "metadata": {
        "id": "WDdAVc41P02i"
      },
      "source": [
        "### production_companies"
      ]
    },
    {
      "cell_type": "code",
      "metadata": {
        "id": "LAeYVlS6P80F"
      },
      "source": [
        "def get_production_companies(movie_id):\n",
        "  response = requests.get(\"https://api.themoviedb.org/3/movie/{}?api_key={}\".format(movie_id, tmdb.api_key))\n",
        "  data_json = response.json()\n",
        "  return data_json [\"production_companies\"]"
      ],
      "execution_count": 215,
      "outputs": []
    },
    {
      "cell_type": "code",
      "metadata": {
        "id": "zLcs0QXYQFfq"
      },
      "source": [
        "dfs_concat [\"production_companies\"] = dfs_concat[\"id\"].map(lambda x: get_production_companies(str(x)))"
      ],
      "execution_count": 216,
      "outputs": []
    },
    {
      "cell_type": "code",
      "metadata": {
        "colab": {
          "base_uri": "https://localhost:8080/",
          "height": 581
        },
        "id": "nqGiK9-AQLU0",
        "outputId": "3c905d31-54cd-44b7-a64f-b6514003f9ae"
      },
      "source": [
        "dfs_concat.head()"
      ],
      "execution_count": 217,
      "outputs": [
        {
          "output_type": "execute_result",
          "data": {
            "text/html": [
              "<div>\n",
              "<style scoped>\n",
              "    .dataframe tbody tr th:only-of-type {\n",
              "        vertical-align: middle;\n",
              "    }\n",
              "\n",
              "    .dataframe tbody tr th {\n",
              "        vertical-align: top;\n",
              "    }\n",
              "\n",
              "    .dataframe thead th {\n",
              "        text-align: right;\n",
              "    }\n",
              "</style>\n",
              "<table border=\"1\" class=\"dataframe\">\n",
              "  <thead>\n",
              "    <tr style=\"text-align: right;\">\n",
              "      <th></th>\n",
              "      <th>original_title</th>\n",
              "      <th>id</th>\n",
              "      <th>genres</th>\n",
              "      <th>budget</th>\n",
              "      <th>homepage</th>\n",
              "      <th>keywords</th>\n",
              "      <th>original_language</th>\n",
              "      <th>overview</th>\n",
              "      <th>popularity</th>\n",
              "      <th>production_companies</th>\n",
              "    </tr>\n",
              "  </thead>\n",
              "  <tbody>\n",
              "    <tr>\n",
              "      <th>0</th>\n",
              "      <td>Insidious: The Last Key</td>\n",
              "      <td>406563</td>\n",
              "      <td>[{'id': 27, 'name': 'Horror'}, {'id': 9648, 'n...</td>\n",
              "      <td>10000000</td>\n",
              "      <td>http://www.insidiousmovie.com</td>\n",
              "      <td>[{'id': 2723, 'name': 'medium'}, {'id': 2849, ...</td>\n",
              "      <td>en</td>\n",
              "      <td>Parapsychologist Elise Rainier and her team tr...</td>\n",
              "      <td>42.487</td>\n",
              "      <td>[{'id': 11341, 'logo_path': '/xytTBODEy3p20ksH...</td>\n",
              "    </tr>\n",
              "    <tr>\n",
              "      <th>1</th>\n",
              "      <td>The Strange Ones</td>\n",
              "      <td>426258</td>\n",
              "      <td>[{'id': 53, 'name': 'Thriller'}, {'id': 18, 'n...</td>\n",
              "      <td>0</td>\n",
              "      <td>http://thestrangeones.com/</td>\n",
              "      <td>[{'id': 380, 'name': 'sibling relationship'}, ...</td>\n",
              "      <td>en</td>\n",
              "      <td>Mysterious events surround the travels of two ...</td>\n",
              "      <td>7.550</td>\n",
              "      <td>[{'id': 35562, 'logo_path': '/cpeGUCuKo2vgaxzr...</td>\n",
              "    </tr>\n",
              "    <tr>\n",
              "      <th>2</th>\n",
              "      <td>Stratton</td>\n",
              "      <td>348389</td>\n",
              "      <td>[{'id': 28, 'name': 'Action'}, {'id': 53, 'nam...</td>\n",
              "      <td>0</td>\n",
              "      <td>http://www.gfmfilms.co.uk/stratton</td>\n",
              "      <td>[{'id': 818, 'name': 'based on novel or book'}...</td>\n",
              "      <td>en</td>\n",
              "      <td>A British Special Boat Service commando tracks...</td>\n",
              "      <td>14.603</td>\n",
              "      <td>[{'id': 23970, 'logo_path': None, 'name': 'Twi...</td>\n",
              "    </tr>\n",
              "    <tr>\n",
              "      <th>3</th>\n",
              "      <td>Sweet Country</td>\n",
              "      <td>468210</td>\n",
              "      <td>[{'id': 18, 'name': 'Drama'}, {'id': 36, 'name...</td>\n",
              "      <td>0</td>\n",
              "      <td>https://bunyaproductions.com.au/sweet-country/</td>\n",
              "      <td>[{'id': 570, 'name': 'rape'}, {'id': 2831, 'na...</td>\n",
              "      <td>en</td>\n",
              "      <td>It’s 1929 on the vast, desert-like, Eastern Ar...</td>\n",
              "      <td>5.709</td>\n",
              "      <td>[{'id': 86737, 'logo_path': None, 'name': 'Bun...</td>\n",
              "    </tr>\n",
              "    <tr>\n",
              "      <th>4</th>\n",
              "      <td>The Commuter</td>\n",
              "      <td>399035</td>\n",
              "      <td>[{'id': 28, 'name': 'Action'}, {'id': 53, 'nam...</td>\n",
              "      <td>30000000</td>\n",
              "      <td>https://thecommuter.movie/</td>\n",
              "      <td>[{'id': 10410, 'name': 'conspiracy'}, {'id': 1...</td>\n",
              "      <td>en</td>\n",
              "      <td>A businessman, on his daily commute home, gets...</td>\n",
              "      <td>28.361</td>\n",
              "      <td>[{'id': 694, 'logo_path': '/5LEHONGkZBIoWvp1yg...</td>\n",
              "    </tr>\n",
              "  </tbody>\n",
              "</table>\n",
              "</div>"
            ],
            "text/plain": [
              "            original_title  ...                               production_companies\n",
              "0  Insidious: The Last Key  ...  [{'id': 11341, 'logo_path': '/xytTBODEy3p20ksH...\n",
              "1         The Strange Ones  ...  [{'id': 35562, 'logo_path': '/cpeGUCuKo2vgaxzr...\n",
              "2                 Stratton  ...  [{'id': 23970, 'logo_path': None, 'name': 'Twi...\n",
              "3            Sweet Country  ...  [{'id': 86737, 'logo_path': None, 'name': 'Bun...\n",
              "4             The Commuter  ...  [{'id': 694, 'logo_path': '/5LEHONGkZBIoWvp1yg...\n",
              "\n",
              "[5 rows x 10 columns]"
            ]
          },
          "metadata": {},
          "execution_count": 217
        }
      ]
    },
    {
      "cell_type": "markdown",
      "metadata": {
        "id": "4RG2jT_BQTan"
      },
      "source": [
        "### production_countries"
      ]
    },
    {
      "cell_type": "code",
      "metadata": {
        "id": "mkhSiwYeQShz"
      },
      "source": [
        "def get_production_countries(movie_id):\n",
        "  response = requests.get(\"https://api.themoviedb.org/3/movie/{}?api_key={}\".format(movie_id, tmdb.api_key))\n",
        "  data_json = response.json()\n",
        "  return data_json [\"production_countries\"]"
      ],
      "execution_count": 218,
      "outputs": []
    },
    {
      "cell_type": "code",
      "metadata": {
        "id": "vEYXjQUrQhPR"
      },
      "source": [
        "dfs_concat [\"production_countries\"] = dfs_concat[\"id\"].map(lambda x: get_production_countries(str(x)))"
      ],
      "execution_count": 219,
      "outputs": []
    },
    {
      "cell_type": "code",
      "metadata": {
        "colab": {
          "base_uri": "https://localhost:8080/",
          "height": 581
        },
        "id": "zgJvLlSUQqmG",
        "outputId": "d6f8440b-aafd-4322-9c16-e277237bf377"
      },
      "source": [
        "dfs_concat.head()"
      ],
      "execution_count": 220,
      "outputs": [
        {
          "output_type": "execute_result",
          "data": {
            "text/html": [
              "<div>\n",
              "<style scoped>\n",
              "    .dataframe tbody tr th:only-of-type {\n",
              "        vertical-align: middle;\n",
              "    }\n",
              "\n",
              "    .dataframe tbody tr th {\n",
              "        vertical-align: top;\n",
              "    }\n",
              "\n",
              "    .dataframe thead th {\n",
              "        text-align: right;\n",
              "    }\n",
              "</style>\n",
              "<table border=\"1\" class=\"dataframe\">\n",
              "  <thead>\n",
              "    <tr style=\"text-align: right;\">\n",
              "      <th></th>\n",
              "      <th>original_title</th>\n",
              "      <th>id</th>\n",
              "      <th>genres</th>\n",
              "      <th>budget</th>\n",
              "      <th>homepage</th>\n",
              "      <th>keywords</th>\n",
              "      <th>original_language</th>\n",
              "      <th>overview</th>\n",
              "      <th>popularity</th>\n",
              "      <th>production_companies</th>\n",
              "      <th>production_countries</th>\n",
              "    </tr>\n",
              "  </thead>\n",
              "  <tbody>\n",
              "    <tr>\n",
              "      <th>0</th>\n",
              "      <td>Insidious: The Last Key</td>\n",
              "      <td>406563</td>\n",
              "      <td>[{'id': 27, 'name': 'Horror'}, {'id': 9648, 'n...</td>\n",
              "      <td>10000000</td>\n",
              "      <td>http://www.insidiousmovie.com</td>\n",
              "      <td>[{'id': 2723, 'name': 'medium'}, {'id': 2849, ...</td>\n",
              "      <td>en</td>\n",
              "      <td>Parapsychologist Elise Rainier and her team tr...</td>\n",
              "      <td>42.487</td>\n",
              "      <td>[{'id': 11341, 'logo_path': '/xytTBODEy3p20ksH...</td>\n",
              "      <td>[{'iso_3166_1': 'US', 'name': 'United States o...</td>\n",
              "    </tr>\n",
              "    <tr>\n",
              "      <th>1</th>\n",
              "      <td>The Strange Ones</td>\n",
              "      <td>426258</td>\n",
              "      <td>[{'id': 53, 'name': 'Thriller'}, {'id': 18, 'n...</td>\n",
              "      <td>0</td>\n",
              "      <td>http://thestrangeones.com/</td>\n",
              "      <td>[{'id': 380, 'name': 'sibling relationship'}, ...</td>\n",
              "      <td>en</td>\n",
              "      <td>Mysterious events surround the travels of two ...</td>\n",
              "      <td>7.550</td>\n",
              "      <td>[{'id': 35562, 'logo_path': '/cpeGUCuKo2vgaxzr...</td>\n",
              "      <td>[{'iso_3166_1': 'US', 'name': 'United States o...</td>\n",
              "    </tr>\n",
              "    <tr>\n",
              "      <th>2</th>\n",
              "      <td>Stratton</td>\n",
              "      <td>348389</td>\n",
              "      <td>[{'id': 28, 'name': 'Action'}, {'id': 53, 'nam...</td>\n",
              "      <td>0</td>\n",
              "      <td>http://www.gfmfilms.co.uk/stratton</td>\n",
              "      <td>[{'id': 818, 'name': 'based on novel or book'}...</td>\n",
              "      <td>en</td>\n",
              "      <td>A British Special Boat Service commando tracks...</td>\n",
              "      <td>14.603</td>\n",
              "      <td>[{'id': 23970, 'logo_path': None, 'name': 'Twi...</td>\n",
              "      <td>[{'iso_3166_1': 'GB', 'name': 'United Kingdom'}]</td>\n",
              "    </tr>\n",
              "    <tr>\n",
              "      <th>3</th>\n",
              "      <td>Sweet Country</td>\n",
              "      <td>468210</td>\n",
              "      <td>[{'id': 18, 'name': 'Drama'}, {'id': 36, 'name...</td>\n",
              "      <td>0</td>\n",
              "      <td>https://bunyaproductions.com.au/sweet-country/</td>\n",
              "      <td>[{'id': 570, 'name': 'rape'}, {'id': 2831, 'na...</td>\n",
              "      <td>en</td>\n",
              "      <td>It’s 1929 on the vast, desert-like, Eastern Ar...</td>\n",
              "      <td>5.709</td>\n",
              "      <td>[{'id': 86737, 'logo_path': None, 'name': 'Bun...</td>\n",
              "      <td>[{'iso_3166_1': 'AU', 'name': 'Australia'}]</td>\n",
              "    </tr>\n",
              "    <tr>\n",
              "      <th>4</th>\n",
              "      <td>The Commuter</td>\n",
              "      <td>399035</td>\n",
              "      <td>[{'id': 28, 'name': 'Action'}, {'id': 53, 'nam...</td>\n",
              "      <td>30000000</td>\n",
              "      <td>https://thecommuter.movie/</td>\n",
              "      <td>[{'id': 10410, 'name': 'conspiracy'}, {'id': 1...</td>\n",
              "      <td>en</td>\n",
              "      <td>A businessman, on his daily commute home, gets...</td>\n",
              "      <td>28.361</td>\n",
              "      <td>[{'id': 694, 'logo_path': '/5LEHONGkZBIoWvp1yg...</td>\n",
              "      <td>[{'iso_3166_1': 'US', 'name': 'United States o...</td>\n",
              "    </tr>\n",
              "  </tbody>\n",
              "</table>\n",
              "</div>"
            ],
            "text/plain": [
              "            original_title  ...                               production_countries\n",
              "0  Insidious: The Last Key  ...  [{'iso_3166_1': 'US', 'name': 'United States o...\n",
              "1         The Strange Ones  ...  [{'iso_3166_1': 'US', 'name': 'United States o...\n",
              "2                 Stratton  ...   [{'iso_3166_1': 'GB', 'name': 'United Kingdom'}]\n",
              "3            Sweet Country  ...        [{'iso_3166_1': 'AU', 'name': 'Australia'}]\n",
              "4             The Commuter  ...  [{'iso_3166_1': 'US', 'name': 'United States o...\n",
              "\n",
              "[5 rows x 11 columns]"
            ]
          },
          "metadata": {},
          "execution_count": 220
        }
      ]
    },
    {
      "cell_type": "markdown",
      "metadata": {
        "id": "ETQymSigQ6t3"
      },
      "source": [
        "### release_date"
      ]
    },
    {
      "cell_type": "code",
      "metadata": {
        "id": "zaDETMWVQxfp"
      },
      "source": [
        "def get_release_date(movie_id):\n",
        "  response = requests.get(\"https://api.themoviedb.org/3/movie/{}?api_key={}\".format(movie_id, tmdb.api_key))\n",
        "  data_json = response.json()\n",
        "  return data_json [\"release_date\"]"
      ],
      "execution_count": 221,
      "outputs": []
    },
    {
      "cell_type": "code",
      "metadata": {
        "id": "Wnbv8Up9RCyV"
      },
      "source": [
        "dfs_concat [\"release_date\"] = dfs_concat [\"id\"].map(lambda x: get_release_date(str(x)))"
      ],
      "execution_count": 222,
      "outputs": []
    },
    {
      "cell_type": "code",
      "metadata": {
        "colab": {
          "base_uri": "https://localhost:8080/",
          "height": 581
        },
        "id": "yAWpAezpRODc",
        "outputId": "863db148-5ea2-4a5f-9f0c-d692885f73a4"
      },
      "source": [
        "dfs_concat.head()"
      ],
      "execution_count": 223,
      "outputs": [
        {
          "output_type": "execute_result",
          "data": {
            "text/html": [
              "<div>\n",
              "<style scoped>\n",
              "    .dataframe tbody tr th:only-of-type {\n",
              "        vertical-align: middle;\n",
              "    }\n",
              "\n",
              "    .dataframe tbody tr th {\n",
              "        vertical-align: top;\n",
              "    }\n",
              "\n",
              "    .dataframe thead th {\n",
              "        text-align: right;\n",
              "    }\n",
              "</style>\n",
              "<table border=\"1\" class=\"dataframe\">\n",
              "  <thead>\n",
              "    <tr style=\"text-align: right;\">\n",
              "      <th></th>\n",
              "      <th>original_title</th>\n",
              "      <th>id</th>\n",
              "      <th>genres</th>\n",
              "      <th>budget</th>\n",
              "      <th>homepage</th>\n",
              "      <th>keywords</th>\n",
              "      <th>original_language</th>\n",
              "      <th>overview</th>\n",
              "      <th>popularity</th>\n",
              "      <th>production_companies</th>\n",
              "      <th>production_countries</th>\n",
              "      <th>release_date</th>\n",
              "    </tr>\n",
              "  </thead>\n",
              "  <tbody>\n",
              "    <tr>\n",
              "      <th>0</th>\n",
              "      <td>Insidious: The Last Key</td>\n",
              "      <td>406563</td>\n",
              "      <td>[{'id': 27, 'name': 'Horror'}, {'id': 9648, 'n...</td>\n",
              "      <td>10000000</td>\n",
              "      <td>http://www.insidiousmovie.com</td>\n",
              "      <td>[{'id': 2723, 'name': 'medium'}, {'id': 2849, ...</td>\n",
              "      <td>en</td>\n",
              "      <td>Parapsychologist Elise Rainier and her team tr...</td>\n",
              "      <td>42.487</td>\n",
              "      <td>[{'id': 11341, 'logo_path': '/xytTBODEy3p20ksH...</td>\n",
              "      <td>[{'iso_3166_1': 'US', 'name': 'United States o...</td>\n",
              "      <td>2018-01-03</td>\n",
              "    </tr>\n",
              "    <tr>\n",
              "      <th>1</th>\n",
              "      <td>The Strange Ones</td>\n",
              "      <td>426258</td>\n",
              "      <td>[{'id': 53, 'name': 'Thriller'}, {'id': 18, 'n...</td>\n",
              "      <td>0</td>\n",
              "      <td>http://thestrangeones.com/</td>\n",
              "      <td>[{'id': 380, 'name': 'sibling relationship'}, ...</td>\n",
              "      <td>en</td>\n",
              "      <td>Mysterious events surround the travels of two ...</td>\n",
              "      <td>7.550</td>\n",
              "      <td>[{'id': 35562, 'logo_path': '/cpeGUCuKo2vgaxzr...</td>\n",
              "      <td>[{'iso_3166_1': 'US', 'name': 'United States o...</td>\n",
              "      <td>2018-01-05</td>\n",
              "    </tr>\n",
              "    <tr>\n",
              "      <th>2</th>\n",
              "      <td>Stratton</td>\n",
              "      <td>348389</td>\n",
              "      <td>[{'id': 28, 'name': 'Action'}, {'id': 53, 'nam...</td>\n",
              "      <td>0</td>\n",
              "      <td>http://www.gfmfilms.co.uk/stratton</td>\n",
              "      <td>[{'id': 818, 'name': 'based on novel or book'}...</td>\n",
              "      <td>en</td>\n",
              "      <td>A British Special Boat Service commando tracks...</td>\n",
              "      <td>14.603</td>\n",
              "      <td>[{'id': 23970, 'logo_path': None, 'name': 'Twi...</td>\n",
              "      <td>[{'iso_3166_1': 'GB', 'name': 'United Kingdom'}]</td>\n",
              "      <td>2017-07-06</td>\n",
              "    </tr>\n",
              "    <tr>\n",
              "      <th>3</th>\n",
              "      <td>Sweet Country</td>\n",
              "      <td>468210</td>\n",
              "      <td>[{'id': 18, 'name': 'Drama'}, {'id': 36, 'name...</td>\n",
              "      <td>0</td>\n",
              "      <td>https://bunyaproductions.com.au/sweet-country/</td>\n",
              "      <td>[{'id': 570, 'name': 'rape'}, {'id': 2831, 'na...</td>\n",
              "      <td>en</td>\n",
              "      <td>It’s 1929 on the vast, desert-like, Eastern Ar...</td>\n",
              "      <td>5.709</td>\n",
              "      <td>[{'id': 86737, 'logo_path': None, 'name': 'Bun...</td>\n",
              "      <td>[{'iso_3166_1': 'AU', 'name': 'Australia'}]</td>\n",
              "      <td>2018-01-25</td>\n",
              "    </tr>\n",
              "    <tr>\n",
              "      <th>4</th>\n",
              "      <td>The Commuter</td>\n",
              "      <td>399035</td>\n",
              "      <td>[{'id': 28, 'name': 'Action'}, {'id': 53, 'nam...</td>\n",
              "      <td>30000000</td>\n",
              "      <td>https://thecommuter.movie/</td>\n",
              "      <td>[{'id': 10410, 'name': 'conspiracy'}, {'id': 1...</td>\n",
              "      <td>en</td>\n",
              "      <td>A businessman, on his daily commute home, gets...</td>\n",
              "      <td>28.361</td>\n",
              "      <td>[{'id': 694, 'logo_path': '/5LEHONGkZBIoWvp1yg...</td>\n",
              "      <td>[{'iso_3166_1': 'US', 'name': 'United States o...</td>\n",
              "      <td>2018-01-11</td>\n",
              "    </tr>\n",
              "  </tbody>\n",
              "</table>\n",
              "</div>"
            ],
            "text/plain": [
              "            original_title  ...  release_date\n",
              "0  Insidious: The Last Key  ...    2018-01-03\n",
              "1         The Strange Ones  ...    2018-01-05\n",
              "2                 Stratton  ...    2017-07-06\n",
              "3            Sweet Country  ...    2018-01-25\n",
              "4             The Commuter  ...    2018-01-11\n",
              "\n",
              "[5 rows x 12 columns]"
            ]
          },
          "metadata": {},
          "execution_count": 223
        }
      ]
    },
    {
      "cell_type": "code",
      "metadata": {
        "id": "DFkuMH3VRV7f"
      },
      "source": [
        ""
      ],
      "execution_count": 223,
      "outputs": []
    },
    {
      "cell_type": "markdown",
      "metadata": {
        "id": "AqlmJvqhRX-m"
      },
      "source": [
        "### revenue"
      ]
    },
    {
      "cell_type": "code",
      "metadata": {
        "id": "9xOnNv7ERfX9"
      },
      "source": [
        "def get_revenue(movie_id):\n",
        "  response = requests.get(\"https://api.themoviedb.org/3/movie/{}?api_key={}\".format(movie_id, tmdb.api_key))\n",
        "  data_json = response.json()\n",
        "  return data_json [\"revenue\"]"
      ],
      "execution_count": 224,
      "outputs": []
    },
    {
      "cell_type": "code",
      "metadata": {
        "id": "owPHM14cR7Dx"
      },
      "source": [
        "dfs_concat [\"revenue\"] = dfs_concat [\"id\"].map(lambda x: get_revenue(str(x)))"
      ],
      "execution_count": 225,
      "outputs": []
    },
    {
      "cell_type": "code",
      "metadata": {
        "colab": {
          "base_uri": "https://localhost:8080/",
          "height": 581
        },
        "id": "LXN4ky-BSQ3j",
        "outputId": "f83b0a78-ddff-4730-a600-5b036bace594"
      },
      "source": [
        "dfs_concat.head()"
      ],
      "execution_count": 226,
      "outputs": [
        {
          "output_type": "execute_result",
          "data": {
            "text/html": [
              "<div>\n",
              "<style scoped>\n",
              "    .dataframe tbody tr th:only-of-type {\n",
              "        vertical-align: middle;\n",
              "    }\n",
              "\n",
              "    .dataframe tbody tr th {\n",
              "        vertical-align: top;\n",
              "    }\n",
              "\n",
              "    .dataframe thead th {\n",
              "        text-align: right;\n",
              "    }\n",
              "</style>\n",
              "<table border=\"1\" class=\"dataframe\">\n",
              "  <thead>\n",
              "    <tr style=\"text-align: right;\">\n",
              "      <th></th>\n",
              "      <th>original_title</th>\n",
              "      <th>id</th>\n",
              "      <th>genres</th>\n",
              "      <th>budget</th>\n",
              "      <th>homepage</th>\n",
              "      <th>keywords</th>\n",
              "      <th>original_language</th>\n",
              "      <th>overview</th>\n",
              "      <th>popularity</th>\n",
              "      <th>production_companies</th>\n",
              "      <th>production_countries</th>\n",
              "      <th>release_date</th>\n",
              "      <th>revenue</th>\n",
              "    </tr>\n",
              "  </thead>\n",
              "  <tbody>\n",
              "    <tr>\n",
              "      <th>0</th>\n",
              "      <td>Insidious: The Last Key</td>\n",
              "      <td>406563</td>\n",
              "      <td>[{'id': 27, 'name': 'Horror'}, {'id': 9648, 'n...</td>\n",
              "      <td>10000000</td>\n",
              "      <td>http://www.insidiousmovie.com</td>\n",
              "      <td>[{'id': 2723, 'name': 'medium'}, {'id': 2849, ...</td>\n",
              "      <td>en</td>\n",
              "      <td>Parapsychologist Elise Rainier and her team tr...</td>\n",
              "      <td>42.487</td>\n",
              "      <td>[{'id': 11341, 'logo_path': '/xytTBODEy3p20ksH...</td>\n",
              "      <td>[{'iso_3166_1': 'US', 'name': 'United States o...</td>\n",
              "      <td>2018-01-03</td>\n",
              "      <td>167184112</td>\n",
              "    </tr>\n",
              "    <tr>\n",
              "      <th>1</th>\n",
              "      <td>The Strange Ones</td>\n",
              "      <td>426258</td>\n",
              "      <td>[{'id': 53, 'name': 'Thriller'}, {'id': 18, 'n...</td>\n",
              "      <td>0</td>\n",
              "      <td>http://thestrangeones.com/</td>\n",
              "      <td>[{'id': 380, 'name': 'sibling relationship'}, ...</td>\n",
              "      <td>en</td>\n",
              "      <td>Mysterious events surround the travels of two ...</td>\n",
              "      <td>7.550</td>\n",
              "      <td>[{'id': 35562, 'logo_path': '/cpeGUCuKo2vgaxzr...</td>\n",
              "      <td>[{'iso_3166_1': 'US', 'name': 'United States o...</td>\n",
              "      <td>2018-01-05</td>\n",
              "      <td>0</td>\n",
              "    </tr>\n",
              "    <tr>\n",
              "      <th>2</th>\n",
              "      <td>Stratton</td>\n",
              "      <td>348389</td>\n",
              "      <td>[{'id': 28, 'name': 'Action'}, {'id': 53, 'nam...</td>\n",
              "      <td>0</td>\n",
              "      <td>http://www.gfmfilms.co.uk/stratton</td>\n",
              "      <td>[{'id': 818, 'name': 'based on novel or book'}...</td>\n",
              "      <td>en</td>\n",
              "      <td>A British Special Boat Service commando tracks...</td>\n",
              "      <td>14.603</td>\n",
              "      <td>[{'id': 23970, 'logo_path': None, 'name': 'Twi...</td>\n",
              "      <td>[{'iso_3166_1': 'GB', 'name': 'United Kingdom'}]</td>\n",
              "      <td>2017-07-06</td>\n",
              "      <td>0</td>\n",
              "    </tr>\n",
              "    <tr>\n",
              "      <th>3</th>\n",
              "      <td>Sweet Country</td>\n",
              "      <td>468210</td>\n",
              "      <td>[{'id': 18, 'name': 'Drama'}, {'id': 36, 'name...</td>\n",
              "      <td>0</td>\n",
              "      <td>https://bunyaproductions.com.au/sweet-country/</td>\n",
              "      <td>[{'id': 570, 'name': 'rape'}, {'id': 2831, 'na...</td>\n",
              "      <td>en</td>\n",
              "      <td>It’s 1929 on the vast, desert-like, Eastern Ar...</td>\n",
              "      <td>5.709</td>\n",
              "      <td>[{'id': 86737, 'logo_path': None, 'name': 'Bun...</td>\n",
              "      <td>[{'iso_3166_1': 'AU', 'name': 'Australia'}]</td>\n",
              "      <td>2018-01-25</td>\n",
              "      <td>0</td>\n",
              "    </tr>\n",
              "    <tr>\n",
              "      <th>4</th>\n",
              "      <td>The Commuter</td>\n",
              "      <td>399035</td>\n",
              "      <td>[{'id': 28, 'name': 'Action'}, {'id': 53, 'nam...</td>\n",
              "      <td>30000000</td>\n",
              "      <td>https://thecommuter.movie/</td>\n",
              "      <td>[{'id': 10410, 'name': 'conspiracy'}, {'id': 1...</td>\n",
              "      <td>en</td>\n",
              "      <td>A businessman, on his daily commute home, gets...</td>\n",
              "      <td>28.361</td>\n",
              "      <td>[{'id': 694, 'logo_path': '/5LEHONGkZBIoWvp1yg...</td>\n",
              "      <td>[{'iso_3166_1': 'US', 'name': 'United States o...</td>\n",
              "      <td>2018-01-11</td>\n",
              "      <td>119942387</td>\n",
              "    </tr>\n",
              "  </tbody>\n",
              "</table>\n",
              "</div>"
            ],
            "text/plain": [
              "            original_title      id  ... release_date    revenue\n",
              "0  Insidious: The Last Key  406563  ...   2018-01-03  167184112\n",
              "1         The Strange Ones  426258  ...   2018-01-05          0\n",
              "2                 Stratton  348389  ...   2017-07-06          0\n",
              "3            Sweet Country  468210  ...   2018-01-25          0\n",
              "4             The Commuter  399035  ...   2018-01-11  119942387\n",
              "\n",
              "[5 rows x 13 columns]"
            ]
          },
          "metadata": {},
          "execution_count": 226
        }
      ]
    },
    {
      "cell_type": "markdown",
      "metadata": {
        "id": "SZPzDk-nTv0n"
      },
      "source": [
        "### runtime"
      ]
    },
    {
      "cell_type": "code",
      "metadata": {
        "id": "UrJZKRyFT1Fk"
      },
      "source": [
        "def get_runtime(movie_id):\n",
        "  response = requests.get(\"https://api.themoviedb.org/3/movie/{}?api_key={}\".format(movie_id, tmdb.api_key))\n",
        "  data_json = response.json()\n",
        "  return data_json [\"runtime\"]"
      ],
      "execution_count": 227,
      "outputs": []
    },
    {
      "cell_type": "code",
      "metadata": {
        "id": "OV0Ip4lZUNHh"
      },
      "source": [
        "dfs_concat[\"runtime\"] = dfs_concat[\"id\"].map(lambda x: get_runtime(str(x)))"
      ],
      "execution_count": 228,
      "outputs": []
    },
    {
      "cell_type": "code",
      "metadata": {
        "colab": {
          "base_uri": "https://localhost:8080/",
          "height": 581
        },
        "id": "QizCJDRRUaAm",
        "outputId": "defeecbe-ce5c-4c85-f18e-1587db146991"
      },
      "source": [
        "dfs_concat.head()"
      ],
      "execution_count": 229,
      "outputs": [
        {
          "output_type": "execute_result",
          "data": {
            "text/html": [
              "<div>\n",
              "<style scoped>\n",
              "    .dataframe tbody tr th:only-of-type {\n",
              "        vertical-align: middle;\n",
              "    }\n",
              "\n",
              "    .dataframe tbody tr th {\n",
              "        vertical-align: top;\n",
              "    }\n",
              "\n",
              "    .dataframe thead th {\n",
              "        text-align: right;\n",
              "    }\n",
              "</style>\n",
              "<table border=\"1\" class=\"dataframe\">\n",
              "  <thead>\n",
              "    <tr style=\"text-align: right;\">\n",
              "      <th></th>\n",
              "      <th>original_title</th>\n",
              "      <th>id</th>\n",
              "      <th>genres</th>\n",
              "      <th>budget</th>\n",
              "      <th>homepage</th>\n",
              "      <th>keywords</th>\n",
              "      <th>original_language</th>\n",
              "      <th>overview</th>\n",
              "      <th>popularity</th>\n",
              "      <th>production_companies</th>\n",
              "      <th>production_countries</th>\n",
              "      <th>release_date</th>\n",
              "      <th>revenue</th>\n",
              "      <th>runtime</th>\n",
              "    </tr>\n",
              "  </thead>\n",
              "  <tbody>\n",
              "    <tr>\n",
              "      <th>0</th>\n",
              "      <td>Insidious: The Last Key</td>\n",
              "      <td>406563</td>\n",
              "      <td>[{'id': 27, 'name': 'Horror'}, {'id': 9648, 'n...</td>\n",
              "      <td>10000000</td>\n",
              "      <td>http://www.insidiousmovie.com</td>\n",
              "      <td>[{'id': 2723, 'name': 'medium'}, {'id': 2849, ...</td>\n",
              "      <td>en</td>\n",
              "      <td>Parapsychologist Elise Rainier and her team tr...</td>\n",
              "      <td>42.487</td>\n",
              "      <td>[{'id': 11341, 'logo_path': '/xytTBODEy3p20ksH...</td>\n",
              "      <td>[{'iso_3166_1': 'US', 'name': 'United States o...</td>\n",
              "      <td>2018-01-03</td>\n",
              "      <td>167184112</td>\n",
              "      <td>103</td>\n",
              "    </tr>\n",
              "    <tr>\n",
              "      <th>1</th>\n",
              "      <td>The Strange Ones</td>\n",
              "      <td>426258</td>\n",
              "      <td>[{'id': 53, 'name': 'Thriller'}, {'id': 18, 'n...</td>\n",
              "      <td>0</td>\n",
              "      <td>http://thestrangeones.com/</td>\n",
              "      <td>[{'id': 380, 'name': 'sibling relationship'}, ...</td>\n",
              "      <td>en</td>\n",
              "      <td>Mysterious events surround the travels of two ...</td>\n",
              "      <td>7.550</td>\n",
              "      <td>[{'id': 35562, 'logo_path': '/cpeGUCuKo2vgaxzr...</td>\n",
              "      <td>[{'iso_3166_1': 'US', 'name': 'United States o...</td>\n",
              "      <td>2018-01-05</td>\n",
              "      <td>0</td>\n",
              "      <td>81</td>\n",
              "    </tr>\n",
              "    <tr>\n",
              "      <th>2</th>\n",
              "      <td>Stratton</td>\n",
              "      <td>348389</td>\n",
              "      <td>[{'id': 28, 'name': 'Action'}, {'id': 53, 'nam...</td>\n",
              "      <td>0</td>\n",
              "      <td>http://www.gfmfilms.co.uk/stratton</td>\n",
              "      <td>[{'id': 818, 'name': 'based on novel or book'}...</td>\n",
              "      <td>en</td>\n",
              "      <td>A British Special Boat Service commando tracks...</td>\n",
              "      <td>14.603</td>\n",
              "      <td>[{'id': 23970, 'logo_path': None, 'name': 'Twi...</td>\n",
              "      <td>[{'iso_3166_1': 'GB', 'name': 'United Kingdom'}]</td>\n",
              "      <td>2017-07-06</td>\n",
              "      <td>0</td>\n",
              "      <td>94</td>\n",
              "    </tr>\n",
              "    <tr>\n",
              "      <th>3</th>\n",
              "      <td>Sweet Country</td>\n",
              "      <td>468210</td>\n",
              "      <td>[{'id': 18, 'name': 'Drama'}, {'id': 36, 'name...</td>\n",
              "      <td>0</td>\n",
              "      <td>https://bunyaproductions.com.au/sweet-country/</td>\n",
              "      <td>[{'id': 570, 'name': 'rape'}, {'id': 2831, 'na...</td>\n",
              "      <td>en</td>\n",
              "      <td>It’s 1929 on the vast, desert-like, Eastern Ar...</td>\n",
              "      <td>5.709</td>\n",
              "      <td>[{'id': 86737, 'logo_path': None, 'name': 'Bun...</td>\n",
              "      <td>[{'iso_3166_1': 'AU', 'name': 'Australia'}]</td>\n",
              "      <td>2018-01-25</td>\n",
              "      <td>0</td>\n",
              "      <td>113</td>\n",
              "    </tr>\n",
              "    <tr>\n",
              "      <th>4</th>\n",
              "      <td>The Commuter</td>\n",
              "      <td>399035</td>\n",
              "      <td>[{'id': 28, 'name': 'Action'}, {'id': 53, 'nam...</td>\n",
              "      <td>30000000</td>\n",
              "      <td>https://thecommuter.movie/</td>\n",
              "      <td>[{'id': 10410, 'name': 'conspiracy'}, {'id': 1...</td>\n",
              "      <td>en</td>\n",
              "      <td>A businessman, on his daily commute home, gets...</td>\n",
              "      <td>28.361</td>\n",
              "      <td>[{'id': 694, 'logo_path': '/5LEHONGkZBIoWvp1yg...</td>\n",
              "      <td>[{'iso_3166_1': 'US', 'name': 'United States o...</td>\n",
              "      <td>2018-01-11</td>\n",
              "      <td>119942387</td>\n",
              "      <td>104</td>\n",
              "    </tr>\n",
              "  </tbody>\n",
              "</table>\n",
              "</div>"
            ],
            "text/plain": [
              "            original_title      id  ...    revenue  runtime\n",
              "0  Insidious: The Last Key  406563  ...  167184112      103\n",
              "1         The Strange Ones  426258  ...          0       81\n",
              "2                 Stratton  348389  ...          0       94\n",
              "3            Sweet Country  468210  ...          0      113\n",
              "4             The Commuter  399035  ...  119942387      104\n",
              "\n",
              "[5 rows x 14 columns]"
            ]
          },
          "metadata": {},
          "execution_count": 229
        }
      ]
    },
    {
      "cell_type": "markdown",
      "metadata": {
        "id": "lbGiw9ftU4la"
      },
      "source": [
        "### spoken_languages"
      ]
    },
    {
      "cell_type": "code",
      "metadata": {
        "id": "jFajiSbiUwqv"
      },
      "source": [
        "def get_spoken_languages(movie_id):\n",
        "  response = requests.get(\"https://api.themoviedb.org/3/movie/{}?api_key={}\".format(movie_id, tmdb.api_key))\n",
        "  data_json = response.json() \n",
        "  return data_json[\"spoken_languages\"]"
      ],
      "execution_count": 230,
      "outputs": []
    },
    {
      "cell_type": "code",
      "metadata": {
        "id": "h4CzmDp0U5px"
      },
      "source": [
        "dfs_concat [\"spoken_languages\"] = dfs_concat [\"id\"].map(lambda x: get_spoken_languages(str(x)))"
      ],
      "execution_count": 231,
      "outputs": []
    },
    {
      "cell_type": "code",
      "metadata": {
        "colab": {
          "base_uri": "https://localhost:8080/",
          "height": 581
        },
        "id": "PhrR4C1QVgaj",
        "outputId": "b5e25bc5-9dc9-4f28-f774-aa0ce2d9167b"
      },
      "source": [
        "dfs_concat.head()"
      ],
      "execution_count": 232,
      "outputs": [
        {
          "output_type": "execute_result",
          "data": {
            "text/html": [
              "<div>\n",
              "<style scoped>\n",
              "    .dataframe tbody tr th:only-of-type {\n",
              "        vertical-align: middle;\n",
              "    }\n",
              "\n",
              "    .dataframe tbody tr th {\n",
              "        vertical-align: top;\n",
              "    }\n",
              "\n",
              "    .dataframe thead th {\n",
              "        text-align: right;\n",
              "    }\n",
              "</style>\n",
              "<table border=\"1\" class=\"dataframe\">\n",
              "  <thead>\n",
              "    <tr style=\"text-align: right;\">\n",
              "      <th></th>\n",
              "      <th>original_title</th>\n",
              "      <th>id</th>\n",
              "      <th>genres</th>\n",
              "      <th>budget</th>\n",
              "      <th>homepage</th>\n",
              "      <th>keywords</th>\n",
              "      <th>original_language</th>\n",
              "      <th>overview</th>\n",
              "      <th>popularity</th>\n",
              "      <th>production_companies</th>\n",
              "      <th>production_countries</th>\n",
              "      <th>release_date</th>\n",
              "      <th>revenue</th>\n",
              "      <th>runtime</th>\n",
              "      <th>spoken_languages</th>\n",
              "    </tr>\n",
              "  </thead>\n",
              "  <tbody>\n",
              "    <tr>\n",
              "      <th>0</th>\n",
              "      <td>Insidious: The Last Key</td>\n",
              "      <td>406563</td>\n",
              "      <td>[{'id': 27, 'name': 'Horror'}, {'id': 9648, 'n...</td>\n",
              "      <td>10000000</td>\n",
              "      <td>http://www.insidiousmovie.com</td>\n",
              "      <td>[{'id': 2723, 'name': 'medium'}, {'id': 2849, ...</td>\n",
              "      <td>en</td>\n",
              "      <td>Parapsychologist Elise Rainier and her team tr...</td>\n",
              "      <td>42.487</td>\n",
              "      <td>[{'id': 11341, 'logo_path': '/xytTBODEy3p20ksH...</td>\n",
              "      <td>[{'iso_3166_1': 'US', 'name': 'United States o...</td>\n",
              "      <td>2018-01-03</td>\n",
              "      <td>167184112</td>\n",
              "      <td>103</td>\n",
              "      <td>[{'english_name': 'English', 'iso_639_1': 'en'...</td>\n",
              "    </tr>\n",
              "    <tr>\n",
              "      <th>1</th>\n",
              "      <td>The Strange Ones</td>\n",
              "      <td>426258</td>\n",
              "      <td>[{'id': 53, 'name': 'Thriller'}, {'id': 18, 'n...</td>\n",
              "      <td>0</td>\n",
              "      <td>http://thestrangeones.com/</td>\n",
              "      <td>[{'id': 380, 'name': 'sibling relationship'}, ...</td>\n",
              "      <td>en</td>\n",
              "      <td>Mysterious events surround the travels of two ...</td>\n",
              "      <td>7.550</td>\n",
              "      <td>[{'id': 35562, 'logo_path': '/cpeGUCuKo2vgaxzr...</td>\n",
              "      <td>[{'iso_3166_1': 'US', 'name': 'United States o...</td>\n",
              "      <td>2018-01-05</td>\n",
              "      <td>0</td>\n",
              "      <td>81</td>\n",
              "      <td>[{'english_name': 'English', 'iso_639_1': 'en'...</td>\n",
              "    </tr>\n",
              "    <tr>\n",
              "      <th>2</th>\n",
              "      <td>Stratton</td>\n",
              "      <td>348389</td>\n",
              "      <td>[{'id': 28, 'name': 'Action'}, {'id': 53, 'nam...</td>\n",
              "      <td>0</td>\n",
              "      <td>http://www.gfmfilms.co.uk/stratton</td>\n",
              "      <td>[{'id': 818, 'name': 'based on novel or book'}...</td>\n",
              "      <td>en</td>\n",
              "      <td>A British Special Boat Service commando tracks...</td>\n",
              "      <td>14.603</td>\n",
              "      <td>[{'id': 23970, 'logo_path': None, 'name': 'Twi...</td>\n",
              "      <td>[{'iso_3166_1': 'GB', 'name': 'United Kingdom'}]</td>\n",
              "      <td>2017-07-06</td>\n",
              "      <td>0</td>\n",
              "      <td>94</td>\n",
              "      <td>[{'english_name': 'English', 'iso_639_1': 'en'...</td>\n",
              "    </tr>\n",
              "    <tr>\n",
              "      <th>3</th>\n",
              "      <td>Sweet Country</td>\n",
              "      <td>468210</td>\n",
              "      <td>[{'id': 18, 'name': 'Drama'}, {'id': 36, 'name...</td>\n",
              "      <td>0</td>\n",
              "      <td>https://bunyaproductions.com.au/sweet-country/</td>\n",
              "      <td>[{'id': 570, 'name': 'rape'}, {'id': 2831, 'na...</td>\n",
              "      <td>en</td>\n",
              "      <td>It’s 1929 on the vast, desert-like, Eastern Ar...</td>\n",
              "      <td>5.709</td>\n",
              "      <td>[{'id': 86737, 'logo_path': None, 'name': 'Bun...</td>\n",
              "      <td>[{'iso_3166_1': 'AU', 'name': 'Australia'}]</td>\n",
              "      <td>2018-01-25</td>\n",
              "      <td>0</td>\n",
              "      <td>113</td>\n",
              "      <td>[{'english_name': 'English', 'iso_639_1': 'en'...</td>\n",
              "    </tr>\n",
              "    <tr>\n",
              "      <th>4</th>\n",
              "      <td>The Commuter</td>\n",
              "      <td>399035</td>\n",
              "      <td>[{'id': 28, 'name': 'Action'}, {'id': 53, 'nam...</td>\n",
              "      <td>30000000</td>\n",
              "      <td>https://thecommuter.movie/</td>\n",
              "      <td>[{'id': 10410, 'name': 'conspiracy'}, {'id': 1...</td>\n",
              "      <td>en</td>\n",
              "      <td>A businessman, on his daily commute home, gets...</td>\n",
              "      <td>28.361</td>\n",
              "      <td>[{'id': 694, 'logo_path': '/5LEHONGkZBIoWvp1yg...</td>\n",
              "      <td>[{'iso_3166_1': 'US', 'name': 'United States o...</td>\n",
              "      <td>2018-01-11</td>\n",
              "      <td>119942387</td>\n",
              "      <td>104</td>\n",
              "      <td>[{'english_name': 'English', 'iso_639_1': 'en'...</td>\n",
              "    </tr>\n",
              "  </tbody>\n",
              "</table>\n",
              "</div>"
            ],
            "text/plain": [
              "            original_title  ...                                   spoken_languages\n",
              "0  Insidious: The Last Key  ...  [{'english_name': 'English', 'iso_639_1': 'en'...\n",
              "1         The Strange Ones  ...  [{'english_name': 'English', 'iso_639_1': 'en'...\n",
              "2                 Stratton  ...  [{'english_name': 'English', 'iso_639_1': 'en'...\n",
              "3            Sweet Country  ...  [{'english_name': 'English', 'iso_639_1': 'en'...\n",
              "4             The Commuter  ...  [{'english_name': 'English', 'iso_639_1': 'en'...\n",
              "\n",
              "[5 rows x 15 columns]"
            ]
          },
          "metadata": {},
          "execution_count": 232
        }
      ]
    },
    {
      "cell_type": "markdown",
      "metadata": {
        "id": "NF30fxBsXIny"
      },
      "source": [
        "### status"
      ]
    },
    {
      "cell_type": "code",
      "metadata": {
        "id": "Y0SQeOAtXP76"
      },
      "source": [
        "def get_status(movie_id):\n",
        "  response = requests.get(\"https://api.themoviedb.org/3/movie/{}?api_key={}\".format(movie_id, tmdb.api_key))\n",
        "  data_json = response.json()\n",
        "  return data_json[\"status\"]"
      ],
      "execution_count": 233,
      "outputs": []
    },
    {
      "cell_type": "code",
      "metadata": {
        "id": "zzNBojWUXppQ"
      },
      "source": [
        "dfs_concat [\"status\"] = dfs_concat[\"id\"].map(lambda x: get_status(str(x)))"
      ],
      "execution_count": 234,
      "outputs": []
    },
    {
      "cell_type": "code",
      "metadata": {
        "colab": {
          "base_uri": "https://localhost:8080/",
          "height": 581
        },
        "id": "yMoT0IBKX8qk",
        "outputId": "beb8546e-563a-4982-a92a-4c32d46b93da"
      },
      "source": [
        "dfs_concat.head()"
      ],
      "execution_count": 235,
      "outputs": [
        {
          "output_type": "execute_result",
          "data": {
            "text/html": [
              "<div>\n",
              "<style scoped>\n",
              "    .dataframe tbody tr th:only-of-type {\n",
              "        vertical-align: middle;\n",
              "    }\n",
              "\n",
              "    .dataframe tbody tr th {\n",
              "        vertical-align: top;\n",
              "    }\n",
              "\n",
              "    .dataframe thead th {\n",
              "        text-align: right;\n",
              "    }\n",
              "</style>\n",
              "<table border=\"1\" class=\"dataframe\">\n",
              "  <thead>\n",
              "    <tr style=\"text-align: right;\">\n",
              "      <th></th>\n",
              "      <th>original_title</th>\n",
              "      <th>id</th>\n",
              "      <th>genres</th>\n",
              "      <th>budget</th>\n",
              "      <th>homepage</th>\n",
              "      <th>keywords</th>\n",
              "      <th>original_language</th>\n",
              "      <th>overview</th>\n",
              "      <th>popularity</th>\n",
              "      <th>production_companies</th>\n",
              "      <th>production_countries</th>\n",
              "      <th>release_date</th>\n",
              "      <th>revenue</th>\n",
              "      <th>runtime</th>\n",
              "      <th>spoken_languages</th>\n",
              "      <th>status</th>\n",
              "    </tr>\n",
              "  </thead>\n",
              "  <tbody>\n",
              "    <tr>\n",
              "      <th>0</th>\n",
              "      <td>Insidious: The Last Key</td>\n",
              "      <td>406563</td>\n",
              "      <td>[{'id': 27, 'name': 'Horror'}, {'id': 9648, 'n...</td>\n",
              "      <td>10000000</td>\n",
              "      <td>http://www.insidiousmovie.com</td>\n",
              "      <td>[{'id': 2723, 'name': 'medium'}, {'id': 2849, ...</td>\n",
              "      <td>en</td>\n",
              "      <td>Parapsychologist Elise Rainier and her team tr...</td>\n",
              "      <td>42.487</td>\n",
              "      <td>[{'id': 11341, 'logo_path': '/xytTBODEy3p20ksH...</td>\n",
              "      <td>[{'iso_3166_1': 'US', 'name': 'United States o...</td>\n",
              "      <td>2018-01-03</td>\n",
              "      <td>167184112</td>\n",
              "      <td>103</td>\n",
              "      <td>[{'english_name': 'English', 'iso_639_1': 'en'...</td>\n",
              "      <td>Released</td>\n",
              "    </tr>\n",
              "    <tr>\n",
              "      <th>1</th>\n",
              "      <td>The Strange Ones</td>\n",
              "      <td>426258</td>\n",
              "      <td>[{'id': 53, 'name': 'Thriller'}, {'id': 18, 'n...</td>\n",
              "      <td>0</td>\n",
              "      <td>http://thestrangeones.com/</td>\n",
              "      <td>[{'id': 380, 'name': 'sibling relationship'}, ...</td>\n",
              "      <td>en</td>\n",
              "      <td>Mysterious events surround the travels of two ...</td>\n",
              "      <td>7.550</td>\n",
              "      <td>[{'id': 35562, 'logo_path': '/cpeGUCuKo2vgaxzr...</td>\n",
              "      <td>[{'iso_3166_1': 'US', 'name': 'United States o...</td>\n",
              "      <td>2018-01-05</td>\n",
              "      <td>0</td>\n",
              "      <td>81</td>\n",
              "      <td>[{'english_name': 'English', 'iso_639_1': 'en'...</td>\n",
              "      <td>Released</td>\n",
              "    </tr>\n",
              "    <tr>\n",
              "      <th>2</th>\n",
              "      <td>Stratton</td>\n",
              "      <td>348389</td>\n",
              "      <td>[{'id': 28, 'name': 'Action'}, {'id': 53, 'nam...</td>\n",
              "      <td>0</td>\n",
              "      <td>http://www.gfmfilms.co.uk/stratton</td>\n",
              "      <td>[{'id': 818, 'name': 'based on novel or book'}...</td>\n",
              "      <td>en</td>\n",
              "      <td>A British Special Boat Service commando tracks...</td>\n",
              "      <td>14.603</td>\n",
              "      <td>[{'id': 23970, 'logo_path': None, 'name': 'Twi...</td>\n",
              "      <td>[{'iso_3166_1': 'GB', 'name': 'United Kingdom'}]</td>\n",
              "      <td>2017-07-06</td>\n",
              "      <td>0</td>\n",
              "      <td>94</td>\n",
              "      <td>[{'english_name': 'English', 'iso_639_1': 'en'...</td>\n",
              "      <td>Released</td>\n",
              "    </tr>\n",
              "    <tr>\n",
              "      <th>3</th>\n",
              "      <td>Sweet Country</td>\n",
              "      <td>468210</td>\n",
              "      <td>[{'id': 18, 'name': 'Drama'}, {'id': 36, 'name...</td>\n",
              "      <td>0</td>\n",
              "      <td>https://bunyaproductions.com.au/sweet-country/</td>\n",
              "      <td>[{'id': 570, 'name': 'rape'}, {'id': 2831, 'na...</td>\n",
              "      <td>en</td>\n",
              "      <td>It’s 1929 on the vast, desert-like, Eastern Ar...</td>\n",
              "      <td>5.709</td>\n",
              "      <td>[{'id': 86737, 'logo_path': None, 'name': 'Bun...</td>\n",
              "      <td>[{'iso_3166_1': 'AU', 'name': 'Australia'}]</td>\n",
              "      <td>2018-01-25</td>\n",
              "      <td>0</td>\n",
              "      <td>113</td>\n",
              "      <td>[{'english_name': 'English', 'iso_639_1': 'en'...</td>\n",
              "      <td>Released</td>\n",
              "    </tr>\n",
              "    <tr>\n",
              "      <th>4</th>\n",
              "      <td>The Commuter</td>\n",
              "      <td>399035</td>\n",
              "      <td>[{'id': 28, 'name': 'Action'}, {'id': 53, 'nam...</td>\n",
              "      <td>30000000</td>\n",
              "      <td>https://thecommuter.movie/</td>\n",
              "      <td>[{'id': 10410, 'name': 'conspiracy'}, {'id': 1...</td>\n",
              "      <td>en</td>\n",
              "      <td>A businessman, on his daily commute home, gets...</td>\n",
              "      <td>28.361</td>\n",
              "      <td>[{'id': 694, 'logo_path': '/5LEHONGkZBIoWvp1yg...</td>\n",
              "      <td>[{'iso_3166_1': 'US', 'name': 'United States o...</td>\n",
              "      <td>2018-01-11</td>\n",
              "      <td>119942387</td>\n",
              "      <td>104</td>\n",
              "      <td>[{'english_name': 'English', 'iso_639_1': 'en'...</td>\n",
              "      <td>Released</td>\n",
              "    </tr>\n",
              "  </tbody>\n",
              "</table>\n",
              "</div>"
            ],
            "text/plain": [
              "            original_title  ...    status\n",
              "0  Insidious: The Last Key  ...  Released\n",
              "1         The Strange Ones  ...  Released\n",
              "2                 Stratton  ...  Released\n",
              "3            Sweet Country  ...  Released\n",
              "4             The Commuter  ...  Released\n",
              "\n",
              "[5 rows x 16 columns]"
            ]
          },
          "metadata": {},
          "execution_count": 235
        }
      ]
    },
    {
      "cell_type": "markdown",
      "metadata": {
        "id": "oEqHL8vBYlbY"
      },
      "source": [
        "### tagline"
      ]
    },
    {
      "cell_type": "code",
      "metadata": {
        "id": "z5a838x-X_sn"
      },
      "source": [
        "def get_tagline(movie_id):\n",
        "  response = requests.get(\"https://api.themoviedb.org/3/movie/{}?api_key={}\".format(movie_id, tmdb.api_key))\n",
        "  data_json = response.json()\n",
        "  return data_json[\"tagline\"]"
      ],
      "execution_count": 236,
      "outputs": []
    },
    {
      "cell_type": "code",
      "metadata": {
        "id": "_eDz8ChCYtHB"
      },
      "source": [
        "dfs_concat [\"tagline\"] = dfs_concat[\"id\"].map(lambda x: get_tagline(str(x)))"
      ],
      "execution_count": 237,
      "outputs": []
    },
    {
      "cell_type": "code",
      "metadata": {
        "colab": {
          "base_uri": "https://localhost:8080/",
          "height": 598
        },
        "id": "_Sh6wp0VYx2g",
        "outputId": "cc095c53-f674-4352-b137-b966680c6a36"
      },
      "source": [
        "dfs_concat.head()"
      ],
      "execution_count": 238,
      "outputs": [
        {
          "output_type": "execute_result",
          "data": {
            "text/html": [
              "<div>\n",
              "<style scoped>\n",
              "    .dataframe tbody tr th:only-of-type {\n",
              "        vertical-align: middle;\n",
              "    }\n",
              "\n",
              "    .dataframe tbody tr th {\n",
              "        vertical-align: top;\n",
              "    }\n",
              "\n",
              "    .dataframe thead th {\n",
              "        text-align: right;\n",
              "    }\n",
              "</style>\n",
              "<table border=\"1\" class=\"dataframe\">\n",
              "  <thead>\n",
              "    <tr style=\"text-align: right;\">\n",
              "      <th></th>\n",
              "      <th>original_title</th>\n",
              "      <th>id</th>\n",
              "      <th>genres</th>\n",
              "      <th>budget</th>\n",
              "      <th>homepage</th>\n",
              "      <th>keywords</th>\n",
              "      <th>original_language</th>\n",
              "      <th>overview</th>\n",
              "      <th>popularity</th>\n",
              "      <th>production_companies</th>\n",
              "      <th>production_countries</th>\n",
              "      <th>release_date</th>\n",
              "      <th>revenue</th>\n",
              "      <th>runtime</th>\n",
              "      <th>spoken_languages</th>\n",
              "      <th>status</th>\n",
              "      <th>tagline</th>\n",
              "    </tr>\n",
              "  </thead>\n",
              "  <tbody>\n",
              "    <tr>\n",
              "      <th>0</th>\n",
              "      <td>Insidious: The Last Key</td>\n",
              "      <td>406563</td>\n",
              "      <td>[{'id': 27, 'name': 'Horror'}, {'id': 9648, 'n...</td>\n",
              "      <td>10000000</td>\n",
              "      <td>http://www.insidiousmovie.com</td>\n",
              "      <td>[{'id': 2723, 'name': 'medium'}, {'id': 2849, ...</td>\n",
              "      <td>en</td>\n",
              "      <td>Parapsychologist Elise Rainier and her team tr...</td>\n",
              "      <td>42.487</td>\n",
              "      <td>[{'id': 11341, 'logo_path': '/xytTBODEy3p20ksH...</td>\n",
              "      <td>[{'iso_3166_1': 'US', 'name': 'United States o...</td>\n",
              "      <td>2018-01-03</td>\n",
              "      <td>167184112</td>\n",
              "      <td>103</td>\n",
              "      <td>[{'english_name': 'English', 'iso_639_1': 'en'...</td>\n",
              "      <td>Released</td>\n",
              "      <td>Fear comes home.</td>\n",
              "    </tr>\n",
              "    <tr>\n",
              "      <th>1</th>\n",
              "      <td>The Strange Ones</td>\n",
              "      <td>426258</td>\n",
              "      <td>[{'id': 53, 'name': 'Thriller'}, {'id': 18, 'n...</td>\n",
              "      <td>0</td>\n",
              "      <td>http://thestrangeones.com/</td>\n",
              "      <td>[{'id': 380, 'name': 'sibling relationship'}, ...</td>\n",
              "      <td>en</td>\n",
              "      <td>Mysterious events surround the travels of two ...</td>\n",
              "      <td>7.550</td>\n",
              "      <td>[{'id': 35562, 'logo_path': '/cpeGUCuKo2vgaxzr...</td>\n",
              "      <td>[{'iso_3166_1': 'US', 'name': 'United States o...</td>\n",
              "      <td>2018-01-05</td>\n",
              "      <td>0</td>\n",
              "      <td>81</td>\n",
              "      <td>[{'english_name': 'English', 'iso_639_1': 'en'...</td>\n",
              "      <td>Released</td>\n",
              "      <td></td>\n",
              "    </tr>\n",
              "    <tr>\n",
              "      <th>2</th>\n",
              "      <td>Stratton</td>\n",
              "      <td>348389</td>\n",
              "      <td>[{'id': 28, 'name': 'Action'}, {'id': 53, 'nam...</td>\n",
              "      <td>0</td>\n",
              "      <td>http://www.gfmfilms.co.uk/stratton</td>\n",
              "      <td>[{'id': 818, 'name': 'based on novel or book'}...</td>\n",
              "      <td>en</td>\n",
              "      <td>A British Special Boat Service commando tracks...</td>\n",
              "      <td>14.603</td>\n",
              "      <td>[{'id': 23970, 'logo_path': None, 'name': 'Twi...</td>\n",
              "      <td>[{'iso_3166_1': 'GB', 'name': 'United Kingdom'}]</td>\n",
              "      <td>2017-07-06</td>\n",
              "      <td>0</td>\n",
              "      <td>94</td>\n",
              "      <td>[{'english_name': 'English', 'iso_639_1': 'en'...</td>\n",
              "      <td>Released</td>\n",
              "      <td>The enemy has a weapon. So do we.</td>\n",
              "    </tr>\n",
              "    <tr>\n",
              "      <th>3</th>\n",
              "      <td>Sweet Country</td>\n",
              "      <td>468210</td>\n",
              "      <td>[{'id': 18, 'name': 'Drama'}, {'id': 36, 'name...</td>\n",
              "      <td>0</td>\n",
              "      <td>https://bunyaproductions.com.au/sweet-country/</td>\n",
              "      <td>[{'id': 570, 'name': 'rape'}, {'id': 2831, 'na...</td>\n",
              "      <td>en</td>\n",
              "      <td>It’s 1929 on the vast, desert-like, Eastern Ar...</td>\n",
              "      <td>5.709</td>\n",
              "      <td>[{'id': 86737, 'logo_path': None, 'name': 'Bun...</td>\n",
              "      <td>[{'iso_3166_1': 'AU', 'name': 'Australia'}]</td>\n",
              "      <td>2018-01-25</td>\n",
              "      <td>0</td>\n",
              "      <td>113</td>\n",
              "      <td>[{'english_name': 'English', 'iso_639_1': 'en'...</td>\n",
              "      <td>Released</td>\n",
              "      <td>Justice itself is put on trial</td>\n",
              "    </tr>\n",
              "    <tr>\n",
              "      <th>4</th>\n",
              "      <td>The Commuter</td>\n",
              "      <td>399035</td>\n",
              "      <td>[{'id': 28, 'name': 'Action'}, {'id': 53, 'nam...</td>\n",
              "      <td>30000000</td>\n",
              "      <td>https://thecommuter.movie/</td>\n",
              "      <td>[{'id': 10410, 'name': 'conspiracy'}, {'id': 1...</td>\n",
              "      <td>en</td>\n",
              "      <td>A businessman, on his daily commute home, gets...</td>\n",
              "      <td>28.361</td>\n",
              "      <td>[{'id': 694, 'logo_path': '/5LEHONGkZBIoWvp1yg...</td>\n",
              "      <td>[{'iso_3166_1': 'US', 'name': 'United States o...</td>\n",
              "      <td>2018-01-11</td>\n",
              "      <td>119942387</td>\n",
              "      <td>104</td>\n",
              "      <td>[{'english_name': 'English', 'iso_639_1': 'en'...</td>\n",
              "      <td>Released</td>\n",
              "      <td>Lives are on the line</td>\n",
              "    </tr>\n",
              "  </tbody>\n",
              "</table>\n",
              "</div>"
            ],
            "text/plain": [
              "            original_title      id  ...    status                            tagline\n",
              "0  Insidious: The Last Key  406563  ...  Released                   Fear comes home.\n",
              "1         The Strange Ones  426258  ...  Released                                   \n",
              "2                 Stratton  348389  ...  Released  The enemy has a weapon. So do we.\n",
              "3            Sweet Country  468210  ...  Released     Justice itself is put on trial\n",
              "4             The Commuter  399035  ...  Released              Lives are on the line\n",
              "\n",
              "[5 rows x 17 columns]"
            ]
          },
          "metadata": {},
          "execution_count": 238
        }
      ]
    },
    {
      "cell_type": "markdown",
      "metadata": {
        "id": "kj_pnatqY5ky"
      },
      "source": [
        "### title"
      ]
    },
    {
      "cell_type": "code",
      "metadata": {
        "id": "BnZtat1iY3fh"
      },
      "source": [
        "def get_title(movie_id):\n",
        "  response = requests.get(\"https://api.themoviedb.org/3/movie/{}?api_key={}\".format(movie_id, tmdb.api_key))\n",
        "  data_json = response.json()\n",
        "  return data_json[\"title\"]"
      ],
      "execution_count": 239,
      "outputs": []
    },
    {
      "cell_type": "code",
      "metadata": {
        "id": "bimbCd2kZfNV"
      },
      "source": [
        "dfs_concat [\"taitle\"] = dfs_concat[\"id\"].map(lambda x: get_tagline(str(x)))"
      ],
      "execution_count": 240,
      "outputs": []
    },
    {
      "cell_type": "code",
      "metadata": {
        "colab": {
          "base_uri": "https://localhost:8080/",
          "height": 598
        },
        "id": "50aAPCpyZg3F",
        "outputId": "7e943877-3687-424e-820e-2d8a66fc7c0f"
      },
      "source": [
        "dfs_concat.head()"
      ],
      "execution_count": 241,
      "outputs": [
        {
          "output_type": "execute_result",
          "data": {
            "text/html": [
              "<div>\n",
              "<style scoped>\n",
              "    .dataframe tbody tr th:only-of-type {\n",
              "        vertical-align: middle;\n",
              "    }\n",
              "\n",
              "    .dataframe tbody tr th {\n",
              "        vertical-align: top;\n",
              "    }\n",
              "\n",
              "    .dataframe thead th {\n",
              "        text-align: right;\n",
              "    }\n",
              "</style>\n",
              "<table border=\"1\" class=\"dataframe\">\n",
              "  <thead>\n",
              "    <tr style=\"text-align: right;\">\n",
              "      <th></th>\n",
              "      <th>original_title</th>\n",
              "      <th>id</th>\n",
              "      <th>genres</th>\n",
              "      <th>budget</th>\n",
              "      <th>homepage</th>\n",
              "      <th>keywords</th>\n",
              "      <th>original_language</th>\n",
              "      <th>overview</th>\n",
              "      <th>popularity</th>\n",
              "      <th>production_companies</th>\n",
              "      <th>production_countries</th>\n",
              "      <th>release_date</th>\n",
              "      <th>revenue</th>\n",
              "      <th>runtime</th>\n",
              "      <th>spoken_languages</th>\n",
              "      <th>status</th>\n",
              "      <th>tagline</th>\n",
              "      <th>taitle</th>\n",
              "    </tr>\n",
              "  </thead>\n",
              "  <tbody>\n",
              "    <tr>\n",
              "      <th>0</th>\n",
              "      <td>Insidious: The Last Key</td>\n",
              "      <td>406563</td>\n",
              "      <td>[{'id': 27, 'name': 'Horror'}, {'id': 9648, 'n...</td>\n",
              "      <td>10000000</td>\n",
              "      <td>http://www.insidiousmovie.com</td>\n",
              "      <td>[{'id': 2723, 'name': 'medium'}, {'id': 2849, ...</td>\n",
              "      <td>en</td>\n",
              "      <td>Parapsychologist Elise Rainier and her team tr...</td>\n",
              "      <td>42.487</td>\n",
              "      <td>[{'id': 11341, 'logo_path': '/xytTBODEy3p20ksH...</td>\n",
              "      <td>[{'iso_3166_1': 'US', 'name': 'United States o...</td>\n",
              "      <td>2018-01-03</td>\n",
              "      <td>167184112</td>\n",
              "      <td>103</td>\n",
              "      <td>[{'english_name': 'English', 'iso_639_1': 'en'...</td>\n",
              "      <td>Released</td>\n",
              "      <td>Fear comes home.</td>\n",
              "      <td>Fear comes home.</td>\n",
              "    </tr>\n",
              "    <tr>\n",
              "      <th>1</th>\n",
              "      <td>The Strange Ones</td>\n",
              "      <td>426258</td>\n",
              "      <td>[{'id': 53, 'name': 'Thriller'}, {'id': 18, 'n...</td>\n",
              "      <td>0</td>\n",
              "      <td>http://thestrangeones.com/</td>\n",
              "      <td>[{'id': 380, 'name': 'sibling relationship'}, ...</td>\n",
              "      <td>en</td>\n",
              "      <td>Mysterious events surround the travels of two ...</td>\n",
              "      <td>7.550</td>\n",
              "      <td>[{'id': 35562, 'logo_path': '/cpeGUCuKo2vgaxzr...</td>\n",
              "      <td>[{'iso_3166_1': 'US', 'name': 'United States o...</td>\n",
              "      <td>2018-01-05</td>\n",
              "      <td>0</td>\n",
              "      <td>81</td>\n",
              "      <td>[{'english_name': 'English', 'iso_639_1': 'en'...</td>\n",
              "      <td>Released</td>\n",
              "      <td></td>\n",
              "      <td></td>\n",
              "    </tr>\n",
              "    <tr>\n",
              "      <th>2</th>\n",
              "      <td>Stratton</td>\n",
              "      <td>348389</td>\n",
              "      <td>[{'id': 28, 'name': 'Action'}, {'id': 53, 'nam...</td>\n",
              "      <td>0</td>\n",
              "      <td>http://www.gfmfilms.co.uk/stratton</td>\n",
              "      <td>[{'id': 818, 'name': 'based on novel or book'}...</td>\n",
              "      <td>en</td>\n",
              "      <td>A British Special Boat Service commando tracks...</td>\n",
              "      <td>14.603</td>\n",
              "      <td>[{'id': 23970, 'logo_path': None, 'name': 'Twi...</td>\n",
              "      <td>[{'iso_3166_1': 'GB', 'name': 'United Kingdom'}]</td>\n",
              "      <td>2017-07-06</td>\n",
              "      <td>0</td>\n",
              "      <td>94</td>\n",
              "      <td>[{'english_name': 'English', 'iso_639_1': 'en'...</td>\n",
              "      <td>Released</td>\n",
              "      <td>The enemy has a weapon. So do we.</td>\n",
              "      <td>The enemy has a weapon. So do we.</td>\n",
              "    </tr>\n",
              "    <tr>\n",
              "      <th>3</th>\n",
              "      <td>Sweet Country</td>\n",
              "      <td>468210</td>\n",
              "      <td>[{'id': 18, 'name': 'Drama'}, {'id': 36, 'name...</td>\n",
              "      <td>0</td>\n",
              "      <td>https://bunyaproductions.com.au/sweet-country/</td>\n",
              "      <td>[{'id': 570, 'name': 'rape'}, {'id': 2831, 'na...</td>\n",
              "      <td>en</td>\n",
              "      <td>It’s 1929 on the vast, desert-like, Eastern Ar...</td>\n",
              "      <td>5.709</td>\n",
              "      <td>[{'id': 86737, 'logo_path': None, 'name': 'Bun...</td>\n",
              "      <td>[{'iso_3166_1': 'AU', 'name': 'Australia'}]</td>\n",
              "      <td>2018-01-25</td>\n",
              "      <td>0</td>\n",
              "      <td>113</td>\n",
              "      <td>[{'english_name': 'English', 'iso_639_1': 'en'...</td>\n",
              "      <td>Released</td>\n",
              "      <td>Justice itself is put on trial</td>\n",
              "      <td>Justice itself is put on trial</td>\n",
              "    </tr>\n",
              "    <tr>\n",
              "      <th>4</th>\n",
              "      <td>The Commuter</td>\n",
              "      <td>399035</td>\n",
              "      <td>[{'id': 28, 'name': 'Action'}, {'id': 53, 'nam...</td>\n",
              "      <td>30000000</td>\n",
              "      <td>https://thecommuter.movie/</td>\n",
              "      <td>[{'id': 10410, 'name': 'conspiracy'}, {'id': 1...</td>\n",
              "      <td>en</td>\n",
              "      <td>A businessman, on his daily commute home, gets...</td>\n",
              "      <td>28.361</td>\n",
              "      <td>[{'id': 694, 'logo_path': '/5LEHONGkZBIoWvp1yg...</td>\n",
              "      <td>[{'iso_3166_1': 'US', 'name': 'United States o...</td>\n",
              "      <td>2018-01-11</td>\n",
              "      <td>119942387</td>\n",
              "      <td>104</td>\n",
              "      <td>[{'english_name': 'English', 'iso_639_1': 'en'...</td>\n",
              "      <td>Released</td>\n",
              "      <td>Lives are on the line</td>\n",
              "      <td>Lives are on the line</td>\n",
              "    </tr>\n",
              "  </tbody>\n",
              "</table>\n",
              "</div>"
            ],
            "text/plain": [
              "            original_title  ...                             taitle\n",
              "0  Insidious: The Last Key  ...                   Fear comes home.\n",
              "1         The Strange Ones  ...                                   \n",
              "2                 Stratton  ...  The enemy has a weapon. So do we.\n",
              "3            Sweet Country  ...     Justice itself is put on trial\n",
              "4             The Commuter  ...              Lives are on the line\n",
              "\n",
              "[5 rows x 18 columns]"
            ]
          },
          "metadata": {},
          "execution_count": 241
        }
      ]
    },
    {
      "cell_type": "markdown",
      "metadata": {
        "id": "06k4dmZBZssQ"
      },
      "source": [
        "### vote_average"
      ]
    },
    {
      "cell_type": "code",
      "metadata": {
        "id": "kIPTDWWGZ68d"
      },
      "source": [
        "def get_vote_averege(movie_id):\n",
        "  response = requests.get(\"https://api.themoviedb.org/3/movie/{}?api_key={}\".format(movie_id, tmdb.api_key))\n",
        "  data_json = response.json()\n",
        "  return data_json[\"vote_average\"]"
      ],
      "execution_count": 242,
      "outputs": []
    },
    {
      "cell_type": "code",
      "metadata": {
        "id": "pIfTR5ybaA5o"
      },
      "source": [
        "dfs_concat [\"vote_average\"] = dfs_concat[\"id\"].map(lambda x: get_vote_averege(str(x)))"
      ],
      "execution_count": 243,
      "outputs": []
    },
    {
      "cell_type": "code",
      "metadata": {
        "colab": {
          "base_uri": "https://localhost:8080/",
          "height": 598
        },
        "id": "M9QvLbw6aKxF",
        "outputId": "0fb48fa9-371d-470c-a455-f4919c8ffca8"
      },
      "source": [
        "dfs_concat.head()"
      ],
      "execution_count": 244,
      "outputs": [
        {
          "output_type": "execute_result",
          "data": {
            "text/html": [
              "<div>\n",
              "<style scoped>\n",
              "    .dataframe tbody tr th:only-of-type {\n",
              "        vertical-align: middle;\n",
              "    }\n",
              "\n",
              "    .dataframe tbody tr th {\n",
              "        vertical-align: top;\n",
              "    }\n",
              "\n",
              "    .dataframe thead th {\n",
              "        text-align: right;\n",
              "    }\n",
              "</style>\n",
              "<table border=\"1\" class=\"dataframe\">\n",
              "  <thead>\n",
              "    <tr style=\"text-align: right;\">\n",
              "      <th></th>\n",
              "      <th>original_title</th>\n",
              "      <th>id</th>\n",
              "      <th>genres</th>\n",
              "      <th>budget</th>\n",
              "      <th>homepage</th>\n",
              "      <th>keywords</th>\n",
              "      <th>original_language</th>\n",
              "      <th>overview</th>\n",
              "      <th>popularity</th>\n",
              "      <th>production_companies</th>\n",
              "      <th>production_countries</th>\n",
              "      <th>release_date</th>\n",
              "      <th>revenue</th>\n",
              "      <th>runtime</th>\n",
              "      <th>spoken_languages</th>\n",
              "      <th>status</th>\n",
              "      <th>tagline</th>\n",
              "      <th>taitle</th>\n",
              "      <th>vote_average</th>\n",
              "    </tr>\n",
              "  </thead>\n",
              "  <tbody>\n",
              "    <tr>\n",
              "      <th>0</th>\n",
              "      <td>Insidious: The Last Key</td>\n",
              "      <td>406563</td>\n",
              "      <td>[{'id': 27, 'name': 'Horror'}, {'id': 9648, 'n...</td>\n",
              "      <td>10000000</td>\n",
              "      <td>http://www.insidiousmovie.com</td>\n",
              "      <td>[{'id': 2723, 'name': 'medium'}, {'id': 2849, ...</td>\n",
              "      <td>en</td>\n",
              "      <td>Parapsychologist Elise Rainier and her team tr...</td>\n",
              "      <td>42.487</td>\n",
              "      <td>[{'id': 11341, 'logo_path': '/xytTBODEy3p20ksH...</td>\n",
              "      <td>[{'iso_3166_1': 'US', 'name': 'United States o...</td>\n",
              "      <td>2018-01-03</td>\n",
              "      <td>167184112</td>\n",
              "      <td>103</td>\n",
              "      <td>[{'english_name': 'English', 'iso_639_1': 'en'...</td>\n",
              "      <td>Released</td>\n",
              "      <td>Fear comes home.</td>\n",
              "      <td>Fear comes home.</td>\n",
              "      <td>6.2</td>\n",
              "    </tr>\n",
              "    <tr>\n",
              "      <th>1</th>\n",
              "      <td>The Strange Ones</td>\n",
              "      <td>426258</td>\n",
              "      <td>[{'id': 53, 'name': 'Thriller'}, {'id': 18, 'n...</td>\n",
              "      <td>0</td>\n",
              "      <td>http://thestrangeones.com/</td>\n",
              "      <td>[{'id': 380, 'name': 'sibling relationship'}, ...</td>\n",
              "      <td>en</td>\n",
              "      <td>Mysterious events surround the travels of two ...</td>\n",
              "      <td>7.550</td>\n",
              "      <td>[{'id': 35562, 'logo_path': '/cpeGUCuKo2vgaxzr...</td>\n",
              "      <td>[{'iso_3166_1': 'US', 'name': 'United States o...</td>\n",
              "      <td>2018-01-05</td>\n",
              "      <td>0</td>\n",
              "      <td>81</td>\n",
              "      <td>[{'english_name': 'English', 'iso_639_1': 'en'...</td>\n",
              "      <td>Released</td>\n",
              "      <td></td>\n",
              "      <td></td>\n",
              "      <td>5.5</td>\n",
              "    </tr>\n",
              "    <tr>\n",
              "      <th>2</th>\n",
              "      <td>Stratton</td>\n",
              "      <td>348389</td>\n",
              "      <td>[{'id': 28, 'name': 'Action'}, {'id': 53, 'nam...</td>\n",
              "      <td>0</td>\n",
              "      <td>http://www.gfmfilms.co.uk/stratton</td>\n",
              "      <td>[{'id': 818, 'name': 'based on novel or book'}...</td>\n",
              "      <td>en</td>\n",
              "      <td>A British Special Boat Service commando tracks...</td>\n",
              "      <td>14.603</td>\n",
              "      <td>[{'id': 23970, 'logo_path': None, 'name': 'Twi...</td>\n",
              "      <td>[{'iso_3166_1': 'GB', 'name': 'United Kingdom'}]</td>\n",
              "      <td>2017-07-06</td>\n",
              "      <td>0</td>\n",
              "      <td>94</td>\n",
              "      <td>[{'english_name': 'English', 'iso_639_1': 'en'...</td>\n",
              "      <td>Released</td>\n",
              "      <td>The enemy has a weapon. So do we.</td>\n",
              "      <td>The enemy has a weapon. So do we.</td>\n",
              "      <td>4.9</td>\n",
              "    </tr>\n",
              "    <tr>\n",
              "      <th>3</th>\n",
              "      <td>Sweet Country</td>\n",
              "      <td>468210</td>\n",
              "      <td>[{'id': 18, 'name': 'Drama'}, {'id': 36, 'name...</td>\n",
              "      <td>0</td>\n",
              "      <td>https://bunyaproductions.com.au/sweet-country/</td>\n",
              "      <td>[{'id': 570, 'name': 'rape'}, {'id': 2831, 'na...</td>\n",
              "      <td>en</td>\n",
              "      <td>It’s 1929 on the vast, desert-like, Eastern Ar...</td>\n",
              "      <td>5.709</td>\n",
              "      <td>[{'id': 86737, 'logo_path': None, 'name': 'Bun...</td>\n",
              "      <td>[{'iso_3166_1': 'AU', 'name': 'Australia'}]</td>\n",
              "      <td>2018-01-25</td>\n",
              "      <td>0</td>\n",
              "      <td>113</td>\n",
              "      <td>[{'english_name': 'English', 'iso_639_1': 'en'...</td>\n",
              "      <td>Released</td>\n",
              "      <td>Justice itself is put on trial</td>\n",
              "      <td>Justice itself is put on trial</td>\n",
              "      <td>6.6</td>\n",
              "    </tr>\n",
              "    <tr>\n",
              "      <th>4</th>\n",
              "      <td>The Commuter</td>\n",
              "      <td>399035</td>\n",
              "      <td>[{'id': 28, 'name': 'Action'}, {'id': 53, 'nam...</td>\n",
              "      <td>30000000</td>\n",
              "      <td>https://thecommuter.movie/</td>\n",
              "      <td>[{'id': 10410, 'name': 'conspiracy'}, {'id': 1...</td>\n",
              "      <td>en</td>\n",
              "      <td>A businessman, on his daily commute home, gets...</td>\n",
              "      <td>28.361</td>\n",
              "      <td>[{'id': 694, 'logo_path': '/5LEHONGkZBIoWvp1yg...</td>\n",
              "      <td>[{'iso_3166_1': 'US', 'name': 'United States o...</td>\n",
              "      <td>2018-01-11</td>\n",
              "      <td>119942387</td>\n",
              "      <td>104</td>\n",
              "      <td>[{'english_name': 'English', 'iso_639_1': 'en'...</td>\n",
              "      <td>Released</td>\n",
              "      <td>Lives are on the line</td>\n",
              "      <td>Lives are on the line</td>\n",
              "      <td>6.3</td>\n",
              "    </tr>\n",
              "  </tbody>\n",
              "</table>\n",
              "</div>"
            ],
            "text/plain": [
              "            original_title  ...  vote_average\n",
              "0  Insidious: The Last Key  ...           6.2\n",
              "1         The Strange Ones  ...           5.5\n",
              "2                 Stratton  ...           4.9\n",
              "3            Sweet Country  ...           6.6\n",
              "4             The Commuter  ...           6.3\n",
              "\n",
              "[5 rows x 19 columns]"
            ]
          },
          "metadata": {},
          "execution_count": 244
        }
      ]
    },
    {
      "cell_type": "markdown",
      "metadata": {
        "id": "6ZLl25LcabVp"
      },
      "source": [
        "### vote_count"
      ]
    },
    {
      "cell_type": "code",
      "metadata": {
        "id": "Wre98ZPlacdk"
      },
      "source": [
        "def get_vote_count(movie_id):\n",
        "  response = requests.get(\"https://api.themoviedb.org/3/movie/{}?api_key={}\".format(movie_id, tmdb.api_key))\n",
        "  data_json = response.json()\n",
        "  return data_json[\"vote_count\"]"
      ],
      "execution_count": 245,
      "outputs": []
    },
    {
      "cell_type": "code",
      "metadata": {
        "id": "Oa5P3KbZajff"
      },
      "source": [
        "dfs_concat [\"vote_count\"] = dfs_concat[\"id\"].map(lambda x: get_vote_count(str(x)))"
      ],
      "execution_count": 246,
      "outputs": []
    },
    {
      "cell_type": "code",
      "metadata": {
        "colab": {
          "base_uri": "https://localhost:8080/",
          "height": 598
        },
        "id": "2FkVM6QsanfC",
        "outputId": "1811bef1-68a4-410d-8574-f04d9e6046f1"
      },
      "source": [
        "dfs_concat.head()"
      ],
      "execution_count": 247,
      "outputs": [
        {
          "output_type": "execute_result",
          "data": {
            "text/html": [
              "<div>\n",
              "<style scoped>\n",
              "    .dataframe tbody tr th:only-of-type {\n",
              "        vertical-align: middle;\n",
              "    }\n",
              "\n",
              "    .dataframe tbody tr th {\n",
              "        vertical-align: top;\n",
              "    }\n",
              "\n",
              "    .dataframe thead th {\n",
              "        text-align: right;\n",
              "    }\n",
              "</style>\n",
              "<table border=\"1\" class=\"dataframe\">\n",
              "  <thead>\n",
              "    <tr style=\"text-align: right;\">\n",
              "      <th></th>\n",
              "      <th>original_title</th>\n",
              "      <th>id</th>\n",
              "      <th>genres</th>\n",
              "      <th>budget</th>\n",
              "      <th>homepage</th>\n",
              "      <th>keywords</th>\n",
              "      <th>original_language</th>\n",
              "      <th>overview</th>\n",
              "      <th>popularity</th>\n",
              "      <th>production_companies</th>\n",
              "      <th>production_countries</th>\n",
              "      <th>release_date</th>\n",
              "      <th>revenue</th>\n",
              "      <th>runtime</th>\n",
              "      <th>spoken_languages</th>\n",
              "      <th>status</th>\n",
              "      <th>tagline</th>\n",
              "      <th>taitle</th>\n",
              "      <th>vote_average</th>\n",
              "      <th>vote_count</th>\n",
              "    </tr>\n",
              "  </thead>\n",
              "  <tbody>\n",
              "    <tr>\n",
              "      <th>0</th>\n",
              "      <td>Insidious: The Last Key</td>\n",
              "      <td>406563</td>\n",
              "      <td>[{'id': 27, 'name': 'Horror'}, {'id': 9648, 'n...</td>\n",
              "      <td>10000000</td>\n",
              "      <td>http://www.insidiousmovie.com</td>\n",
              "      <td>[{'id': 2723, 'name': 'medium'}, {'id': 2849, ...</td>\n",
              "      <td>en</td>\n",
              "      <td>Parapsychologist Elise Rainier and her team tr...</td>\n",
              "      <td>42.487</td>\n",
              "      <td>[{'id': 11341, 'logo_path': '/xytTBODEy3p20ksH...</td>\n",
              "      <td>[{'iso_3166_1': 'US', 'name': 'United States o...</td>\n",
              "      <td>2018-01-03</td>\n",
              "      <td>167184112</td>\n",
              "      <td>103</td>\n",
              "      <td>[{'english_name': 'English', 'iso_639_1': 'en'...</td>\n",
              "      <td>Released</td>\n",
              "      <td>Fear comes home.</td>\n",
              "      <td>Fear comes home.</td>\n",
              "      <td>6.2</td>\n",
              "      <td>2124</td>\n",
              "    </tr>\n",
              "    <tr>\n",
              "      <th>1</th>\n",
              "      <td>The Strange Ones</td>\n",
              "      <td>426258</td>\n",
              "      <td>[{'id': 53, 'name': 'Thriller'}, {'id': 18, 'n...</td>\n",
              "      <td>0</td>\n",
              "      <td>http://thestrangeones.com/</td>\n",
              "      <td>[{'id': 380, 'name': 'sibling relationship'}, ...</td>\n",
              "      <td>en</td>\n",
              "      <td>Mysterious events surround the travels of two ...</td>\n",
              "      <td>7.550</td>\n",
              "      <td>[{'id': 35562, 'logo_path': '/cpeGUCuKo2vgaxzr...</td>\n",
              "      <td>[{'iso_3166_1': 'US', 'name': 'United States o...</td>\n",
              "      <td>2018-01-05</td>\n",
              "      <td>0</td>\n",
              "      <td>81</td>\n",
              "      <td>[{'english_name': 'English', 'iso_639_1': 'en'...</td>\n",
              "      <td>Released</td>\n",
              "      <td></td>\n",
              "      <td></td>\n",
              "      <td>5.5</td>\n",
              "      <td>60</td>\n",
              "    </tr>\n",
              "    <tr>\n",
              "      <th>2</th>\n",
              "      <td>Stratton</td>\n",
              "      <td>348389</td>\n",
              "      <td>[{'id': 28, 'name': 'Action'}, {'id': 53, 'nam...</td>\n",
              "      <td>0</td>\n",
              "      <td>http://www.gfmfilms.co.uk/stratton</td>\n",
              "      <td>[{'id': 818, 'name': 'based on novel or book'}...</td>\n",
              "      <td>en</td>\n",
              "      <td>A British Special Boat Service commando tracks...</td>\n",
              "      <td>14.603</td>\n",
              "      <td>[{'id': 23970, 'logo_path': None, 'name': 'Twi...</td>\n",
              "      <td>[{'iso_3166_1': 'GB', 'name': 'United Kingdom'}]</td>\n",
              "      <td>2017-07-06</td>\n",
              "      <td>0</td>\n",
              "      <td>94</td>\n",
              "      <td>[{'english_name': 'English', 'iso_639_1': 'en'...</td>\n",
              "      <td>Released</td>\n",
              "      <td>The enemy has a weapon. So do we.</td>\n",
              "      <td>The enemy has a weapon. So do we.</td>\n",
              "      <td>4.9</td>\n",
              "      <td>168</td>\n",
              "    </tr>\n",
              "    <tr>\n",
              "      <th>3</th>\n",
              "      <td>Sweet Country</td>\n",
              "      <td>468210</td>\n",
              "      <td>[{'id': 18, 'name': 'Drama'}, {'id': 36, 'name...</td>\n",
              "      <td>0</td>\n",
              "      <td>https://bunyaproductions.com.au/sweet-country/</td>\n",
              "      <td>[{'id': 570, 'name': 'rape'}, {'id': 2831, 'na...</td>\n",
              "      <td>en</td>\n",
              "      <td>It’s 1929 on the vast, desert-like, Eastern Ar...</td>\n",
              "      <td>5.709</td>\n",
              "      <td>[{'id': 86737, 'logo_path': None, 'name': 'Bun...</td>\n",
              "      <td>[{'iso_3166_1': 'AU', 'name': 'Australia'}]</td>\n",
              "      <td>2018-01-25</td>\n",
              "      <td>0</td>\n",
              "      <td>113</td>\n",
              "      <td>[{'english_name': 'English', 'iso_639_1': 'en'...</td>\n",
              "      <td>Released</td>\n",
              "      <td>Justice itself is put on trial</td>\n",
              "      <td>Justice itself is put on trial</td>\n",
              "      <td>6.6</td>\n",
              "      <td>128</td>\n",
              "    </tr>\n",
              "    <tr>\n",
              "      <th>4</th>\n",
              "      <td>The Commuter</td>\n",
              "      <td>399035</td>\n",
              "      <td>[{'id': 28, 'name': 'Action'}, {'id': 53, 'nam...</td>\n",
              "      <td>30000000</td>\n",
              "      <td>https://thecommuter.movie/</td>\n",
              "      <td>[{'id': 10410, 'name': 'conspiracy'}, {'id': 1...</td>\n",
              "      <td>en</td>\n",
              "      <td>A businessman, on his daily commute home, gets...</td>\n",
              "      <td>28.361</td>\n",
              "      <td>[{'id': 694, 'logo_path': '/5LEHONGkZBIoWvp1yg...</td>\n",
              "      <td>[{'iso_3166_1': 'US', 'name': 'United States o...</td>\n",
              "      <td>2018-01-11</td>\n",
              "      <td>119942387</td>\n",
              "      <td>104</td>\n",
              "      <td>[{'english_name': 'English', 'iso_639_1': 'en'...</td>\n",
              "      <td>Released</td>\n",
              "      <td>Lives are on the line</td>\n",
              "      <td>Lives are on the line</td>\n",
              "      <td>6.3</td>\n",
              "      <td>3552</td>\n",
              "    </tr>\n",
              "  </tbody>\n",
              "</table>\n",
              "</div>"
            ],
            "text/plain": [
              "            original_title      id  ... vote_average  vote_count\n",
              "0  Insidious: The Last Key  406563  ...          6.2        2124\n",
              "1         The Strange Ones  426258  ...          5.5          60\n",
              "2                 Stratton  348389  ...          4.9         168\n",
              "3            Sweet Country  468210  ...          6.6         128\n",
              "4             The Commuter  399035  ...          6.3        3552\n",
              "\n",
              "[5 rows x 20 columns]"
            ]
          },
          "metadata": {},
          "execution_count": 247
        }
      ]
    },
    {
      "cell_type": "code",
      "metadata": {
        "id": "KQTYE6jUdVLD"
      },
      "source": [
        ""
      ],
      "execution_count": 247,
      "outputs": []
    },
    {
      "cell_type": "markdown",
      "metadata": {
        "id": "ZnYGeAkkdVoh"
      },
      "source": [
        "### Comparando dataframes"
      ]
    },
    {
      "cell_type": "code",
      "metadata": {
        "colab": {
          "base_uri": "https://localhost:8080/"
        },
        "id": "U64NTnySdXwr",
        "outputId": "4261eb8b-95cc-4413-c9fd-b399b83db496"
      },
      "source": [
        "df_movies.shape"
      ],
      "execution_count": 248,
      "outputs": [
        {
          "output_type": "execute_result",
          "data": {
            "text/plain": [
              "(4803, 20)"
            ]
          },
          "metadata": {},
          "execution_count": 248
        }
      ]
    },
    {
      "cell_type": "code",
      "metadata": {
        "colab": {
          "base_uri": "https://localhost:8080/"
        },
        "id": "7a0A81Sedaen",
        "outputId": "4c45a451-35c9-4927-86dd-035073ecdfb3"
      },
      "source": [
        "dfs_concat.shape"
      ],
      "execution_count": 249,
      "outputs": [
        {
          "output_type": "execute_result",
          "data": {
            "text/plain": [
              "(893, 20)"
            ]
          },
          "metadata": {},
          "execution_count": 249
        }
      ]
    },
    {
      "cell_type": "markdown",
      "metadata": {
        "id": "v0HwGYzsdzFt"
      },
      "source": [
        "### Inserção crédito"
      ]
    },
    {
      "cell_type": "code",
      "metadata": {
        "id": "MJkp43lxd3Ne"
      },
      "source": [
        "df_movies_credits = pd.read_csv(\"/content/credits.csv\")"
      ],
      "execution_count": 250,
      "outputs": []
    },
    {
      "cell_type": "code",
      "metadata": {
        "colab": {
          "base_uri": "https://localhost:8080/",
          "height": 204
        },
        "id": "0rPdb2vse0sB",
        "outputId": "4b7e646c-1066-4118-d548-7f840535f6d9"
      },
      "source": [
        "df_movies_credits.head()"
      ],
      "execution_count": 251,
      "outputs": [
        {
          "output_type": "execute_result",
          "data": {
            "text/html": [
              "<div>\n",
              "<style scoped>\n",
              "    .dataframe tbody tr th:only-of-type {\n",
              "        vertical-align: middle;\n",
              "    }\n",
              "\n",
              "    .dataframe tbody tr th {\n",
              "        vertical-align: top;\n",
              "    }\n",
              "\n",
              "    .dataframe thead th {\n",
              "        text-align: right;\n",
              "    }\n",
              "</style>\n",
              "<table border=\"1\" class=\"dataframe\">\n",
              "  <thead>\n",
              "    <tr style=\"text-align: right;\">\n",
              "      <th></th>\n",
              "      <th>cast</th>\n",
              "      <th>crew</th>\n",
              "      <th>id</th>\n",
              "    </tr>\n",
              "  </thead>\n",
              "  <tbody>\n",
              "    <tr>\n",
              "      <th>0</th>\n",
              "      <td>[{'cast_id': 14, 'character': 'Woody (voice)',...</td>\n",
              "      <td>[{'credit_id': '52fe4284c3a36847f8024f49', 'de...</td>\n",
              "      <td>862</td>\n",
              "    </tr>\n",
              "    <tr>\n",
              "      <th>1</th>\n",
              "      <td>[{'cast_id': 1, 'character': 'Alan Parrish', '...</td>\n",
              "      <td>[{'credit_id': '52fe44bfc3a36847f80a7cd1', 'de...</td>\n",
              "      <td>8844</td>\n",
              "    </tr>\n",
              "    <tr>\n",
              "      <th>2</th>\n",
              "      <td>[{'cast_id': 2, 'character': 'Max Goldman', 'c...</td>\n",
              "      <td>[{'credit_id': '52fe466a9251416c75077a89', 'de...</td>\n",
              "      <td>15602</td>\n",
              "    </tr>\n",
              "    <tr>\n",
              "      <th>3</th>\n",
              "      <td>[{'cast_id': 1, 'character': \"Savannah 'Vannah...</td>\n",
              "      <td>[{'credit_id': '52fe44779251416c91011acb', 'de...</td>\n",
              "      <td>31357</td>\n",
              "    </tr>\n",
              "    <tr>\n",
              "      <th>4</th>\n",
              "      <td>[{'cast_id': 1, 'character': 'George Banks', '...</td>\n",
              "      <td>[{'credit_id': '52fe44959251416c75039ed7', 'de...</td>\n",
              "      <td>11862</td>\n",
              "    </tr>\n",
              "  </tbody>\n",
              "</table>\n",
              "</div>"
            ],
            "text/plain": [
              "                                                cast  ...     id\n",
              "0  [{'cast_id': 14, 'character': 'Woody (voice)',...  ...    862\n",
              "1  [{'cast_id': 1, 'character': 'Alan Parrish', '...  ...   8844\n",
              "2  [{'cast_id': 2, 'character': 'Max Goldman', 'c...  ...  15602\n",
              "3  [{'cast_id': 1, 'character': \"Savannah 'Vannah...  ...  31357\n",
              "4  [{'cast_id': 1, 'character': 'George Banks', '...  ...  11862\n",
              "\n",
              "[5 rows x 3 columns]"
            ]
          },
          "metadata": {},
          "execution_count": 251
        }
      ]
    },
    {
      "cell_type": "code",
      "metadata": {
        "colab": {
          "base_uri": "https://localhost:8080/"
        },
        "id": "KbMIGBmUf1wy",
        "outputId": "84a3cb50-65bd-4af4-cd5c-0ed9eb4b0453"
      },
      "source": [
        "df_movies.info()"
      ],
      "execution_count": 252,
      "outputs": [
        {
          "output_type": "stream",
          "name": "stdout",
          "text": [
            "<class 'pandas.core.frame.DataFrame'>\n",
            "RangeIndex: 4803 entries, 0 to 4802\n",
            "Data columns (total 20 columns):\n",
            " #   Column                Non-Null Count  Dtype  \n",
            "---  ------                --------------  -----  \n",
            " 0   budget                4803 non-null   int64  \n",
            " 1   genres                4803 non-null   object \n",
            " 2   homepage              1712 non-null   object \n",
            " 3   id                    4803 non-null   int64  \n",
            " 4   keywords              4803 non-null   object \n",
            " 5   original_language     4803 non-null   object \n",
            " 6   original_title        4803 non-null   object \n",
            " 7   overview              4800 non-null   object \n",
            " 8   popularity            4803 non-null   float64\n",
            " 9   production_companies  4803 non-null   object \n",
            " 10  production_countries  4803 non-null   object \n",
            " 11  release_date          4802 non-null   object \n",
            " 12  revenue               4803 non-null   int64  \n",
            " 13  runtime               4801 non-null   float64\n",
            " 14  spoken_languages      4803 non-null   object \n",
            " 15  status                4803 non-null   object \n",
            " 16  tagline               3959 non-null   object \n",
            " 17  title                 4803 non-null   object \n",
            " 18  vote_average          4803 non-null   float64\n",
            " 19  vote_count            4803 non-null   int64  \n",
            "dtypes: float64(3), int64(4), object(13)\n",
            "memory usage: 750.6+ KB\n"
          ]
        }
      ]
    },
    {
      "cell_type": "code",
      "metadata": {
        "colab": {
          "base_uri": "https://localhost:8080/"
        },
        "id": "Ycry75fcgAKZ",
        "outputId": "3b8e2326-3c58-4bb5-bc45-06d3aa6282c0"
      },
      "source": [
        "df_movies_credits.info()"
      ],
      "execution_count": 253,
      "outputs": [
        {
          "output_type": "stream",
          "name": "stdout",
          "text": [
            "<class 'pandas.core.frame.DataFrame'>\n",
            "RangeIndex: 45476 entries, 0 to 45475\n",
            "Data columns (total 3 columns):\n",
            " #   Column  Non-Null Count  Dtype \n",
            "---  ------  --------------  ----- \n",
            " 0   cast    45476 non-null  object\n",
            " 1   crew    45476 non-null  object\n",
            " 2   id      45476 non-null  int64 \n",
            "dtypes: int64(1), object(2)\n",
            "memory usage: 1.0+ MB\n"
          ]
        }
      ]
    },
    {
      "cell_type": "code",
      "metadata": {
        "id": "leBt7i1WgD1_"
      },
      "source": [
        "df_movies = df_movies.merge(df_movies_credits, on=\"id\")"
      ],
      "execution_count": 254,
      "outputs": []
    },
    {
      "cell_type": "code",
      "metadata": {
        "colab": {
          "base_uri": "https://localhost:8080/",
          "height": 717
        },
        "id": "jZjqIZ8vgudW",
        "outputId": "a48bbab2-d1b3-43df-a423-af39c5a7003d"
      },
      "source": [
        "df_movies.head()"
      ],
      "execution_count": 255,
      "outputs": [
        {
          "output_type": "execute_result",
          "data": {
            "text/html": [
              "<div>\n",
              "<style scoped>\n",
              "    .dataframe tbody tr th:only-of-type {\n",
              "        vertical-align: middle;\n",
              "    }\n",
              "\n",
              "    .dataframe tbody tr th {\n",
              "        vertical-align: top;\n",
              "    }\n",
              "\n",
              "    .dataframe thead th {\n",
              "        text-align: right;\n",
              "    }\n",
              "</style>\n",
              "<table border=\"1\" class=\"dataframe\">\n",
              "  <thead>\n",
              "    <tr style=\"text-align: right;\">\n",
              "      <th></th>\n",
              "      <th>budget</th>\n",
              "      <th>genres</th>\n",
              "      <th>homepage</th>\n",
              "      <th>id</th>\n",
              "      <th>keywords</th>\n",
              "      <th>original_language</th>\n",
              "      <th>original_title</th>\n",
              "      <th>overview</th>\n",
              "      <th>popularity</th>\n",
              "      <th>production_companies</th>\n",
              "      <th>production_countries</th>\n",
              "      <th>release_date</th>\n",
              "      <th>revenue</th>\n",
              "      <th>runtime</th>\n",
              "      <th>spoken_languages</th>\n",
              "      <th>status</th>\n",
              "      <th>tagline</th>\n",
              "      <th>title</th>\n",
              "      <th>vote_average</th>\n",
              "      <th>vote_count</th>\n",
              "      <th>cast</th>\n",
              "      <th>crew</th>\n",
              "    </tr>\n",
              "  </thead>\n",
              "  <tbody>\n",
              "    <tr>\n",
              "      <th>0</th>\n",
              "      <td>237000000</td>\n",
              "      <td>[{\"id\": 28, \"name\": \"Action\"}, {\"id\": 12, \"nam...</td>\n",
              "      <td>http://www.avatarmovie.com/</td>\n",
              "      <td>19995</td>\n",
              "      <td>[{\"id\": 1463, \"name\": \"culture clash\"}, {\"id\":...</td>\n",
              "      <td>en</td>\n",
              "      <td>Avatar</td>\n",
              "      <td>In the 22nd century, a paraplegic Marine is di...</td>\n",
              "      <td>150.437577</td>\n",
              "      <td>[{\"name\": \"Ingenious Film Partners\", \"id\": 289...</td>\n",
              "      <td>[{\"iso_3166_1\": \"US\", \"name\": \"United States o...</td>\n",
              "      <td>2009-12-10</td>\n",
              "      <td>2787965087</td>\n",
              "      <td>162.0</td>\n",
              "      <td>[{\"iso_639_1\": \"en\", \"name\": \"English\"}, {\"iso...</td>\n",
              "      <td>Released</td>\n",
              "      <td>Enter the World of Pandora.</td>\n",
              "      <td>Avatar</td>\n",
              "      <td>7.2</td>\n",
              "      <td>11800</td>\n",
              "      <td>[{'cast_id': 242, 'character': 'Jake Sully', '...</td>\n",
              "      <td>[{'credit_id': '52fe48009251416c750aca23', 'de...</td>\n",
              "    </tr>\n",
              "    <tr>\n",
              "      <th>1</th>\n",
              "      <td>300000000</td>\n",
              "      <td>[{\"id\": 12, \"name\": \"Adventure\"}, {\"id\": 14, \"...</td>\n",
              "      <td>http://disney.go.com/disneypictures/pirates/</td>\n",
              "      <td>285</td>\n",
              "      <td>[{\"id\": 270, \"name\": \"ocean\"}, {\"id\": 726, \"na...</td>\n",
              "      <td>en</td>\n",
              "      <td>Pirates of the Caribbean: At World's End</td>\n",
              "      <td>Captain Barbossa, long believed to be dead, ha...</td>\n",
              "      <td>139.082615</td>\n",
              "      <td>[{\"name\": \"Walt Disney Pictures\", \"id\": 2}, {\"...</td>\n",
              "      <td>[{\"iso_3166_1\": \"US\", \"name\": \"United States o...</td>\n",
              "      <td>2007-05-19</td>\n",
              "      <td>961000000</td>\n",
              "      <td>169.0</td>\n",
              "      <td>[{\"iso_639_1\": \"en\", \"name\": \"English\"}]</td>\n",
              "      <td>Released</td>\n",
              "      <td>At the end of the world, the adventure begins.</td>\n",
              "      <td>Pirates of the Caribbean: At World's End</td>\n",
              "      <td>6.9</td>\n",
              "      <td>4500</td>\n",
              "      <td>[{'cast_id': 4, 'character': 'Captain Jack Spa...</td>\n",
              "      <td>[{'credit_id': '52fe4232c3a36847f800b579', 'de...</td>\n",
              "    </tr>\n",
              "    <tr>\n",
              "      <th>2</th>\n",
              "      <td>245000000</td>\n",
              "      <td>[{\"id\": 28, \"name\": \"Action\"}, {\"id\": 12, \"nam...</td>\n",
              "      <td>http://www.sonypictures.com/movies/spectre/</td>\n",
              "      <td>206647</td>\n",
              "      <td>[{\"id\": 470, \"name\": \"spy\"}, {\"id\": 818, \"name...</td>\n",
              "      <td>en</td>\n",
              "      <td>Spectre</td>\n",
              "      <td>A cryptic message from Bond’s past sends him o...</td>\n",
              "      <td>107.376788</td>\n",
              "      <td>[{\"name\": \"Columbia Pictures\", \"id\": 5}, {\"nam...</td>\n",
              "      <td>[{\"iso_3166_1\": \"GB\", \"name\": \"United Kingdom\"...</td>\n",
              "      <td>2015-10-26</td>\n",
              "      <td>880674609</td>\n",
              "      <td>148.0</td>\n",
              "      <td>[{\"iso_639_1\": \"fr\", \"name\": \"Fran\\u00e7ais\"},...</td>\n",
              "      <td>Released</td>\n",
              "      <td>A Plan No One Escapes</td>\n",
              "      <td>Spectre</td>\n",
              "      <td>6.3</td>\n",
              "      <td>4466</td>\n",
              "      <td>[{'cast_id': 1, 'character': 'James Bond', 'cr...</td>\n",
              "      <td>[{'credit_id': '5751eed59251416b60000637', 'de...</td>\n",
              "    </tr>\n",
              "    <tr>\n",
              "      <th>3</th>\n",
              "      <td>250000000</td>\n",
              "      <td>[{\"id\": 28, \"name\": \"Action\"}, {\"id\": 80, \"nam...</td>\n",
              "      <td>http://www.thedarkknightrises.com/</td>\n",
              "      <td>49026</td>\n",
              "      <td>[{\"id\": 849, \"name\": \"dc comics\"}, {\"id\": 853,...</td>\n",
              "      <td>en</td>\n",
              "      <td>The Dark Knight Rises</td>\n",
              "      <td>Following the death of District Attorney Harve...</td>\n",
              "      <td>112.312950</td>\n",
              "      <td>[{\"name\": \"Legendary Pictures\", \"id\": 923}, {\"...</td>\n",
              "      <td>[{\"iso_3166_1\": \"US\", \"name\": \"United States o...</td>\n",
              "      <td>2012-07-16</td>\n",
              "      <td>1084939099</td>\n",
              "      <td>165.0</td>\n",
              "      <td>[{\"iso_639_1\": \"en\", \"name\": \"English\"}]</td>\n",
              "      <td>Released</td>\n",
              "      <td>The Legend Ends</td>\n",
              "      <td>The Dark Knight Rises</td>\n",
              "      <td>7.6</td>\n",
              "      <td>9106</td>\n",
              "      <td>[{'cast_id': 2, 'character': 'Bruce Wayne / Ba...</td>\n",
              "      <td>[{'credit_id': '52fe4781c3a36847f81398c3', 'de...</td>\n",
              "    </tr>\n",
              "    <tr>\n",
              "      <th>4</th>\n",
              "      <td>260000000</td>\n",
              "      <td>[{\"id\": 28, \"name\": \"Action\"}, {\"id\": 12, \"nam...</td>\n",
              "      <td>http://movies.disney.com/john-carter</td>\n",
              "      <td>49529</td>\n",
              "      <td>[{\"id\": 818, \"name\": \"based on novel\"}, {\"id\":...</td>\n",
              "      <td>en</td>\n",
              "      <td>John Carter</td>\n",
              "      <td>John Carter is a war-weary, former military ca...</td>\n",
              "      <td>43.926995</td>\n",
              "      <td>[{\"name\": \"Walt Disney Pictures\", \"id\": 2}]</td>\n",
              "      <td>[{\"iso_3166_1\": \"US\", \"name\": \"United States o...</td>\n",
              "      <td>2012-03-07</td>\n",
              "      <td>284139100</td>\n",
              "      <td>132.0</td>\n",
              "      <td>[{\"iso_639_1\": \"en\", \"name\": \"English\"}]</td>\n",
              "      <td>Released</td>\n",
              "      <td>Lost in our world, found in another.</td>\n",
              "      <td>John Carter</td>\n",
              "      <td>6.1</td>\n",
              "      <td>2124</td>\n",
              "      <td>[{'cast_id': 5, 'character': 'John Carter', 'c...</td>\n",
              "      <td>[{'credit_id': '52fe479ac3a36847f813eaa3', 'de...</td>\n",
              "    </tr>\n",
              "  </tbody>\n",
              "</table>\n",
              "</div>"
            ],
            "text/plain": [
              "      budget  ...                                               crew\n",
              "0  237000000  ...  [{'credit_id': '52fe48009251416c750aca23', 'de...\n",
              "1  300000000  ...  [{'credit_id': '52fe4232c3a36847f800b579', 'de...\n",
              "2  245000000  ...  [{'credit_id': '5751eed59251416b60000637', 'de...\n",
              "3  250000000  ...  [{'credit_id': '52fe4781c3a36847f81398c3', 'de...\n",
              "4  260000000  ...  [{'credit_id': '52fe479ac3a36847f813eaa3', 'de...\n",
              "\n",
              "[5 rows x 22 columns]"
            ]
          },
          "metadata": {},
          "execution_count": 255
        }
      ]
    },
    {
      "cell_type": "markdown",
      "metadata": {
        "id": "sjR_SEI5hAr8"
      },
      "source": [
        "### Inserindo futures csv Credits no Dataframe (2018, 2019, 2020 e 2021)\n",
        "\n"
      ]
    },
    {
      "cell_type": "markdown",
      "metadata": {
        "id": "giQGJQ9niouw"
      },
      "source": [
        "### Cast"
      ]
    },
    {
      "cell_type": "code",
      "metadata": {
        "id": "GORWRgYhg0gM"
      },
      "source": [
        "def get_cast(movie_id):\n",
        "  response = requests.get(\"https://api.themoviedb.org/3/movie/{}/credits?api_key={}\".format(movie_id, tmdb.api_key))\n",
        "  data_json = response.json()\n",
        "  return data_json[\"cast\"]"
      ],
      "execution_count": 256,
      "outputs": []
    },
    {
      "cell_type": "code",
      "metadata": {
        "id": "9a-FNhUpioBT"
      },
      "source": [
        "dfs_concat[\"cast\"] = dfs_concat[\"id\"].map(lambda x: get_cast(str(x)))"
      ],
      "execution_count": 257,
      "outputs": []
    },
    {
      "cell_type": "code",
      "metadata": {
        "colab": {
          "base_uri": "https://localhost:8080/",
          "height": 649
        },
        "id": "n0GnIbzdi52S",
        "outputId": "bda8b014-ba67-47df-80d3-dc561bd2805f"
      },
      "source": [
        "dfs_concat.head()"
      ],
      "execution_count": 258,
      "outputs": [
        {
          "output_type": "execute_result",
          "data": {
            "text/html": [
              "<div>\n",
              "<style scoped>\n",
              "    .dataframe tbody tr th:only-of-type {\n",
              "        vertical-align: middle;\n",
              "    }\n",
              "\n",
              "    .dataframe tbody tr th {\n",
              "        vertical-align: top;\n",
              "    }\n",
              "\n",
              "    .dataframe thead th {\n",
              "        text-align: right;\n",
              "    }\n",
              "</style>\n",
              "<table border=\"1\" class=\"dataframe\">\n",
              "  <thead>\n",
              "    <tr style=\"text-align: right;\">\n",
              "      <th></th>\n",
              "      <th>original_title</th>\n",
              "      <th>id</th>\n",
              "      <th>genres</th>\n",
              "      <th>budget</th>\n",
              "      <th>homepage</th>\n",
              "      <th>keywords</th>\n",
              "      <th>original_language</th>\n",
              "      <th>overview</th>\n",
              "      <th>popularity</th>\n",
              "      <th>production_companies</th>\n",
              "      <th>production_countries</th>\n",
              "      <th>release_date</th>\n",
              "      <th>revenue</th>\n",
              "      <th>runtime</th>\n",
              "      <th>spoken_languages</th>\n",
              "      <th>status</th>\n",
              "      <th>tagline</th>\n",
              "      <th>taitle</th>\n",
              "      <th>vote_average</th>\n",
              "      <th>vote_count</th>\n",
              "      <th>cast</th>\n",
              "    </tr>\n",
              "  </thead>\n",
              "  <tbody>\n",
              "    <tr>\n",
              "      <th>0</th>\n",
              "      <td>Insidious: The Last Key</td>\n",
              "      <td>406563</td>\n",
              "      <td>[{'id': 27, 'name': 'Horror'}, {'id': 9648, 'n...</td>\n",
              "      <td>10000000</td>\n",
              "      <td>http://www.insidiousmovie.com</td>\n",
              "      <td>[{'id': 2723, 'name': 'medium'}, {'id': 2849, ...</td>\n",
              "      <td>en</td>\n",
              "      <td>Parapsychologist Elise Rainier and her team tr...</td>\n",
              "      <td>42.487</td>\n",
              "      <td>[{'id': 11341, 'logo_path': '/xytTBODEy3p20ksH...</td>\n",
              "      <td>[{'iso_3166_1': 'US', 'name': 'United States o...</td>\n",
              "      <td>2018-01-03</td>\n",
              "      <td>167184112</td>\n",
              "      <td>103</td>\n",
              "      <td>[{'english_name': 'English', 'iso_639_1': 'en'...</td>\n",
              "      <td>Released</td>\n",
              "      <td>Fear comes home.</td>\n",
              "      <td>Fear comes home.</td>\n",
              "      <td>6.2</td>\n",
              "      <td>2124</td>\n",
              "      <td>[{'adult': False, 'gender': 1, 'id': 7401, 'kn...</td>\n",
              "    </tr>\n",
              "    <tr>\n",
              "      <th>1</th>\n",
              "      <td>The Strange Ones</td>\n",
              "      <td>426258</td>\n",
              "      <td>[{'id': 53, 'name': 'Thriller'}, {'id': 18, 'n...</td>\n",
              "      <td>0</td>\n",
              "      <td>http://thestrangeones.com/</td>\n",
              "      <td>[{'id': 380, 'name': 'sibling relationship'}, ...</td>\n",
              "      <td>en</td>\n",
              "      <td>Mysterious events surround the travels of two ...</td>\n",
              "      <td>7.550</td>\n",
              "      <td>[{'id': 35562, 'logo_path': '/cpeGUCuKo2vgaxzr...</td>\n",
              "      <td>[{'iso_3166_1': 'US', 'name': 'United States o...</td>\n",
              "      <td>2018-01-05</td>\n",
              "      <td>0</td>\n",
              "      <td>81</td>\n",
              "      <td>[{'english_name': 'English', 'iso_639_1': 'en'...</td>\n",
              "      <td>Released</td>\n",
              "      <td></td>\n",
              "      <td></td>\n",
              "      <td>5.5</td>\n",
              "      <td>60</td>\n",
              "      <td>[{'adult': False, 'gender': 2, 'id': 61363, 'k...</td>\n",
              "    </tr>\n",
              "    <tr>\n",
              "      <th>2</th>\n",
              "      <td>Stratton</td>\n",
              "      <td>348389</td>\n",
              "      <td>[{'id': 28, 'name': 'Action'}, {'id': 53, 'nam...</td>\n",
              "      <td>0</td>\n",
              "      <td>http://www.gfmfilms.co.uk/stratton</td>\n",
              "      <td>[{'id': 818, 'name': 'based on novel or book'}...</td>\n",
              "      <td>en</td>\n",
              "      <td>A British Special Boat Service commando tracks...</td>\n",
              "      <td>14.603</td>\n",
              "      <td>[{'id': 23970, 'logo_path': None, 'name': 'Twi...</td>\n",
              "      <td>[{'iso_3166_1': 'GB', 'name': 'United Kingdom'}]</td>\n",
              "      <td>2017-07-06</td>\n",
              "      <td>0</td>\n",
              "      <td>94</td>\n",
              "      <td>[{'english_name': 'English', 'iso_639_1': 'en'...</td>\n",
              "      <td>Released</td>\n",
              "      <td>The enemy has a weapon. So do we.</td>\n",
              "      <td>The enemy has a weapon. So do we.</td>\n",
              "      <td>4.9</td>\n",
              "      <td>168</td>\n",
              "      <td>[{'adult': False, 'gender': 2, 'id': 55470, 'k...</td>\n",
              "    </tr>\n",
              "    <tr>\n",
              "      <th>3</th>\n",
              "      <td>Sweet Country</td>\n",
              "      <td>468210</td>\n",
              "      <td>[{'id': 18, 'name': 'Drama'}, {'id': 36, 'name...</td>\n",
              "      <td>0</td>\n",
              "      <td>https://bunyaproductions.com.au/sweet-country/</td>\n",
              "      <td>[{'id': 570, 'name': 'rape'}, {'id': 2831, 'na...</td>\n",
              "      <td>en</td>\n",
              "      <td>It’s 1929 on the vast, desert-like, Eastern Ar...</td>\n",
              "      <td>5.709</td>\n",
              "      <td>[{'id': 86737, 'logo_path': None, 'name': 'Bun...</td>\n",
              "      <td>[{'iso_3166_1': 'AU', 'name': 'Australia'}]</td>\n",
              "      <td>2018-01-25</td>\n",
              "      <td>0</td>\n",
              "      <td>113</td>\n",
              "      <td>[{'english_name': 'English', 'iso_639_1': 'en'...</td>\n",
              "      <td>Released</td>\n",
              "      <td>Justice itself is put on trial</td>\n",
              "      <td>Justice itself is put on trial</td>\n",
              "      <td>6.6</td>\n",
              "      <td>128</td>\n",
              "      <td>[{'adult': False, 'gender': 2, 'id': 1887857, ...</td>\n",
              "    </tr>\n",
              "    <tr>\n",
              "      <th>4</th>\n",
              "      <td>The Commuter</td>\n",
              "      <td>399035</td>\n",
              "      <td>[{'id': 28, 'name': 'Action'}, {'id': 53, 'nam...</td>\n",
              "      <td>30000000</td>\n",
              "      <td>https://thecommuter.movie/</td>\n",
              "      <td>[{'id': 10410, 'name': 'conspiracy'}, {'id': 1...</td>\n",
              "      <td>en</td>\n",
              "      <td>A businessman, on his daily commute home, gets...</td>\n",
              "      <td>28.361</td>\n",
              "      <td>[{'id': 694, 'logo_path': '/5LEHONGkZBIoWvp1yg...</td>\n",
              "      <td>[{'iso_3166_1': 'US', 'name': 'United States o...</td>\n",
              "      <td>2018-01-11</td>\n",
              "      <td>119942387</td>\n",
              "      <td>104</td>\n",
              "      <td>[{'english_name': 'English', 'iso_639_1': 'en'...</td>\n",
              "      <td>Released</td>\n",
              "      <td>Lives are on the line</td>\n",
              "      <td>Lives are on the line</td>\n",
              "      <td>6.3</td>\n",
              "      <td>3552</td>\n",
              "      <td>[{'adult': False, 'gender': 2, 'id': 3896, 'kn...</td>\n",
              "    </tr>\n",
              "  </tbody>\n",
              "</table>\n",
              "</div>"
            ],
            "text/plain": [
              "            original_title  ...                                               cast\n",
              "0  Insidious: The Last Key  ...  [{'adult': False, 'gender': 1, 'id': 7401, 'kn...\n",
              "1         The Strange Ones  ...  [{'adult': False, 'gender': 2, 'id': 61363, 'k...\n",
              "2                 Stratton  ...  [{'adult': False, 'gender': 2, 'id': 55470, 'k...\n",
              "3            Sweet Country  ...  [{'adult': False, 'gender': 2, 'id': 1887857, ...\n",
              "4             The Commuter  ...  [{'adult': False, 'gender': 2, 'id': 3896, 'kn...\n",
              "\n",
              "[5 rows x 21 columns]"
            ]
          },
          "metadata": {},
          "execution_count": 258
        }
      ]
    },
    {
      "cell_type": "markdown",
      "metadata": {
        "id": "28t9f5RGj00K"
      },
      "source": [
        "### Crew"
      ]
    },
    {
      "cell_type": "code",
      "metadata": {
        "id": "5sUcjfeqjX_4"
      },
      "source": [
        "def get_cre(movie_id):\n",
        "  response = requests.get(\"https://api.themoviedb.org/3/movie/{}/credits?api_key={}\".format(movie_id, tmdb.api_key))\n",
        "  data_json = response.json()\n",
        "  return data_json[\"crew\"]"
      ],
      "execution_count": 259,
      "outputs": []
    },
    {
      "cell_type": "code",
      "metadata": {
        "id": "1tKM48s-jfej"
      },
      "source": [
        "dfs_concat[\"crew\"] = dfs_concat[\"id\"].map(lambda x: get_cast(str(x)))"
      ],
      "execution_count": 260,
      "outputs": []
    },
    {
      "cell_type": "code",
      "metadata": {
        "colab": {
          "base_uri": "https://localhost:8080/",
          "height": 649
        },
        "id": "YBGwyZrHkOdl",
        "outputId": "eafb47f5-e089-4b36-9cc6-aa9bb0ba4816"
      },
      "source": [
        "dfs_concat.head()"
      ],
      "execution_count": 261,
      "outputs": [
        {
          "output_type": "execute_result",
          "data": {
            "text/html": [
              "<div>\n",
              "<style scoped>\n",
              "    .dataframe tbody tr th:only-of-type {\n",
              "        vertical-align: middle;\n",
              "    }\n",
              "\n",
              "    .dataframe tbody tr th {\n",
              "        vertical-align: top;\n",
              "    }\n",
              "\n",
              "    .dataframe thead th {\n",
              "        text-align: right;\n",
              "    }\n",
              "</style>\n",
              "<table border=\"1\" class=\"dataframe\">\n",
              "  <thead>\n",
              "    <tr style=\"text-align: right;\">\n",
              "      <th></th>\n",
              "      <th>original_title</th>\n",
              "      <th>id</th>\n",
              "      <th>genres</th>\n",
              "      <th>budget</th>\n",
              "      <th>homepage</th>\n",
              "      <th>keywords</th>\n",
              "      <th>original_language</th>\n",
              "      <th>overview</th>\n",
              "      <th>popularity</th>\n",
              "      <th>production_companies</th>\n",
              "      <th>production_countries</th>\n",
              "      <th>release_date</th>\n",
              "      <th>revenue</th>\n",
              "      <th>runtime</th>\n",
              "      <th>spoken_languages</th>\n",
              "      <th>status</th>\n",
              "      <th>tagline</th>\n",
              "      <th>taitle</th>\n",
              "      <th>vote_average</th>\n",
              "      <th>vote_count</th>\n",
              "      <th>cast</th>\n",
              "      <th>crew</th>\n",
              "    </tr>\n",
              "  </thead>\n",
              "  <tbody>\n",
              "    <tr>\n",
              "      <th>0</th>\n",
              "      <td>Insidious: The Last Key</td>\n",
              "      <td>406563</td>\n",
              "      <td>[{'id': 27, 'name': 'Horror'}, {'id': 9648, 'n...</td>\n",
              "      <td>10000000</td>\n",
              "      <td>http://www.insidiousmovie.com</td>\n",
              "      <td>[{'id': 2723, 'name': 'medium'}, {'id': 2849, ...</td>\n",
              "      <td>en</td>\n",
              "      <td>Parapsychologist Elise Rainier and her team tr...</td>\n",
              "      <td>42.487</td>\n",
              "      <td>[{'id': 11341, 'logo_path': '/xytTBODEy3p20ksH...</td>\n",
              "      <td>[{'iso_3166_1': 'US', 'name': 'United States o...</td>\n",
              "      <td>2018-01-03</td>\n",
              "      <td>167184112</td>\n",
              "      <td>103</td>\n",
              "      <td>[{'english_name': 'English', 'iso_639_1': 'en'...</td>\n",
              "      <td>Released</td>\n",
              "      <td>Fear comes home.</td>\n",
              "      <td>Fear comes home.</td>\n",
              "      <td>6.2</td>\n",
              "      <td>2124</td>\n",
              "      <td>[{'adult': False, 'gender': 1, 'id': 7401, 'kn...</td>\n",
              "      <td>[{'adult': False, 'gender': 1, 'id': 7401, 'kn...</td>\n",
              "    </tr>\n",
              "    <tr>\n",
              "      <th>1</th>\n",
              "      <td>The Strange Ones</td>\n",
              "      <td>426258</td>\n",
              "      <td>[{'id': 53, 'name': 'Thriller'}, {'id': 18, 'n...</td>\n",
              "      <td>0</td>\n",
              "      <td>http://thestrangeones.com/</td>\n",
              "      <td>[{'id': 380, 'name': 'sibling relationship'}, ...</td>\n",
              "      <td>en</td>\n",
              "      <td>Mysterious events surround the travels of two ...</td>\n",
              "      <td>7.550</td>\n",
              "      <td>[{'id': 35562, 'logo_path': '/cpeGUCuKo2vgaxzr...</td>\n",
              "      <td>[{'iso_3166_1': 'US', 'name': 'United States o...</td>\n",
              "      <td>2018-01-05</td>\n",
              "      <td>0</td>\n",
              "      <td>81</td>\n",
              "      <td>[{'english_name': 'English', 'iso_639_1': 'en'...</td>\n",
              "      <td>Released</td>\n",
              "      <td></td>\n",
              "      <td></td>\n",
              "      <td>5.5</td>\n",
              "      <td>60</td>\n",
              "      <td>[{'adult': False, 'gender': 2, 'id': 61363, 'k...</td>\n",
              "      <td>[{'adult': False, 'gender': 2, 'id': 61363, 'k...</td>\n",
              "    </tr>\n",
              "    <tr>\n",
              "      <th>2</th>\n",
              "      <td>Stratton</td>\n",
              "      <td>348389</td>\n",
              "      <td>[{'id': 28, 'name': 'Action'}, {'id': 53, 'nam...</td>\n",
              "      <td>0</td>\n",
              "      <td>http://www.gfmfilms.co.uk/stratton</td>\n",
              "      <td>[{'id': 818, 'name': 'based on novel or book'}...</td>\n",
              "      <td>en</td>\n",
              "      <td>A British Special Boat Service commando tracks...</td>\n",
              "      <td>14.603</td>\n",
              "      <td>[{'id': 23970, 'logo_path': None, 'name': 'Twi...</td>\n",
              "      <td>[{'iso_3166_1': 'GB', 'name': 'United Kingdom'}]</td>\n",
              "      <td>2017-07-06</td>\n",
              "      <td>0</td>\n",
              "      <td>94</td>\n",
              "      <td>[{'english_name': 'English', 'iso_639_1': 'en'...</td>\n",
              "      <td>Released</td>\n",
              "      <td>The enemy has a weapon. So do we.</td>\n",
              "      <td>The enemy has a weapon. So do we.</td>\n",
              "      <td>4.9</td>\n",
              "      <td>168</td>\n",
              "      <td>[{'adult': False, 'gender': 2, 'id': 55470, 'k...</td>\n",
              "      <td>[{'adult': False, 'gender': 2, 'id': 55470, 'k...</td>\n",
              "    </tr>\n",
              "    <tr>\n",
              "      <th>3</th>\n",
              "      <td>Sweet Country</td>\n",
              "      <td>468210</td>\n",
              "      <td>[{'id': 18, 'name': 'Drama'}, {'id': 36, 'name...</td>\n",
              "      <td>0</td>\n",
              "      <td>https://bunyaproductions.com.au/sweet-country/</td>\n",
              "      <td>[{'id': 570, 'name': 'rape'}, {'id': 2831, 'na...</td>\n",
              "      <td>en</td>\n",
              "      <td>It’s 1929 on the vast, desert-like, Eastern Ar...</td>\n",
              "      <td>5.709</td>\n",
              "      <td>[{'id': 86737, 'logo_path': None, 'name': 'Bun...</td>\n",
              "      <td>[{'iso_3166_1': 'AU', 'name': 'Australia'}]</td>\n",
              "      <td>2018-01-25</td>\n",
              "      <td>0</td>\n",
              "      <td>113</td>\n",
              "      <td>[{'english_name': 'English', 'iso_639_1': 'en'...</td>\n",
              "      <td>Released</td>\n",
              "      <td>Justice itself is put on trial</td>\n",
              "      <td>Justice itself is put on trial</td>\n",
              "      <td>6.6</td>\n",
              "      <td>128</td>\n",
              "      <td>[{'adult': False, 'gender': 2, 'id': 1887857, ...</td>\n",
              "      <td>[{'adult': False, 'gender': 2, 'id': 1887857, ...</td>\n",
              "    </tr>\n",
              "    <tr>\n",
              "      <th>4</th>\n",
              "      <td>The Commuter</td>\n",
              "      <td>399035</td>\n",
              "      <td>[{'id': 28, 'name': 'Action'}, {'id': 53, 'nam...</td>\n",
              "      <td>30000000</td>\n",
              "      <td>https://thecommuter.movie/</td>\n",
              "      <td>[{'id': 10410, 'name': 'conspiracy'}, {'id': 1...</td>\n",
              "      <td>en</td>\n",
              "      <td>A businessman, on his daily commute home, gets...</td>\n",
              "      <td>28.361</td>\n",
              "      <td>[{'id': 694, 'logo_path': '/5LEHONGkZBIoWvp1yg...</td>\n",
              "      <td>[{'iso_3166_1': 'US', 'name': 'United States o...</td>\n",
              "      <td>2018-01-11</td>\n",
              "      <td>119942387</td>\n",
              "      <td>104</td>\n",
              "      <td>[{'english_name': 'English', 'iso_639_1': 'en'...</td>\n",
              "      <td>Released</td>\n",
              "      <td>Lives are on the line</td>\n",
              "      <td>Lives are on the line</td>\n",
              "      <td>6.3</td>\n",
              "      <td>3552</td>\n",
              "      <td>[{'adult': False, 'gender': 2, 'id': 3896, 'kn...</td>\n",
              "      <td>[{'adult': False, 'gender': 2, 'id': 3896, 'kn...</td>\n",
              "    </tr>\n",
              "  </tbody>\n",
              "</table>\n",
              "</div>"
            ],
            "text/plain": [
              "            original_title  ...                                               crew\n",
              "0  Insidious: The Last Key  ...  [{'adult': False, 'gender': 1, 'id': 7401, 'kn...\n",
              "1         The Strange Ones  ...  [{'adult': False, 'gender': 2, 'id': 61363, 'k...\n",
              "2                 Stratton  ...  [{'adult': False, 'gender': 2, 'id': 55470, 'k...\n",
              "3            Sweet Country  ...  [{'adult': False, 'gender': 2, 'id': 1887857, ...\n",
              "4             The Commuter  ...  [{'adult': False, 'gender': 2, 'id': 3896, 'kn...\n",
              "\n",
              "[5 rows x 22 columns]"
            ]
          },
          "metadata": {},
          "execution_count": 261
        }
      ]
    },
    {
      "cell_type": "markdown",
      "metadata": {
        "id": "vZGyCTNWkheN"
      },
      "source": [
        "### Concatenação final"
      ]
    },
    {
      "cell_type": "code",
      "metadata": {
        "colab": {
          "base_uri": "https://localhost:8080/",
          "height": 717
        },
        "id": "cS4HNCR1lNF3",
        "outputId": "7db4e561-c0ca-4440-c3b2-739af8e0b942"
      },
      "source": [
        "df_movies.head()"
      ],
      "execution_count": 262,
      "outputs": [
        {
          "output_type": "execute_result",
          "data": {
            "text/html": [
              "<div>\n",
              "<style scoped>\n",
              "    .dataframe tbody tr th:only-of-type {\n",
              "        vertical-align: middle;\n",
              "    }\n",
              "\n",
              "    .dataframe tbody tr th {\n",
              "        vertical-align: top;\n",
              "    }\n",
              "\n",
              "    .dataframe thead th {\n",
              "        text-align: right;\n",
              "    }\n",
              "</style>\n",
              "<table border=\"1\" class=\"dataframe\">\n",
              "  <thead>\n",
              "    <tr style=\"text-align: right;\">\n",
              "      <th></th>\n",
              "      <th>budget</th>\n",
              "      <th>genres</th>\n",
              "      <th>homepage</th>\n",
              "      <th>id</th>\n",
              "      <th>keywords</th>\n",
              "      <th>original_language</th>\n",
              "      <th>original_title</th>\n",
              "      <th>overview</th>\n",
              "      <th>popularity</th>\n",
              "      <th>production_companies</th>\n",
              "      <th>production_countries</th>\n",
              "      <th>release_date</th>\n",
              "      <th>revenue</th>\n",
              "      <th>runtime</th>\n",
              "      <th>spoken_languages</th>\n",
              "      <th>status</th>\n",
              "      <th>tagline</th>\n",
              "      <th>title</th>\n",
              "      <th>vote_average</th>\n",
              "      <th>vote_count</th>\n",
              "      <th>cast</th>\n",
              "      <th>crew</th>\n",
              "    </tr>\n",
              "  </thead>\n",
              "  <tbody>\n",
              "    <tr>\n",
              "      <th>0</th>\n",
              "      <td>237000000</td>\n",
              "      <td>[{\"id\": 28, \"name\": \"Action\"}, {\"id\": 12, \"nam...</td>\n",
              "      <td>http://www.avatarmovie.com/</td>\n",
              "      <td>19995</td>\n",
              "      <td>[{\"id\": 1463, \"name\": \"culture clash\"}, {\"id\":...</td>\n",
              "      <td>en</td>\n",
              "      <td>Avatar</td>\n",
              "      <td>In the 22nd century, a paraplegic Marine is di...</td>\n",
              "      <td>150.437577</td>\n",
              "      <td>[{\"name\": \"Ingenious Film Partners\", \"id\": 289...</td>\n",
              "      <td>[{\"iso_3166_1\": \"US\", \"name\": \"United States o...</td>\n",
              "      <td>2009-12-10</td>\n",
              "      <td>2787965087</td>\n",
              "      <td>162.0</td>\n",
              "      <td>[{\"iso_639_1\": \"en\", \"name\": \"English\"}, {\"iso...</td>\n",
              "      <td>Released</td>\n",
              "      <td>Enter the World of Pandora.</td>\n",
              "      <td>Avatar</td>\n",
              "      <td>7.2</td>\n",
              "      <td>11800</td>\n",
              "      <td>[{'cast_id': 242, 'character': 'Jake Sully', '...</td>\n",
              "      <td>[{'credit_id': '52fe48009251416c750aca23', 'de...</td>\n",
              "    </tr>\n",
              "    <tr>\n",
              "      <th>1</th>\n",
              "      <td>300000000</td>\n",
              "      <td>[{\"id\": 12, \"name\": \"Adventure\"}, {\"id\": 14, \"...</td>\n",
              "      <td>http://disney.go.com/disneypictures/pirates/</td>\n",
              "      <td>285</td>\n",
              "      <td>[{\"id\": 270, \"name\": \"ocean\"}, {\"id\": 726, \"na...</td>\n",
              "      <td>en</td>\n",
              "      <td>Pirates of the Caribbean: At World's End</td>\n",
              "      <td>Captain Barbossa, long believed to be dead, ha...</td>\n",
              "      <td>139.082615</td>\n",
              "      <td>[{\"name\": \"Walt Disney Pictures\", \"id\": 2}, {\"...</td>\n",
              "      <td>[{\"iso_3166_1\": \"US\", \"name\": \"United States o...</td>\n",
              "      <td>2007-05-19</td>\n",
              "      <td>961000000</td>\n",
              "      <td>169.0</td>\n",
              "      <td>[{\"iso_639_1\": \"en\", \"name\": \"English\"}]</td>\n",
              "      <td>Released</td>\n",
              "      <td>At the end of the world, the adventure begins.</td>\n",
              "      <td>Pirates of the Caribbean: At World's End</td>\n",
              "      <td>6.9</td>\n",
              "      <td>4500</td>\n",
              "      <td>[{'cast_id': 4, 'character': 'Captain Jack Spa...</td>\n",
              "      <td>[{'credit_id': '52fe4232c3a36847f800b579', 'de...</td>\n",
              "    </tr>\n",
              "    <tr>\n",
              "      <th>2</th>\n",
              "      <td>245000000</td>\n",
              "      <td>[{\"id\": 28, \"name\": \"Action\"}, {\"id\": 12, \"nam...</td>\n",
              "      <td>http://www.sonypictures.com/movies/spectre/</td>\n",
              "      <td>206647</td>\n",
              "      <td>[{\"id\": 470, \"name\": \"spy\"}, {\"id\": 818, \"name...</td>\n",
              "      <td>en</td>\n",
              "      <td>Spectre</td>\n",
              "      <td>A cryptic message from Bond’s past sends him o...</td>\n",
              "      <td>107.376788</td>\n",
              "      <td>[{\"name\": \"Columbia Pictures\", \"id\": 5}, {\"nam...</td>\n",
              "      <td>[{\"iso_3166_1\": \"GB\", \"name\": \"United Kingdom\"...</td>\n",
              "      <td>2015-10-26</td>\n",
              "      <td>880674609</td>\n",
              "      <td>148.0</td>\n",
              "      <td>[{\"iso_639_1\": \"fr\", \"name\": \"Fran\\u00e7ais\"},...</td>\n",
              "      <td>Released</td>\n",
              "      <td>A Plan No One Escapes</td>\n",
              "      <td>Spectre</td>\n",
              "      <td>6.3</td>\n",
              "      <td>4466</td>\n",
              "      <td>[{'cast_id': 1, 'character': 'James Bond', 'cr...</td>\n",
              "      <td>[{'credit_id': '5751eed59251416b60000637', 'de...</td>\n",
              "    </tr>\n",
              "    <tr>\n",
              "      <th>3</th>\n",
              "      <td>250000000</td>\n",
              "      <td>[{\"id\": 28, \"name\": \"Action\"}, {\"id\": 80, \"nam...</td>\n",
              "      <td>http://www.thedarkknightrises.com/</td>\n",
              "      <td>49026</td>\n",
              "      <td>[{\"id\": 849, \"name\": \"dc comics\"}, {\"id\": 853,...</td>\n",
              "      <td>en</td>\n",
              "      <td>The Dark Knight Rises</td>\n",
              "      <td>Following the death of District Attorney Harve...</td>\n",
              "      <td>112.312950</td>\n",
              "      <td>[{\"name\": \"Legendary Pictures\", \"id\": 923}, {\"...</td>\n",
              "      <td>[{\"iso_3166_1\": \"US\", \"name\": \"United States o...</td>\n",
              "      <td>2012-07-16</td>\n",
              "      <td>1084939099</td>\n",
              "      <td>165.0</td>\n",
              "      <td>[{\"iso_639_1\": \"en\", \"name\": \"English\"}]</td>\n",
              "      <td>Released</td>\n",
              "      <td>The Legend Ends</td>\n",
              "      <td>The Dark Knight Rises</td>\n",
              "      <td>7.6</td>\n",
              "      <td>9106</td>\n",
              "      <td>[{'cast_id': 2, 'character': 'Bruce Wayne / Ba...</td>\n",
              "      <td>[{'credit_id': '52fe4781c3a36847f81398c3', 'de...</td>\n",
              "    </tr>\n",
              "    <tr>\n",
              "      <th>4</th>\n",
              "      <td>260000000</td>\n",
              "      <td>[{\"id\": 28, \"name\": \"Action\"}, {\"id\": 12, \"nam...</td>\n",
              "      <td>http://movies.disney.com/john-carter</td>\n",
              "      <td>49529</td>\n",
              "      <td>[{\"id\": 818, \"name\": \"based on novel\"}, {\"id\":...</td>\n",
              "      <td>en</td>\n",
              "      <td>John Carter</td>\n",
              "      <td>John Carter is a war-weary, former military ca...</td>\n",
              "      <td>43.926995</td>\n",
              "      <td>[{\"name\": \"Walt Disney Pictures\", \"id\": 2}]</td>\n",
              "      <td>[{\"iso_3166_1\": \"US\", \"name\": \"United States o...</td>\n",
              "      <td>2012-03-07</td>\n",
              "      <td>284139100</td>\n",
              "      <td>132.0</td>\n",
              "      <td>[{\"iso_639_1\": \"en\", \"name\": \"English\"}]</td>\n",
              "      <td>Released</td>\n",
              "      <td>Lost in our world, found in another.</td>\n",
              "      <td>John Carter</td>\n",
              "      <td>6.1</td>\n",
              "      <td>2124</td>\n",
              "      <td>[{'cast_id': 5, 'character': 'John Carter', 'c...</td>\n",
              "      <td>[{'credit_id': '52fe479ac3a36847f813eaa3', 'de...</td>\n",
              "    </tr>\n",
              "  </tbody>\n",
              "</table>\n",
              "</div>"
            ],
            "text/plain": [
              "      budget  ...                                               crew\n",
              "0  237000000  ...  [{'credit_id': '52fe48009251416c750aca23', 'de...\n",
              "1  300000000  ...  [{'credit_id': '52fe4232c3a36847f800b579', 'de...\n",
              "2  245000000  ...  [{'credit_id': '5751eed59251416b60000637', 'de...\n",
              "3  250000000  ...  [{'credit_id': '52fe4781c3a36847f81398c3', 'de...\n",
              "4  260000000  ...  [{'credit_id': '52fe479ac3a36847f813eaa3', 'de...\n",
              "\n",
              "[5 rows x 22 columns]"
            ]
          },
          "metadata": {},
          "execution_count": 262
        }
      ]
    },
    {
      "cell_type": "code",
      "metadata": {
        "id": "VrvYKOUilQim"
      },
      "source": [
        "dataframes = [df_movies, dfs_concat]"
      ],
      "execution_count": 263,
      "outputs": []
    },
    {
      "cell_type": "code",
      "metadata": {
        "id": "xoLjmaSprGjO"
      },
      "source": [
        "df_final = pd.concat(dataframes)"
      ],
      "execution_count": 264,
      "outputs": []
    },
    {
      "cell_type": "code",
      "metadata": {
        "colab": {
          "base_uri": "https://localhost:8080/",
          "height": 683
        },
        "id": "3fARoktWrL75",
        "outputId": "ca68c368-ddeb-43b2-a918-40b9e3d8c090"
      },
      "source": [
        "df_final.tail()"
      ],
      "execution_count": 265,
      "outputs": [
        {
          "output_type": "execute_result",
          "data": {
            "text/html": [
              "<div>\n",
              "<style scoped>\n",
              "    .dataframe tbody tr th:only-of-type {\n",
              "        vertical-align: middle;\n",
              "    }\n",
              "\n",
              "    .dataframe tbody tr th {\n",
              "        vertical-align: top;\n",
              "    }\n",
              "\n",
              "    .dataframe thead th {\n",
              "        text-align: right;\n",
              "    }\n",
              "</style>\n",
              "<table border=\"1\" class=\"dataframe\">\n",
              "  <thead>\n",
              "    <tr style=\"text-align: right;\">\n",
              "      <th></th>\n",
              "      <th>budget</th>\n",
              "      <th>genres</th>\n",
              "      <th>homepage</th>\n",
              "      <th>id</th>\n",
              "      <th>keywords</th>\n",
              "      <th>original_language</th>\n",
              "      <th>original_title</th>\n",
              "      <th>overview</th>\n",
              "      <th>popularity</th>\n",
              "      <th>production_companies</th>\n",
              "      <th>production_countries</th>\n",
              "      <th>release_date</th>\n",
              "      <th>revenue</th>\n",
              "      <th>runtime</th>\n",
              "      <th>spoken_languages</th>\n",
              "      <th>status</th>\n",
              "      <th>tagline</th>\n",
              "      <th>title</th>\n",
              "      <th>vote_average</th>\n",
              "      <th>vote_count</th>\n",
              "      <th>cast</th>\n",
              "      <th>crew</th>\n",
              "      <th>taitle</th>\n",
              "    </tr>\n",
              "  </thead>\n",
              "  <tbody>\n",
              "    <tr>\n",
              "      <th>265</th>\n",
              "      <td>28000000</td>\n",
              "      <td>[{'id': 18, 'name': 'Drama'}]</td>\n",
              "      <td>https://www.dehmovie.com</td>\n",
              "      <td>567690</td>\n",
              "      <td>[{'id': 236, 'name': 'suicide'}, {'id': 1646, ...</td>\n",
              "      <td>en</td>\n",
              "      <td>Dear Evan Hansen</td>\n",
              "      <td>Evan Hansen, a high schooler with social anxie...</td>\n",
              "      <td>28.975</td>\n",
              "      <td>[{'id': 33, 'logo_path': '/8lvHyhjr8oUKOOy2dKX...</td>\n",
              "      <td>[{'iso_3166_1': 'CN', 'name': 'China'}, {'iso_...</td>\n",
              "      <td>2021-09-24</td>\n",
              "      <td>15732069</td>\n",
              "      <td>137.0</td>\n",
              "      <td>[{'english_name': 'English', 'iso_639_1': 'en'...</td>\n",
              "      <td>Released</td>\n",
              "      <td>An honest and original story for the outsider ...</td>\n",
              "      <td>NaN</td>\n",
              "      <td>6.7</td>\n",
              "      <td>63</td>\n",
              "      <td>[{'adult': False, 'gender': 2, 'id': 1107296, ...</td>\n",
              "      <td>[{'adult': False, 'gender': 2, 'id': 1107296, ...</td>\n",
              "      <td>An honest and original story for the outsider ...</td>\n",
              "    </tr>\n",
              "    <tr>\n",
              "      <th>266</th>\n",
              "      <td>0</td>\n",
              "      <td>[{'id': 16, 'name': 'Animation'}, {'id': 10751...</td>\n",
              "      <td></td>\n",
              "      <td>597316</td>\n",
              "      <td>[{'id': 3987, 'name': 'flying horse'}, {'id': ...</td>\n",
              "      <td>en</td>\n",
              "      <td>My Little Pony: A New Generation</td>\n",
              "      <td>Equestria's divided. But a bright-eyed hero be...</td>\n",
              "      <td>324.064</td>\n",
              "      <td>[{'id': 57031, 'logo_path': None, 'name': 'All...</td>\n",
              "      <td>[{'iso_3166_1': 'CA', 'name': 'Canada'}, {'iso...</td>\n",
              "      <td>2021-09-23</td>\n",
              "      <td>0</td>\n",
              "      <td>91.0</td>\n",
              "      <td>[{'english_name': 'English', 'iso_639_1': 'en'...</td>\n",
              "      <td>Released</td>\n",
              "      <td>Ride or Fly</td>\n",
              "      <td>NaN</td>\n",
              "      <td>8.1</td>\n",
              "      <td>134</td>\n",
              "      <td>[{'adult': False, 'gender': 1, 'id': 67599, 'k...</td>\n",
              "      <td>[{'adult': False, 'gender': 1, 'id': 67599, 'k...</td>\n",
              "      <td>Ride or Fly</td>\n",
              "    </tr>\n",
              "    <tr>\n",
              "      <th>267</th>\n",
              "      <td>0</td>\n",
              "      <td>[{'id': 53, 'name': 'Thriller'}]</td>\n",
              "      <td>https://www.netflix.com/title/81345983</td>\n",
              "      <td>567748</td>\n",
              "      <td>[{'id': 9714, 'name': 'remake'}, {'id': 12565,...</td>\n",
              "      <td>en</td>\n",
              "      <td>The Guilty</td>\n",
              "      <td>A demoted police officer assigned to a call di...</td>\n",
              "      <td>112.210</td>\n",
              "      <td>[{'id': 89261, 'logo_path': '/pEIvnw8XMErTLclR...</td>\n",
              "      <td>[{'iso_3166_1': 'US', 'name': 'United States o...</td>\n",
              "      <td>2021-09-24</td>\n",
              "      <td>0</td>\n",
              "      <td>91.0</td>\n",
              "      <td>[{'english_name': 'English', 'iso_639_1': 'en'...</td>\n",
              "      <td>Released</td>\n",
              "      <td>Listen carefully.</td>\n",
              "      <td>NaN</td>\n",
              "      <td>6.5</td>\n",
              "      <td>1083</td>\n",
              "      <td>[{'adult': False, 'gender': 2, 'id': 131, 'kno...</td>\n",
              "      <td>[{'adult': False, 'gender': 2, 'id': 131, 'kno...</td>\n",
              "      <td>Listen carefully.</td>\n",
              "    </tr>\n",
              "    <tr>\n",
              "      <th>268</th>\n",
              "      <td>0</td>\n",
              "      <td>[{'id': 18, 'name': 'Drama'}]</td>\n",
              "      <td>https://amazon.com/dp/B09FDDGZNL</td>\n",
              "      <td>667969</td>\n",
              "      <td>[]</td>\n",
              "      <td>en</td>\n",
              "      <td>Birds of Paradise</td>\n",
              "      <td>Two dancers at an elite ballet academy in Pari...</td>\n",
              "      <td>58.338</td>\n",
              "      <td>[{'id': 10039, 'logo_path': '/b8w4LldQolMKiLZw...</td>\n",
              "      <td>[{'iso_3166_1': 'HU', 'name': 'Hungary'}, {'is...</td>\n",
              "      <td>2021-09-23</td>\n",
              "      <td>0</td>\n",
              "      <td>113.0</td>\n",
              "      <td>[{'english_name': 'English', 'iso_639_1': 'en'...</td>\n",
              "      <td>Released</td>\n",
              "      <td>Betrayal is a dance.</td>\n",
              "      <td>NaN</td>\n",
              "      <td>7.0</td>\n",
              "      <td>73</td>\n",
              "      <td>[{'adult': False, 'gender': 1, 'id': 2048372, ...</td>\n",
              "      <td>[{'adult': False, 'gender': 1, 'id': 2048372, ...</td>\n",
              "      <td>Betrayal is a dance.</td>\n",
              "    </tr>\n",
              "    <tr>\n",
              "      <th>269</th>\n",
              "      <td>14000000</td>\n",
              "      <td>[{'id': 10749, 'name': 'Romance'}, {'id': 18, ...</td>\n",
              "      <td></td>\n",
              "      <td>744275</td>\n",
              "      <td>[{'id': 818, 'name': 'based on novel or book'}...</td>\n",
              "      <td>en</td>\n",
              "      <td>After We Fell</td>\n",
              "      <td>Just as Tessa's life begins to become unglued,...</td>\n",
              "      <td>2272.469</td>\n",
              "      <td>[{'id': 6626, 'logo_path': '/A1BnMoWjzjOrjzpWi...</td>\n",
              "      <td>[{'iso_3166_1': 'FR', 'name': 'France'}, {'iso...</td>\n",
              "      <td>2021-09-01</td>\n",
              "      <td>19000000</td>\n",
              "      <td>99.0</td>\n",
              "      <td>[{'english_name': 'English', 'iso_639_1': 'en'...</td>\n",
              "      <td>Released</td>\n",
              "      <td></td>\n",
              "      <td>NaN</td>\n",
              "      <td>7.3</td>\n",
              "      <td>828</td>\n",
              "      <td>[{'adult': False, 'gender': 1, 'id': 1753914, ...</td>\n",
              "      <td>[{'adult': False, 'gender': 1, 'id': 1753914, ...</td>\n",
              "      <td></td>\n",
              "    </tr>\n",
              "  </tbody>\n",
              "</table>\n",
              "</div>"
            ],
            "text/plain": [
              "       budget  ...                                             taitle\n",
              "265  28000000  ...  An honest and original story for the outsider ...\n",
              "266         0  ...                                        Ride or Fly\n",
              "267         0  ...                                  Listen carefully.\n",
              "268         0  ...                               Betrayal is a dance.\n",
              "269  14000000  ...                                                   \n",
              "\n",
              "[5 rows x 23 columns]"
            ]
          },
          "metadata": {},
          "execution_count": 265
        }
      ]
    },
    {
      "cell_type": "code",
      "metadata": {
        "colab": {
          "base_uri": "https://localhost:8080/"
        },
        "id": "uz7_c1BarT0i",
        "outputId": "13bb6926-4ed0-40f5-e40d-b0f99b3a4c73"
      },
      "source": [
        "df_final.shape"
      ],
      "execution_count": 266,
      "outputs": [
        {
          "output_type": "execute_result",
          "data": {
            "text/plain": [
              "(5492, 23)"
            ]
          },
          "metadata": {},
          "execution_count": 266
        }
      ]
    },
    {
      "cell_type": "markdown",
      "metadata": {
        "id": "xv6zzkhbrzPv"
      },
      "source": [
        "## Salvar em um CSV"
      ]
    },
    {
      "cell_type": "code",
      "metadata": {
        "id": "qZLi9Jfxr1b1"
      },
      "source": [
        "df_final.to_csv(r'/content/df_final.csv', index=False, header=True)"
      ],
      "execution_count": 267,
      "outputs": []
    },
    {
      "cell_type": "code",
      "metadata": {
        "id": "9H2QfhMSsZzk"
      },
      "source": [
        ""
      ],
      "execution_count": null,
      "outputs": []
    }
  ]
}